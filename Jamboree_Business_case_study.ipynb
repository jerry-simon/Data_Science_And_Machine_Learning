{
  "cells": [
    {
      "cell_type": "markdown",
      "metadata": {
        "id": "view-in-github",
        "colab_type": "text"
      },
      "source": [
        "<a href=\"https://colab.research.google.com/github/jerry-simon/Data_Science_And_Machine_Learning/blob/main/Jamboree_Business_case_study.ipynb\" target=\"_parent\"><img src=\"https://colab.research.google.com/assets/colab-badge.svg\" alt=\"Open In Colab\"/></a>"
      ]
    },
    {
      "cell_type": "markdown",
      "id": "018dc401-a836-44db-b2ce-21550d8d377e",
      "metadata": {
        "id": "018dc401-a836-44db-b2ce-21550d8d377e"
      },
      "source": [
        "# Jamboree Education - Problem statement\n",
        "Jamboree is an education platform that has helped thousands of students to prepare for competitive exams such as GMAT, GRE or SAT. They have a unique problem solving methods to ensure maximum scores with minimum effort. A recent feature update in their platform helps students to visit their website and check their probability of getting into the IVY league college.\n",
        "\n",
        "As a Data Analyst/ Scientist I have to help on the following things:-\n",
        "> What factors are important in graduate admissions?\n",
        "\n",
        "> How these factors are interrelated among themselves?\n",
        "\n",
        "> It will also help predict one's chances of admission given the rest of the variables."
      ]
    },
    {
      "cell_type": "code",
      "execution_count": null,
      "id": "043c8d57-8379-4142-9a25-b46fc13c56b0",
      "metadata": {
        "id": "043c8d57-8379-4142-9a25-b46fc13c56b0"
      },
      "outputs": [],
      "source": [
        "#Importing essential library files.\n",
        "import numpy as np\n",
        "import pandas as pd\n",
        "import matplotlib.pyplot as plt\n",
        "import seaborn as sns"
      ]
    },
    {
      "cell_type": "markdown",
      "id": "4f93d1f6-7e9f-4d23-8e4f-0bba01ef4546",
      "metadata": {
        "id": "4f93d1f6-7e9f-4d23-8e4f-0bba01ef4546"
      },
      "source": [
        "### Summary of the Jamboree dataset"
      ]
    },
    {
      "cell_type": "code",
      "execution_count": null,
      "id": "4ec55ce1-f6ab-4d43-89df-3b3dba38f5f4",
      "metadata": {
        "id": "4ec55ce1-f6ab-4d43-89df-3b3dba38f5f4",
        "outputId": "9efc3e43-3dab-4add-a8aa-352614c9ba64"
      },
      "outputs": [
        {
          "data": {
            "text/html": [
              "<div>\n",
              "<style scoped>\n",
              "    .dataframe tbody tr th:only-of-type {\n",
              "        vertical-align: middle;\n",
              "    }\n",
              "\n",
              "    .dataframe tbody tr th {\n",
              "        vertical-align: top;\n",
              "    }\n",
              "\n",
              "    .dataframe thead th {\n",
              "        text-align: right;\n",
              "    }\n",
              "</style>\n",
              "<table border=\"1\" class=\"dataframe\">\n",
              "  <thead>\n",
              "    <tr style=\"text-align: right;\">\n",
              "      <th></th>\n",
              "      <th>Serial No.</th>\n",
              "      <th>GRE Score</th>\n",
              "      <th>TOEFL Score</th>\n",
              "      <th>University Rating</th>\n",
              "      <th>SOP</th>\n",
              "      <th>LOR</th>\n",
              "      <th>CGPA</th>\n",
              "      <th>Research</th>\n",
              "      <th>Chance of Admit</th>\n",
              "    </tr>\n",
              "  </thead>\n",
              "  <tbody>\n",
              "    <tr>\n",
              "      <th>0</th>\n",
              "      <td>1</td>\n",
              "      <td>337</td>\n",
              "      <td>118</td>\n",
              "      <td>4</td>\n",
              "      <td>4.5</td>\n",
              "      <td>4.5</td>\n",
              "      <td>9.65</td>\n",
              "      <td>1</td>\n",
              "      <td>0.92</td>\n",
              "    </tr>\n",
              "    <tr>\n",
              "      <th>1</th>\n",
              "      <td>2</td>\n",
              "      <td>324</td>\n",
              "      <td>107</td>\n",
              "      <td>4</td>\n",
              "      <td>4.0</td>\n",
              "      <td>4.5</td>\n",
              "      <td>8.87</td>\n",
              "      <td>1</td>\n",
              "      <td>0.76</td>\n",
              "    </tr>\n",
              "    <tr>\n",
              "      <th>2</th>\n",
              "      <td>3</td>\n",
              "      <td>316</td>\n",
              "      <td>104</td>\n",
              "      <td>3</td>\n",
              "      <td>3.0</td>\n",
              "      <td>3.5</td>\n",
              "      <td>8.00</td>\n",
              "      <td>1</td>\n",
              "      <td>0.72</td>\n",
              "    </tr>\n",
              "    <tr>\n",
              "      <th>3</th>\n",
              "      <td>4</td>\n",
              "      <td>322</td>\n",
              "      <td>110</td>\n",
              "      <td>3</td>\n",
              "      <td>3.5</td>\n",
              "      <td>2.5</td>\n",
              "      <td>8.67</td>\n",
              "      <td>1</td>\n",
              "      <td>0.80</td>\n",
              "    </tr>\n",
              "    <tr>\n",
              "      <th>4</th>\n",
              "      <td>5</td>\n",
              "      <td>314</td>\n",
              "      <td>103</td>\n",
              "      <td>2</td>\n",
              "      <td>2.0</td>\n",
              "      <td>3.0</td>\n",
              "      <td>8.21</td>\n",
              "      <td>0</td>\n",
              "      <td>0.65</td>\n",
              "    </tr>\n",
              "  </tbody>\n",
              "</table>\n",
              "</div>"
            ],
            "text/plain": [
              "   Serial No.  GRE Score  TOEFL Score  University Rating  SOP  LOR   CGPA  \\\n",
              "0           1        337          118                  4  4.5   4.5  9.65   \n",
              "1           2        324          107                  4  4.0   4.5  8.87   \n",
              "2           3        316          104                  3  3.0   3.5  8.00   \n",
              "3           4        322          110                  3  3.5   2.5  8.67   \n",
              "4           5        314          103                  2  2.0   3.0  8.21   \n",
              "\n",
              "   Research  Chance of Admit   \n",
              "0         1              0.92  \n",
              "1         1              0.76  \n",
              "2         1              0.72  \n",
              "3         1              0.80  \n",
              "4         0              0.65  "
            ]
          },
          "execution_count": 4,
          "metadata": {},
          "output_type": "execute_result"
        }
      ],
      "source": [
        "#Reading the dataset and displaying the top 10 for a basic understanding.\n",
        "df = pd.read_csv(\"Jamboree_Admission.csv\")\n",
        "df.head()"
      ]
    },
    {
      "cell_type": "code",
      "execution_count": null,
      "id": "955ba0e9-2f23-40af-bd21-a1a05fb3a2af",
      "metadata": {
        "id": "955ba0e9-2f23-40af-bd21-a1a05fb3a2af",
        "outputId": "0ae004b6-5ecc-4c9a-db29-5f260f50ae76"
      },
      "outputs": [
        {
          "data": {
            "text/plain": [
              "(500, 9)"
            ]
          },
          "execution_count": 5,
          "metadata": {},
          "output_type": "execute_result"
        }
      ],
      "source": [
        "#Checking the shape of the data\n",
        "df.shape"
      ]
    },
    {
      "cell_type": "markdown",
      "id": "3b10f246-8670-4754-ad71-02cd03847ab6",
      "metadata": {
        "id": "3b10f246-8670-4754-ad71-02cd03847ab6"
      },
      "source": [
        "The Jamboree dataset consists of **500 records** and **9 variables** in it."
      ]
    },
    {
      "cell_type": "code",
      "execution_count": null,
      "id": "571fd5f9-1111-4920-ae18-e5f2df8da2a8",
      "metadata": {
        "id": "571fd5f9-1111-4920-ae18-e5f2df8da2a8",
        "outputId": "c846b1a5-5079-4879-f5e2-7a72ecf61ec9"
      },
      "outputs": [
        {
          "name": "stdout",
          "output_type": "stream",
          "text": [
            "<class 'pandas.core.frame.DataFrame'>\n",
            "RangeIndex: 500 entries, 0 to 499\n",
            "Data columns (total 9 columns):\n",
            " #   Column             Non-Null Count  Dtype  \n",
            "---  ------             --------------  -----  \n",
            " 0   Serial No.         500 non-null    int64  \n",
            " 1   GRE Score          500 non-null    int64  \n",
            " 2   TOEFL Score        500 non-null    int64  \n",
            " 3   University Rating  500 non-null    int64  \n",
            " 4   SOP                500 non-null    float64\n",
            " 5   LOR                500 non-null    float64\n",
            " 6   CGPA               500 non-null    float64\n",
            " 7   Research           500 non-null    int64  \n",
            " 8   Chance of Admit    500 non-null    float64\n",
            "dtypes: float64(4), int64(5)\n",
            "memory usage: 35.3 KB\n"
          ]
        }
      ],
      "source": [
        "#To display some basic information about the Jamboree dataset\n",
        "df.info()"
      ]
    },
    {
      "cell_type": "markdown",
      "id": "090ae096-894f-4a97-bb44-4b841073700a",
      "metadata": {
        "id": "090ae096-894f-4a97-bb44-4b841073700a"
      },
      "source": [
        "The dataset comprises 500 records, indexed from 0 to 499, and includes a total of 9 columns. Among these, 5 columns—**Serial No.**, **GRE Score**, **TOEFL Score**, **University Rating**, and **Research**—are of integer data type. The remaining 4 columns—**SOP**, **LOR**, **CGPA**, and **Chance of Admit**—are of floating-point data type. Notably, the dataset is complete and contains no null values, making it well-structured for analysis. Last but not least, the total memory usage of the dataset is 35.3 KB."
      ]
    },
    {
      "cell_type": "code",
      "execution_count": null,
      "id": "b292bc77-4be6-4561-abf7-99220d6e6e78",
      "metadata": {
        "id": "b292bc77-4be6-4561-abf7-99220d6e6e78",
        "outputId": "53aec82c-4f01-46bd-d21f-591c3ac08e2a"
      },
      "outputs": [
        {
          "name": "stdout",
          "output_type": "stream",
          "text": [
            "<class 'pandas.core.frame.DataFrame'>\n",
            "RangeIndex: 500 entries, 0 to 499\n",
            "Data columns (total 9 columns):\n",
            " #   Column             Non-Null Count  Dtype   \n",
            "---  ------             --------------  -----   \n",
            " 0   Serial No.         500 non-null    int64   \n",
            " 1   GRE Score          500 non-null    int64   \n",
            " 2   TOEFL Score        500 non-null    int64   \n",
            " 3   University Rating  500 non-null    int64   \n",
            " 4   SOP                500 non-null    float64 \n",
            " 5   LOR                500 non-null    float64 \n",
            " 6   CGPA               500 non-null    float64 \n",
            " 7   Research           500 non-null    category\n",
            " 8   Chance of Admit    500 non-null    float64 \n",
            "dtypes: category(1), float64(4), int64(4)\n",
            "memory usage: 32.0 KB\n"
          ]
        }
      ],
      "source": [
        "#Converting research column, an integer column into a categorical column\n",
        "df['Research'] = df['Research'].astype('category')\n",
        "df.info()"
      ]
    },
    {
      "cell_type": "markdown",
      "id": "665cc53a-e00f-4067-b626-6d23e9a02d90",
      "metadata": {
        "id": "665cc53a-e00f-4067-b626-6d23e9a02d90"
      },
      "source": [
        "The integer variable **Research** is now converted into a categorical column."
      ]
    },
    {
      "cell_type": "code",
      "execution_count": null,
      "id": "e1847d14-3244-4e4d-83c4-eeaa45148f07",
      "metadata": {
        "id": "e1847d14-3244-4e4d-83c4-eeaa45148f07",
        "outputId": "c1557dd0-fe93-4161-cb26-2a606b196e07"
      },
      "outputs": [
        {
          "data": {
            "text/plain": [
              "Serial No.           0\n",
              "GRE Score            0\n",
              "TOEFL Score          0\n",
              "University Rating    0\n",
              "SOP                  0\n",
              "LOR                  0\n",
              "CGPA                 0\n",
              "Research             0\n",
              "Chance of Admit      0\n",
              "dtype: int64"
            ]
          },
          "execution_count": 11,
          "metadata": {},
          "output_type": "execute_result"
        }
      ],
      "source": [
        "#Checking for missing values or missing value detection\n",
        "df.isnull().sum()"
      ]
    },
    {
      "cell_type": "markdown",
      "id": "83d982d8-b4d2-4301-90ac-e3365272fc5a",
      "metadata": {
        "id": "83d982d8-b4d2-4301-90ac-e3365272fc5a"
      },
      "source": [
        "We have already confirmed that our Jamboree dataset is free from missing values with the help of .info(). The isnull() re-affirms the same."
      ]
    },
    {
      "cell_type": "code",
      "execution_count": null,
      "id": "12b3ff84-a7c4-44e1-9617-634819c3d9bd",
      "metadata": {
        "id": "12b3ff84-a7c4-44e1-9617-634819c3d9bd",
        "outputId": "72ef0275-8eb4-4bcc-fde7-3f5c7f6520d3"
      },
      "outputs": [
        {
          "data": {
            "text/html": [
              "<div>\n",
              "<style scoped>\n",
              "    .dataframe tbody tr th:only-of-type {\n",
              "        vertical-align: middle;\n",
              "    }\n",
              "\n",
              "    .dataframe tbody tr th {\n",
              "        vertical-align: top;\n",
              "    }\n",
              "\n",
              "    .dataframe thead th {\n",
              "        text-align: right;\n",
              "    }\n",
              "</style>\n",
              "<table border=\"1\" class=\"dataframe\">\n",
              "  <thead>\n",
              "    <tr style=\"text-align: right;\">\n",
              "      <th></th>\n",
              "      <th>Serial No.</th>\n",
              "      <th>GRE Score</th>\n",
              "      <th>TOEFL Score</th>\n",
              "      <th>University Rating</th>\n",
              "      <th>SOP</th>\n",
              "      <th>LOR</th>\n",
              "      <th>CGPA</th>\n",
              "      <th>Chance of Admit</th>\n",
              "    </tr>\n",
              "  </thead>\n",
              "  <tbody>\n",
              "    <tr>\n",
              "      <th>count</th>\n",
              "      <td>500.000000</td>\n",
              "      <td>500.000000</td>\n",
              "      <td>500.000000</td>\n",
              "      <td>500.000000</td>\n",
              "      <td>500.000000</td>\n",
              "      <td>500.00000</td>\n",
              "      <td>500.000000</td>\n",
              "      <td>500.00000</td>\n",
              "    </tr>\n",
              "    <tr>\n",
              "      <th>mean</th>\n",
              "      <td>250.500000</td>\n",
              "      <td>316.472000</td>\n",
              "      <td>107.192000</td>\n",
              "      <td>3.114000</td>\n",
              "      <td>3.374000</td>\n",
              "      <td>3.48400</td>\n",
              "      <td>8.576440</td>\n",
              "      <td>0.72174</td>\n",
              "    </tr>\n",
              "    <tr>\n",
              "      <th>std</th>\n",
              "      <td>144.481833</td>\n",
              "      <td>11.295148</td>\n",
              "      <td>6.081868</td>\n",
              "      <td>1.143512</td>\n",
              "      <td>0.991004</td>\n",
              "      <td>0.92545</td>\n",
              "      <td>0.604813</td>\n",
              "      <td>0.14114</td>\n",
              "    </tr>\n",
              "    <tr>\n",
              "      <th>min</th>\n",
              "      <td>1.000000</td>\n",
              "      <td>290.000000</td>\n",
              "      <td>92.000000</td>\n",
              "      <td>1.000000</td>\n",
              "      <td>1.000000</td>\n",
              "      <td>1.00000</td>\n",
              "      <td>6.800000</td>\n",
              "      <td>0.34000</td>\n",
              "    </tr>\n",
              "    <tr>\n",
              "      <th>25%</th>\n",
              "      <td>125.750000</td>\n",
              "      <td>308.000000</td>\n",
              "      <td>103.000000</td>\n",
              "      <td>2.000000</td>\n",
              "      <td>2.500000</td>\n",
              "      <td>3.00000</td>\n",
              "      <td>8.127500</td>\n",
              "      <td>0.63000</td>\n",
              "    </tr>\n",
              "    <tr>\n",
              "      <th>50%</th>\n",
              "      <td>250.500000</td>\n",
              "      <td>317.000000</td>\n",
              "      <td>107.000000</td>\n",
              "      <td>3.000000</td>\n",
              "      <td>3.500000</td>\n",
              "      <td>3.50000</td>\n",
              "      <td>8.560000</td>\n",
              "      <td>0.72000</td>\n",
              "    </tr>\n",
              "    <tr>\n",
              "      <th>75%</th>\n",
              "      <td>375.250000</td>\n",
              "      <td>325.000000</td>\n",
              "      <td>112.000000</td>\n",
              "      <td>4.000000</td>\n",
              "      <td>4.000000</td>\n",
              "      <td>4.00000</td>\n",
              "      <td>9.040000</td>\n",
              "      <td>0.82000</td>\n",
              "    </tr>\n",
              "    <tr>\n",
              "      <th>max</th>\n",
              "      <td>500.000000</td>\n",
              "      <td>340.000000</td>\n",
              "      <td>120.000000</td>\n",
              "      <td>5.000000</td>\n",
              "      <td>5.000000</td>\n",
              "      <td>5.00000</td>\n",
              "      <td>9.920000</td>\n",
              "      <td>0.97000</td>\n",
              "    </tr>\n",
              "  </tbody>\n",
              "</table>\n",
              "</div>"
            ],
            "text/plain": [
              "       Serial No.   GRE Score  TOEFL Score  University Rating         SOP  \\\n",
              "count  500.000000  500.000000   500.000000         500.000000  500.000000   \n",
              "mean   250.500000  316.472000   107.192000           3.114000    3.374000   \n",
              "std    144.481833   11.295148     6.081868           1.143512    0.991004   \n",
              "min      1.000000  290.000000    92.000000           1.000000    1.000000   \n",
              "25%    125.750000  308.000000   103.000000           2.000000    2.500000   \n",
              "50%    250.500000  317.000000   107.000000           3.000000    3.500000   \n",
              "75%    375.250000  325.000000   112.000000           4.000000    4.000000   \n",
              "max    500.000000  340.000000   120.000000           5.000000    5.000000   \n",
              "\n",
              "            LOR         CGPA  Chance of Admit   \n",
              "count  500.00000  500.000000         500.00000  \n",
              "mean     3.48400    8.576440           0.72174  \n",
              "std      0.92545    0.604813           0.14114  \n",
              "min      1.00000    6.800000           0.34000  \n",
              "25%      3.00000    8.127500           0.63000  \n",
              "50%      3.50000    8.560000           0.72000  \n",
              "75%      4.00000    9.040000           0.82000  \n",
              "max      5.00000    9.920000           0.97000  "
            ]
          },
          "execution_count": 13,
          "metadata": {},
          "output_type": "execute_result"
        }
      ],
      "source": [
        "#Statistical summary of jamboree dataset excluding the categorical values\n",
        "df.describe()"
      ]
    },
    {
      "cell_type": "markdown",
      "id": "68ccd2d8-aaf4-4766-9640-479d2e411a5a",
      "metadata": {
        "id": "68ccd2d8-aaf4-4766-9640-479d2e411a5a"
      },
      "source": [
        "The above describe() shows only the summary stats of the numerical variable while excluding the summary stats of categorical variables. In this section, I'm only highlighting the necessary details,\n",
        "\n",
        "> **Serial No.** - This is a unique id column which does not contain any relevant information about the dataset other than identifying each records uniquely.\n",
        "\n",
        "> **GRE Score** - The average GRE score is 316.472 with a std. deviation of 11.29. The minimum GRE score in the given dataset is 290 and the maximum GRE score is 340.\n",
        "\n",
        "> **TOFEL Score** - The average TOFEL score is 107.192 with a std. deviation of 6.08. The minimum TOFEL score in the given dataset is 92 and the maximum TOFEL score is 120.\n",
        "\n",
        "> **University Rating** - It is an ordinal column with only 5 values.\n",
        "\n",
        "> **SOP & LOR** - Both of these are ordinal columns with 9 fixed values in it.\n",
        "\n",
        "> **CGPA** - The average CGPA score is 8.57 with a std. deviation of 0.60. The minimum CGPA score in the given dataset is 6.8 and the maximum CGPA score is 9.92.\n",
        "\n",
        "> **Chance of Admit** - The average score of this column is 0.72 with a std. deviation of 0.14. The minimum value in the given dataset is 0.34 and the maximum CGPA score is 0.97."
      ]
    },
    {
      "cell_type": "code",
      "execution_count": null,
      "id": "38645ce9-d90d-4698-a4c6-a65441d6e8e6",
      "metadata": {
        "id": "38645ce9-d90d-4698-a4c6-a65441d6e8e6",
        "outputId": "6bd5d44a-ac0a-43c4-efba-26c0546ec7eb"
      },
      "outputs": [
        {
          "data": {
            "text/html": [
              "<div>\n",
              "<style scoped>\n",
              "    .dataframe tbody tr th:only-of-type {\n",
              "        vertical-align: middle;\n",
              "    }\n",
              "\n",
              "    .dataframe tbody tr th {\n",
              "        vertical-align: top;\n",
              "    }\n",
              "\n",
              "    .dataframe thead th {\n",
              "        text-align: right;\n",
              "    }\n",
              "</style>\n",
              "<table border=\"1\" class=\"dataframe\">\n",
              "  <thead>\n",
              "    <tr style=\"text-align: right;\">\n",
              "      <th></th>\n",
              "      <th>Research</th>\n",
              "    </tr>\n",
              "  </thead>\n",
              "  <tbody>\n",
              "    <tr>\n",
              "      <th>count</th>\n",
              "      <td>500</td>\n",
              "    </tr>\n",
              "    <tr>\n",
              "      <th>unique</th>\n",
              "      <td>2</td>\n",
              "    </tr>\n",
              "    <tr>\n",
              "      <th>top</th>\n",
              "      <td>1</td>\n",
              "    </tr>\n",
              "    <tr>\n",
              "      <th>freq</th>\n",
              "      <td>280</td>\n",
              "    </tr>\n",
              "  </tbody>\n",
              "</table>\n",
              "</div>"
            ],
            "text/plain": [
              "        Research\n",
              "count        500\n",
              "unique         2\n",
              "top            1\n",
              "freq         280"
            ]
          },
          "execution_count": 15,
          "metadata": {},
          "output_type": "execute_result"
        }
      ],
      "source": [
        "#Displaying the statistical summary of Jamboree dataset's categorical column.\n",
        "df.describe(include='category')"
      ]
    },
    {
      "cell_type": "markdown",
      "id": "2cdd4a55-d646-4a7c-958c-0d081dfbdfd2",
      "metadata": {
        "id": "2cdd4a55-d646-4a7c-958c-0d081dfbdfd2"
      },
      "source": [
        "The **Research** column contains only 2 categorical values and it says that the majority of the dataset contains the value 1 or they have done the research. It is also been found that the number of times this value is repeated in the given dataset is 280."
      ]
    },
    {
      "cell_type": "markdown",
      "id": "ba9d0eb0-00a7-411d-8627-f1311cb2d506",
      "metadata": {
        "id": "ba9d0eb0-00a7-411d-8627-f1311cb2d506"
      },
      "source": [
        "### Univariate Analysis"
      ]
    },
    {
      "cell_type": "code",
      "execution_count": null,
      "id": "403be92d-8554-44e7-a194-1ea6939732f7",
      "metadata": {
        "id": "403be92d-8554-44e7-a194-1ea6939732f7",
        "outputId": "daa2687f-ef76-44b6-f635-3dd8318ac39f"
      },
      "outputs": [
        {
          "data": {
            "image/png": "[encoded data removed]",
            "text/plain": [
              "<Figure size 1500x800 with 2 Axes>"
            ]
          },
          "metadata": {},
          "output_type": "display_data"
        }
      ],
      "source": [
        "#A histogram plot for GRE Score and TOFEL Score\n",
        "fig, ax = plt.subplots(nrows=1,ncols=2,figsize=(15,8))\n",
        "sns.histplot(data=df,x='GRE Score',kde=True, ax=ax[0])\n",
        "sns.histplot(data=df,x='TOEFL Score', kde=True, ax=ax[1])\n",
        "plt.show()"
      ]
    },
    {
      "cell_type": "markdown",
      "id": "c6fd4dff-66e7-431d-b46b-082febd8affc",
      "metadata": {
        "id": "c6fd4dff-66e7-431d-b46b-082febd8affc"
      },
      "source": [
        "The GRE and TOEFL scores follow a normal distribution, with an interesting observation: GRE scores range between 290 and 340, while TOEFL scores fall between 95 and 120. This suggests that the GRE scores and TOEFL scores are measured in different scalee, and therefore there's a need for standardisation."
      ]
    },
    {
      "cell_type": "code",
      "execution_count": null,
      "id": "482ab495-4c2b-4302-af2c-6d8e5b901ad0",
      "metadata": {
        "id": "482ab495-4c2b-4302-af2c-6d8e5b901ad0",
        "outputId": "e6c16d01-9107-45d3-f18e-d2c36639c40f"
      },
      "outputs": [
        {
          "data": {
            "image/png": "[encoded data removed]",
            "text/plain": [
              "<Figure size 640x480 with 1 Axes>"
            ]
          },
          "metadata": {},
          "output_type": "display_data"
        }
      ],
      "source": [
        "#A bargraph for university ratings\n",
        "df['University Rating'].value_counts().plot(kind='bar')\n",
        "plt.show()"
      ]
    },
    {
      "cell_type": "markdown",
      "id": "85c2fde5-f3ee-448f-87ff-424043c21b1d",
      "metadata": {
        "id": "85c2fde5-f3ee-448f-87ff-424043c21b1d"
      },
      "source": [
        "The majority of universities are rated 3, with ratings of 2 and 4 following in frequency. Notably, only a small number of universities have a rating of 1."
      ]
    },
    {
      "cell_type": "code",
      "execution_count": null,
      "id": "c42abdb6-e787-4e81-b4f9-bbeca21a0cf4",
      "metadata": {
        "id": "c42abdb6-e787-4e81-b4f9-bbeca21a0cf4",
        "outputId": "7e6f7fc1-16b7-4471-9bfd-79fe625da2eb"
      },
      "outputs": [
        {
          "data": {
            "image/png": "[encoded data removed]",
            "text/plain": [
              "<Figure size 1500x800 with 2 Axes>"
            ]
          },
          "metadata": {},
          "output_type": "display_data"
        }
      ],
      "source": [
        "#A bar plot for SOP and LOR rating\n",
        "fig, ax = plt.subplots(nrows=1,ncols=2,figsize=(15,8))\n",
        "df['SOP'].value_counts().plot(kind='bar',ax=ax[0],color='red')\n",
        "df['LOR '].value_counts().plot(kind='bar',ax=ax[1],color='green')\n",
        "plt.show()"
      ]
    },
    {
      "cell_type": "markdown",
      "id": "57b8ae51-8a95-4e55-9bff-29d51f455842",
      "metadata": {
        "id": "57b8ae51-8a95-4e55-9bff-29d51f455842"
      },
      "source": [
        "**SOP Ratings** - Most of the SOP's have scored a rating of 4 and only a few SOP's have scored a rating of 1.5 followed by 1.0.\n",
        "\n",
        "**LOR Ratings** - The LOR with rating 3 has shown a significant presence in the Jamboree dataset while a few LOR has scored a rating of 1.5 which is followed by 1.0."
      ]
    },
    {
      "cell_type": "code",
      "execution_count": null,
      "id": "26290b02-8f12-4041-b271-5b46c15a97b8",
      "metadata": {
        "id": "26290b02-8f12-4041-b271-5b46c15a97b8",
        "outputId": "54781e20-1ad8-44eb-ff23-9fa4922a65e3"
      },
      "outputs": [
        {
          "data": {
            "image/png": "[encoded data removed]",
            "text/plain": [
              "<Figure size 1500x800 with 2 Axes>"
            ]
          },
          "metadata": {},
          "output_type": "display_data"
        }
      ],
      "source": [
        "#A histogram plot for CGPA Score and chance of admit Score\n",
        "fig, ax = plt.subplots(nrows=1,ncols=2,figsize=(15,8))\n",
        "sns.histplot(data=df,x='CGPA',kde=True, ax=ax[0])\n",
        "sns.histplot(data=df,x='Chance of Admit ', kde=True, ax=ax[1])\n",
        "plt.show()"
      ]
    },
    {
      "cell_type": "markdown",
      "id": "f727716e-be7b-463c-a47b-79bc72b0a844",
      "metadata": {
        "id": "f727716e-be7b-463c-a47b-79bc72b0a844"
      },
      "source": [
        "**CGPA Score** - The graph on the left side shows the histogram plot for the CGPA score and it is shown that most of the students CGPA score lies in between 6.0 and 9.8.\n",
        "\n",
        "**Chance of Admit** - The histogram on the right side shows the chance of admit with a probabilistic value that lies in between 0 and 1. The graph is almost a left skewed plot as well."
      ]
    },
    {
      "cell_type": "code",
      "execution_count": null,
      "id": "d59c7a20-0fa2-4b3d-b732-6196f5bed87c",
      "metadata": {
        "id": "d59c7a20-0fa2-4b3d-b732-6196f5bed87c",
        "outputId": "f3c26cce-d884-475f-d701-8a437f6ff1b6"
      },
      "outputs": [
        {
          "data": {
            "image/png": "[encoded data removed]",
            "text/plain": [
              "<Figure size 640x480 with 1 Axes>"
            ]
          },
          "metadata": {},
          "output_type": "display_data"
        }
      ],
      "source": [
        "#A pie plot depicts the value counts of the research column.\n",
        "df['Research'].value_counts().plot(kind='pie',autopct='%1.1f%%',wedgeprops={'edgecolor': 'black', 'linewidth': 1},explode=[0.05,0])\n",
        "plt.show()"
      ]
    },
    {
      "cell_type": "markdown",
      "id": "955db434-4fd3-4c6b-95df-8cbe522c39fb",
      "metadata": {
        "id": "955db434-4fd3-4c6b-95df-8cbe522c39fb"
      },
      "source": [
        "The pie plot shows that the majority of the students have acquired research experience (approximately 56%) while the pupil's who have not done any research falls under 44 percent."
      ]
    },
    {
      "cell_type": "markdown",
      "id": "565fad3d-7628-4a37-99c3-5828779d8b32",
      "metadata": {
        "id": "565fad3d-7628-4a37-99c3-5828779d8b32"
      },
      "source": [
        "### Bivariate Analysis"
      ]
    },
    {
      "cell_type": "code",
      "execution_count": null,
      "id": "98e39f64-6dcf-4b2d-8d53-eaff23a708dd",
      "metadata": {
        "id": "98e39f64-6dcf-4b2d-8d53-eaff23a708dd",
        "outputId": "2b52b0dc-3d65-40a2-f946-e543cb72d0a6"
      },
      "outputs": [
        {
          "data": {
            "image/png": "[encoded data removed]",
            "text/plain": [
              "<Figure size 640x480 with 1 Axes>"
            ]
          },
          "metadata": {},
          "output_type": "display_data"
        }
      ],
      "source": [
        "#A Countplot showing how research has impacted the university ratings\n",
        "sns.countplot(data=df,x='University Rating',hue='Research')\n",
        "plt.show()"
      ]
    },
    {
      "cell_type": "markdown",
      "id": "4db72783-520a-4a67-ae2d-0e117b85d9a6",
      "metadata": {
        "id": "4db72783-520a-4a67-ae2d-0e117b85d9a6"
      },
      "source": [
        "Universities with ratings of 1 and 2 tend to attract more candidates without any research experience. In contrast, universities rated 3, 4, and 5 have received applications predominantly from candidates with prior research experience. Interestingly, university rating 3 has received a higher number of candidates with research experience compared to university rating 5."
      ]
    },
    {
      "cell_type": "code",
      "execution_count": null,
      "id": "2bda2161-8eaa-4d5c-a796-abf87a0f2441",
      "metadata": {
        "id": "2bda2161-8eaa-4d5c-a796-abf87a0f2441",
        "outputId": "794fc0a4-794d-4e88-dab6-257f4617f88a"
      },
      "outputs": [
        {
          "data": {
            "image/png": "[encoded data removed]",
            "text/plain": [
              "<Figure size 1500x800 with 2 Axes>"
            ]
          },
          "metadata": {},
          "output_type": "display_data"
        }
      ],
      "source": [
        "#A Countplot showing how research has impacted the SOP and LOR ratings\n",
        "fig, ax = plt.subplots(nrows=1,ncols=2,figsize=(15,8))\n",
        "sns.countplot(data=df,x='SOP',hue='Research',ax=ax[0])\n",
        "sns.countplot(data=df,x='LOR ',hue='Research',ax=ax[1])\n",
        "plt.show()"
      ]
    },
    {
      "cell_type": "markdown",
      "id": "437f5543-90e8-4273-b971-5a61b0d3d996",
      "metadata": {
        "id": "437f5543-90e8-4273-b971-5a61b0d3d996"
      },
      "source": [
        "**SOP** - The graph on the left illustrates the impact of research on SOP ratings. It reveals that SOP ratings of 3 or below have a higher proportion of applicants without research experience, whereas ratings of 3.5 and above show a significant number of applicants with research experience.\n",
        "\n",
        "**LOR** - The graph on the right illustrates the impact of research on LOR ratings. It reveals that LOR ratings of 3 or below have a higher proportion of applicants without research experience, whereas ratings of 3.5 and above show a significant number of applicants with research experience."
      ]
    },
    {
      "cell_type": "code",
      "execution_count": null,
      "id": "38960f78-afa6-4dd2-8fad-47e5fd640131",
      "metadata": {
        "id": "38960f78-afa6-4dd2-8fad-47e5fd640131",
        "outputId": "5b1b2b2c-30c2-48d8-8092-6bbed0d25977"
      },
      "outputs": [
        {
          "data": {
            "image/png": "[encoded data removed]",
            "text/plain": [
              "<Figure size 1500x800 with 2 Axes>"
            ]
          },
          "metadata": {},
          "output_type": "display_data"
        }
      ],
      "source": [
        "#A Countplot showing how university ratings has impacted the SOP and LOR ratings\n",
        "fig, ax = plt.subplots(nrows=1,ncols=2,figsize=(15,8))\n",
        "sns.countplot(data=df,x='SOP',hue='University Rating',ax=ax[0])\n",
        "sns.countplot(data=df,x='LOR ',hue='University Rating',ax=ax[1])\n",
        "plt.show()"
      ]
    },
    {
      "cell_type": "markdown",
      "id": "1ef9e0ca-a929-491f-9abe-0db7e86e29af",
      "metadata": {
        "id": "1ef9e0ca-a929-491f-9abe-0db7e86e29af"
      },
      "source": [
        "**SOP** - The graph on the left illustrates the relationship between SOP ratings and university ratings. It demonstrates that top universities or those with higher ratings tend to receive candidates with higher SOP ratings, and the trend is reversed for universities with lower ratings.\n",
        "\n",
        "**LOR** - The graph on the right illustrates the relationship between LOR ratings and university ratings. It demonstrates that top universities or those with higher ratings tend to receive candidates with higher LOR ratings, and the trend is reversed for universities with lower ratings."
      ]
    },
    {
      "cell_type": "markdown",
      "id": "554272fb-e292-4965-8e23-904ee6cb61e1",
      "metadata": {
        "id": "554272fb-e292-4965-8e23-904ee6cb61e1"
      },
      "source": [
        "### Data Preprocessing"
      ]
    },
    {
      "cell_type": "code",
      "execution_count": null,
      "id": "9c166c16-3cd3-4160-b002-90482922f144",
      "metadata": {
        "id": "9c166c16-3cd3-4160-b002-90482922f144",
        "outputId": "36f774cd-07f4-4e48-d988-fcbb0bf652ea"
      },
      "outputs": [
        {
          "data": {
            "text/plain": [
              "0"
            ]
          },
          "execution_count": 36,
          "metadata": {},
          "output_type": "execute_result"
        }
      ],
      "source": [
        "#To check the presence of duplcate values\n",
        "df.duplicated().sum()"
      ]
    },
    {
      "cell_type": "markdown",
      "id": "ff2f21d0-69ad-49f4-b155-04b8fc864a1d",
      "metadata": {
        "id": "ff2f21d0-69ad-49f4-b155-04b8fc864a1d"
      },
      "source": [
        "The dataset does not contains any duplcate entries."
      ]
    },
    {
      "cell_type": "code",
      "execution_count": null,
      "id": "a1e0a064-ca08-418f-8907-19a9fe42e795",
      "metadata": {
        "id": "a1e0a064-ca08-418f-8907-19a9fe42e795",
        "outputId": "6662f336-db47-4ece-89be-2f3ea4eb3b5f"
      },
      "outputs": [
        {
          "data": {
            "text/plain": [
              "Serial No.           0\n",
              "GRE Score            0\n",
              "TOEFL Score          0\n",
              "University Rating    0\n",
              "SOP                  0\n",
              "LOR                  0\n",
              "CGPA                 0\n",
              "Research             0\n",
              "Chance of Admit      0\n",
              "dtype: int64"
            ]
          },
          "execution_count": 38,
          "metadata": {},
          "output_type": "execute_result"
        }
      ],
      "source": [
        "#To check the presence of null values\n",
        "df.isnull().sum()"
      ]
    },
    {
      "cell_type": "markdown",
      "id": "9c46f564-0f28-4b2e-807b-afcb24b87a71",
      "metadata": {
        "id": "9c46f564-0f28-4b2e-807b-afcb24b87a71"
      },
      "source": [
        "The dataset does not suffer from null any values."
      ]
    },
    {
      "cell_type": "code",
      "execution_count": null,
      "id": "4bcacb03-369f-45f9-bf35-cf8d2040b2dd",
      "metadata": {
        "id": "4bcacb03-369f-45f9-bf35-cf8d2040b2dd",
        "outputId": "63194860-579e-48af-9e0e-0fc850445ecf"
      },
      "outputs": [
        {
          "data": {
            "image/png": "[encoded data removed]",
            "text/plain": [
              "<Figure size 1500x1000 with 6 Axes>"
            ]
          },
          "metadata": {},
          "output_type": "display_data"
        }
      ],
      "source": [
        "#To check the presence of outlier values\n",
        "fig, ax = plt.subplots(nrows=3,ncols=2,figsize=(15,10))\n",
        "sns.boxplot(data=df,x='GRE Score',ax=ax[0,0])\n",
        "sns.boxplot(data=df,x='TOEFL Score',ax=ax[0,1])\n",
        "sns.boxplot(data=df,x='University Rating',ax=ax[1,0])\n",
        "sns.boxplot(data=df,x='SOP',ax=ax[1,1])\n",
        "sns.boxplot(data=df,x='LOR ',ax=ax[2,0])\n",
        "sns.boxplot(data=df,x='CGPA',ax=ax[2,1])\n",
        "plt.show()"
      ]
    },
    {
      "cell_type": "markdown",
      "id": "8a99333e-fb15-4d3b-8507-92e9e983cddb",
      "metadata": {
        "id": "8a99333e-fb15-4d3b-8507-92e9e983cddb"
      },
      "source": [
        "The dataset is almost free from outliers."
      ]
    },
    {
      "cell_type": "code",
      "execution_count": null,
      "id": "63a02a64-42e2-4890-b6f9-a9232357aab3",
      "metadata": {
        "id": "63a02a64-42e2-4890-b6f9-a9232357aab3",
        "outputId": "0d37d71e-8a5d-4982-dd7d-9f8d2a7970fc"
      },
      "outputs": [
        {
          "data": {
            "text/html": [
              "<div>\n",
              "<style scoped>\n",
              "    .dataframe tbody tr th:only-of-type {\n",
              "        vertical-align: middle;\n",
              "    }\n",
              "\n",
              "    .dataframe tbody tr th {\n",
              "        vertical-align: top;\n",
              "    }\n",
              "\n",
              "    .dataframe thead th {\n",
              "        text-align: right;\n",
              "    }\n",
              "</style>\n",
              "<table border=\"1\" class=\"dataframe\">\n",
              "  <thead>\n",
              "    <tr style=\"text-align: right;\">\n",
              "      <th></th>\n",
              "      <th>Serial No.</th>\n",
              "      <th>GRE Score</th>\n",
              "      <th>TOEFL Score</th>\n",
              "      <th>University Rating</th>\n",
              "      <th>SOP</th>\n",
              "      <th>LOR</th>\n",
              "      <th>CGPA</th>\n",
              "      <th>Research</th>\n",
              "      <th>Chance of Admit</th>\n",
              "    </tr>\n",
              "  </thead>\n",
              "  <tbody>\n",
              "    <tr>\n",
              "      <th>0</th>\n",
              "      <td>-1.728590</td>\n",
              "      <td>1.819238</td>\n",
              "      <td>1.778865</td>\n",
              "      <td>0.775582</td>\n",
              "      <td>1.137360</td>\n",
              "      <td>1.098944</td>\n",
              "      <td>1.776806</td>\n",
              "      <td>0.886405</td>\n",
              "      <td>1.406107</td>\n",
              "    </tr>\n",
              "    <tr>\n",
              "      <th>1</th>\n",
              "      <td>-1.721662</td>\n",
              "      <td>0.667148</td>\n",
              "      <td>-0.031601</td>\n",
              "      <td>0.775582</td>\n",
              "      <td>0.632315</td>\n",
              "      <td>1.098944</td>\n",
              "      <td>0.485859</td>\n",
              "      <td>0.886405</td>\n",
              "      <td>0.271349</td>\n",
              "    </tr>\n",
              "    <tr>\n",
              "      <th>2</th>\n",
              "      <td>-1.714734</td>\n",
              "      <td>-0.041830</td>\n",
              "      <td>-0.525364</td>\n",
              "      <td>-0.099793</td>\n",
              "      <td>-0.377773</td>\n",
              "      <td>0.017306</td>\n",
              "      <td>-0.954043</td>\n",
              "      <td>0.886405</td>\n",
              "      <td>-0.012340</td>\n",
              "    </tr>\n",
              "    <tr>\n",
              "      <th>3</th>\n",
              "      <td>-1.707806</td>\n",
              "      <td>0.489904</td>\n",
              "      <td>0.462163</td>\n",
              "      <td>-0.099793</td>\n",
              "      <td>0.127271</td>\n",
              "      <td>-1.064332</td>\n",
              "      <td>0.154847</td>\n",
              "      <td>0.886405</td>\n",
              "      <td>0.555039</td>\n",
              "    </tr>\n",
              "    <tr>\n",
              "      <th>4</th>\n",
              "      <td>-1.700877</td>\n",
              "      <td>-0.219074</td>\n",
              "      <td>-0.689952</td>\n",
              "      <td>-0.975168</td>\n",
              "      <td>-1.387862</td>\n",
              "      <td>-0.523513</td>\n",
              "      <td>-0.606480</td>\n",
              "      <td>-1.128152</td>\n",
              "      <td>-0.508797</td>\n",
              "    </tr>\n",
              "  </tbody>\n",
              "</table>\n",
              "</div>"
            ],
            "text/plain": [
              "   Serial No.  GRE Score  TOEFL Score  University Rating       SOP      LOR   \\\n",
              "0   -1.728590   1.819238     1.778865           0.775582  1.137360  1.098944   \n",
              "1   -1.721662   0.667148    -0.031601           0.775582  0.632315  1.098944   \n",
              "2   -1.714734  -0.041830    -0.525364          -0.099793 -0.377773  0.017306   \n",
              "3   -1.707806   0.489904     0.462163          -0.099793  0.127271 -1.064332   \n",
              "4   -1.700877  -0.219074    -0.689952          -0.975168 -1.387862 -0.523513   \n",
              "\n",
              "       CGPA  Research  Chance of Admit   \n",
              "0  1.776806  0.886405          1.406107  \n",
              "1  0.485859  0.886405          0.271349  \n",
              "2 -0.954043  0.886405         -0.012340  \n",
              "3  0.154847  0.886405          0.555039  \n",
              "4 -0.606480 -1.128152         -0.508797  "
            ]
          },
          "execution_count": 42,
          "metadata": {},
          "output_type": "execute_result"
        }
      ],
      "source": [
        "#Feature Engineering\n",
        "from sklearn.preprocessing import StandardScaler\n",
        "scaler = StandardScaler()\n",
        "df = pd.DataFrame(scaler.fit_transform(df), columns=df.columns)\n",
        "df.head()"
      ]
    },
    {
      "cell_type": "markdown",
      "id": "6c9b4ca0-57d6-46f1-a2a8-0bf119307817",
      "metadata": {
        "id": "6c9b4ca0-57d6-46f1-a2a8-0bf119307817"
      },
      "source": [
        "The dataset contains variables measured on different scales, such as GRE and TOEFL scores, which are continuous, and University Rating, SOP, LOR, and Research, which are categorical. These factors can significantly influence the target variable."
      ]
    },
    {
      "cell_type": "code",
      "execution_count": null,
      "id": "d944fac9-7b3d-43ac-9e72-a705a0167e61",
      "metadata": {
        "id": "d944fac9-7b3d-43ac-9e72-a705a0167e61",
        "outputId": "970a9649-0ec2-4f9b-d417-093957540220"
      },
      "outputs": [
        {
          "data": {
            "text/plain": [
              "((500,), (500, 7))"
            ]
          },
          "execution_count": 44,
          "metadata": {},
          "output_type": "execute_result"
        }
      ],
      "source": [
        "#Data Preprocessing\n",
        "from sklearn.model_selection import train_test_split\n",
        "y = df['Chance of Admit ']\n",
        "X = df.drop('Chance of Admit ', axis=1)\n",
        "X = X.drop('Serial No.', axis=1)\n",
        "y.shape, X.shape"
      ]
    },
    {
      "cell_type": "markdown",
      "id": "4a22c081-419e-45cc-9ff3-2b7fbc6341f4",
      "metadata": {
        "id": "4a22c081-419e-45cc-9ff3-2b7fbc6341f4"
      },
      "source": [
        "In the above code, the target variable is stored in y, while the features or independent variables are stored in X. After defining these variables, the target variable is dropped from the features dataset to avoid redundancy. Additionally, the serial number column is also removed, as it does not contribute to building the machine learning model."
      ]
    },
    {
      "cell_type": "code",
      "execution_count": null,
      "id": "37cc986c-f2a7-4869-ba87-380698532e41",
      "metadata": {
        "id": "37cc986c-f2a7-4869-ba87-380698532e41",
        "outputId": "2b6a601b-a194-44fc-af7f-6bb977a73aba"
      },
      "outputs": [
        {
          "data": {
            "text/plain": [
              "((400, 7), (100, 7), (400,), (100,))"
            ]
          },
          "execution_count": 46,
          "metadata": {},
          "output_type": "execute_result"
        }
      ],
      "source": [
        "#train - test split (80% training data and 20% testing data)\n",
        "X_train, X_test, y_train, y_test = train_test_split(X, y, test_size=0.2, random_state=1)\n",
        "X_train.shape, X_test.shape, y_train.shape, y_test.shape"
      ]
    },
    {
      "cell_type": "markdown",
      "id": "13ca3339-9da4-4a77-9b18-d0b7a9ffddfb",
      "metadata": {
        "id": "13ca3339-9da4-4a77-9b18-d0b7a9ffddfb"
      },
      "source": [
        "The target variable and feature set are split into four subsets, with 80% of the data allocated to the training set and 20% to the testing set. Finally, the shapes of each subset are displayed in the output above."
      ]
    },
    {
      "cell_type": "markdown",
      "id": "ad406961-f72e-4eb3-a6db-4c858979a18e",
      "metadata": {
        "id": "ad406961-f72e-4eb3-a6db-4c858979a18e"
      },
      "source": [
        "### Linear Regression Model"
      ]
    },
    {
      "cell_type": "code",
      "execution_count": null,
      "id": "6c703f2e-7635-439a-a948-357dea9180c3",
      "metadata": {
        "id": "6c703f2e-7635-439a-a948-357dea9180c3"
      },
      "outputs": [],
      "source": [
        "#Importing linear regression model from sklearn.linear_model\n",
        "from sklearn.linear_model import LinearRegression"
      ]
    },
    {
      "cell_type": "code",
      "execution_count": null,
      "id": "1ab27c56-a5a5-4f6b-9ca1-633a3554277f",
      "metadata": {
        "id": "1ab27c56-a5a5-4f6b-9ca1-633a3554277f",
        "outputId": "0351a44f-0dc2-4d7e-ce2e-a22893d85f87"
      },
      "outputs": [
        {
          "data": {
            "text/html": [
              "<style>#sk-container-id-1 {\n",
              "  /* Definition of color scheme common for light and dark mode */\n",
              "  --sklearn-color-text: black;\n",
              "  --sklearn-color-line: gray;\n",
              "  /* Definition of color scheme for unfitted estimators */\n",
              "  --sklearn-color-unfitted-level-0: #fff5e6;\n",
              "  --sklearn-color-unfitted-level-1: #f6e4d2;\n",
              "  --sklearn-color-unfitted-level-2: #ffe0b3;\n",
              "  --sklearn-color-unfitted-level-3: chocolate;\n",
              "  /* Definition of color scheme for fitted estimators */\n",
              "  --sklearn-color-fitted-level-0: #f0f8ff;\n",
              "  --sklearn-color-fitted-level-1: #d4ebff;\n",
              "  --sklearn-color-fitted-level-2: #b3dbfd;\n",
              "  --sklearn-color-fitted-level-3: cornflowerblue;\n",
              "\n",
              "  /* Specific color for light theme */\n",
              "  --sklearn-color-text-on-default-background: var(--sg-text-color, var(--theme-code-foreground, var(--jp-content-font-color1, black)));\n",
              "  --sklearn-color-background: var(--sg-background-color, var(--theme-background, var(--jp-layout-color0, white)));\n",
              "  --sklearn-color-border-box: var(--sg-text-color, var(--theme-code-foreground, var(--jp-content-font-color1, black)));\n",
              "  --sklearn-color-icon: #696969;\n",
              "\n",
              "  @media (prefers-color-scheme: dark) {\n",
              "    /* Redefinition of color scheme for dark theme */\n",
              "    --sklearn-color-text-on-default-background: var(--sg-text-color, var(--theme-code-foreground, var(--jp-content-font-color1, white)));\n",
              "    --sklearn-color-background: var(--sg-background-color, var(--theme-background, var(--jp-layout-color0, #111)));\n",
              "    --sklearn-color-border-box: var(--sg-text-color, var(--theme-code-foreground, var(--jp-content-font-color1, white)));\n",
              "    --sklearn-color-icon: #878787;\n",
              "  }\n",
              "}\n",
              "\n",
              "#sk-container-id-1 {\n",
              "  color: var(--sklearn-color-text);\n",
              "}\n",
              "\n",
              "#sk-container-id-1 pre {\n",
              "  padding: 0;\n",
              "}\n",
              "\n",
              "#sk-container-id-1 input.sk-hidden--visually {\n",
              "  border: 0;\n",
              "  clip: rect(1px 1px 1px 1px);\n",
              "  clip: rect(1px, 1px, 1px, 1px);\n",
              "  height: 1px;\n",
              "  margin: -1px;\n",
              "  overflow: hidden;\n",
              "  padding: 0;\n",
              "  position: absolute;\n",
              "  width: 1px;\n",
              "}\n",
              "\n",
              "#sk-container-id-1 div.sk-dashed-wrapped {\n",
              "  border: 1px dashed var(--sklearn-color-line);\n",
              "  margin: 0 0.4em 0.5em 0.4em;\n",
              "  box-sizing: border-box;\n",
              "  padding-bottom: 0.4em;\n",
              "  background-color: var(--sklearn-color-background);\n",
              "}\n",
              "\n",
              "#sk-container-id-1 div.sk-container {\n",
              "  /* jupyter's `normalize.less` sets `[hidden] { display: none; }`\n",
              "     but bootstrap.min.css set `[hidden] { display: none !important; }`\n",
              "     so we also need the `!important` here to be able to override the\n",
              "     default hidden behavior on the sphinx rendered scikit-learn.org.\n",
              "     See: https://github.com/scikit-learn/scikit-learn/issues/21755 */\n",
              "  display: inline-block !important;\n",
              "  position: relative;\n",
              "}\n",
              "\n",
              "#sk-container-id-1 div.sk-text-repr-fallback {\n",
              "  display: none;\n",
              "}\n",
              "\n",
              "div.sk-parallel-item,\n",
              "div.sk-serial,\n",
              "div.sk-item {\n",
              "  /* draw centered vertical line to link estimators */\n",
              "  background-image: linear-gradient(var(--sklearn-color-text-on-default-background), var(--sklearn-color-text-on-default-background));\n",
              "  background-size: 2px 100%;\n",
              "  background-repeat: no-repeat;\n",
              "  background-position: center center;\n",
              "}\n",
              "\n",
              "/* Parallel-specific style estimator block */\n",
              "\n",
              "#sk-container-id-1 div.sk-parallel-item::after {\n",
              "  content: \"\";\n",
              "  width: 100%;\n",
              "  border-bottom: 2px solid var(--sklearn-color-text-on-default-background);\n",
              "  flex-grow: 1;\n",
              "}\n",
              "\n",
              "#sk-container-id-1 div.sk-parallel {\n",
              "  display: flex;\n",
              "  align-items: stretch;\n",
              "  justify-content: center;\n",
              "  background-color: var(--sklearn-color-background);\n",
              "  position: relative;\n",
              "}\n",
              "\n",
              "#sk-container-id-1 div.sk-parallel-item {\n",
              "  display: flex;\n",
              "  flex-direction: column;\n",
              "}\n",
              "\n",
              "#sk-container-id-1 div.sk-parallel-item:first-child::after {\n",
              "  align-self: flex-end;\n",
              "  width: 50%;\n",
              "}\n",
              "\n",
              "#sk-container-id-1 div.sk-parallel-item:last-child::after {\n",
              "  align-self: flex-start;\n",
              "  width: 50%;\n",
              "}\n",
              "\n",
              "#sk-container-id-1 div.sk-parallel-item:only-child::after {\n",
              "  width: 0;\n",
              "}\n",
              "\n",
              "/* Serial-specific style estimator block */\n",
              "\n",
              "#sk-container-id-1 div.sk-serial {\n",
              "  display: flex;\n",
              "  flex-direction: column;\n",
              "  align-items: center;\n",
              "  background-color: var(--sklearn-color-background);\n",
              "  padding-right: 1em;\n",
              "  padding-left: 1em;\n",
              "}\n",
              "\n",
              "\n",
              "/* Toggleable style: style used for estimator/Pipeline/ColumnTransformer box that is\n",
              "clickable and can be expanded/collapsed.\n",
              "- Pipeline and ColumnTransformer use this feature and define the default style\n",
              "- Estimators will overwrite some part of the style using the `sk-estimator` class\n",
              "*/\n",
              "\n",
              "/* Pipeline and ColumnTransformer style (default) */\n",
              "\n",
              "#sk-container-id-1 div.sk-toggleable {\n",
              "  /* Default theme specific background. It is overwritten whether we have a\n",
              "  specific estimator or a Pipeline/ColumnTransformer */\n",
              "  background-color: var(--sklearn-color-background);\n",
              "}\n",
              "\n",
              "/* Toggleable label */\n",
              "#sk-container-id-1 label.sk-toggleable__label {\n",
              "  cursor: pointer;\n",
              "  display: block;\n",
              "  width: 100%;\n",
              "  margin-bottom: 0;\n",
              "  padding: 0.5em;\n",
              "  box-sizing: border-box;\n",
              "  text-align: center;\n",
              "}\n",
              "\n",
              "#sk-container-id-1 label.sk-toggleable__label-arrow:before {\n",
              "  /* Arrow on the left of the label */\n",
              "  content: \"▸\";\n",
              "  float: left;\n",
              "  margin-right: 0.25em;\n",
              "  color: var(--sklearn-color-icon);\n",
              "}\n",
              "\n",
              "#sk-container-id-1 label.sk-toggleable__label-arrow:hover:before {\n",
              "  color: var(--sklearn-color-text);\n",
              "}\n",
              "\n",
              "/* Toggleable content - dropdown */\n",
              "\n",
              "#sk-container-id-1 div.sk-toggleable__content {\n",
              "  max-height: 0;\n",
              "  max-width: 0;\n",
              "  overflow: hidden;\n",
              "  text-align: left;\n",
              "  /* unfitted */\n",
              "  background-color: var(--sklearn-color-unfitted-level-0);\n",
              "}\n",
              "\n",
              "#sk-container-id-1 div.sk-toggleable__content.fitted {\n",
              "  /* fitted */\n",
              "  background-color: var(--sklearn-color-fitted-level-0);\n",
              "}\n",
              "\n",
              "#sk-container-id-1 div.sk-toggleable__content pre {\n",
              "  margin: 0.2em;\n",
              "  border-radius: 0.25em;\n",
              "  color: var(--sklearn-color-text);\n",
              "  /* unfitted */\n",
              "  background-color: var(--sklearn-color-unfitted-level-0);\n",
              "}\n",
              "\n",
              "#sk-container-id-1 div.sk-toggleable__content.fitted pre {\n",
              "  /* unfitted */\n",
              "  background-color: var(--sklearn-color-fitted-level-0);\n",
              "}\n",
              "\n",
              "#sk-container-id-1 input.sk-toggleable__control:checked~div.sk-toggleable__content {\n",
              "  /* Expand drop-down */\n",
              "  max-height: 200px;\n",
              "  max-width: 100%;\n",
              "  overflow: auto;\n",
              "}\n",
              "\n",
              "#sk-container-id-1 input.sk-toggleable__control:checked~label.sk-toggleable__label-arrow:before {\n",
              "  content: \"▾\";\n",
              "}\n",
              "\n",
              "/* Pipeline/ColumnTransformer-specific style */\n",
              "\n",
              "#sk-container-id-1 div.sk-label input.sk-toggleable__control:checked~label.sk-toggleable__label {\n",
              "  color: var(--sklearn-color-text);\n",
              "  background-color: var(--sklearn-color-unfitted-level-2);\n",
              "}\n",
              "\n",
              "#sk-container-id-1 div.sk-label.fitted input.sk-toggleable__control:checked~label.sk-toggleable__label {\n",
              "  background-color: var(--sklearn-color-fitted-level-2);\n",
              "}\n",
              "\n",
              "/* Estimator-specific style */\n",
              "\n",
              "/* Colorize estimator box */\n",
              "#sk-container-id-1 div.sk-estimator input.sk-toggleable__control:checked~label.sk-toggleable__label {\n",
              "  /* unfitted */\n",
              "  background-color: var(--sklearn-color-unfitted-level-2);\n",
              "}\n",
              "\n",
              "#sk-container-id-1 div.sk-estimator.fitted input.sk-toggleable__control:checked~label.sk-toggleable__label {\n",
              "  /* fitted */\n",
              "  background-color: var(--sklearn-color-fitted-level-2);\n",
              "}\n",
              "\n",
              "#sk-container-id-1 div.sk-label label.sk-toggleable__label,\n",
              "#sk-container-id-1 div.sk-label label {\n",
              "  /* The background is the default theme color */\n",
              "  color: var(--sklearn-color-text-on-default-background);\n",
              "}\n",
              "\n",
              "/* On hover, darken the color of the background */\n",
              "#sk-container-id-1 div.sk-label:hover label.sk-toggleable__label {\n",
              "  color: var(--sklearn-color-text);\n",
              "  background-color: var(--sklearn-color-unfitted-level-2);\n",
              "}\n",
              "\n",
              "/* Label box, darken color on hover, fitted */\n",
              "#sk-container-id-1 div.sk-label.fitted:hover label.sk-toggleable__label.fitted {\n",
              "  color: var(--sklearn-color-text);\n",
              "  background-color: var(--sklearn-color-fitted-level-2);\n",
              "}\n",
              "\n",
              "/* Estimator label */\n",
              "\n",
              "#sk-container-id-1 div.sk-label label {\n",
              "  font-family: monospace;\n",
              "  font-weight: bold;\n",
              "  display: inline-block;\n",
              "  line-height: 1.2em;\n",
              "}\n",
              "\n",
              "#sk-container-id-1 div.sk-label-container {\n",
              "  text-align: center;\n",
              "}\n",
              "\n",
              "/* Estimator-specific */\n",
              "#sk-container-id-1 div.sk-estimator {\n",
              "  font-family: monospace;\n",
              "  border: 1px dotted var(--sklearn-color-border-box);\n",
              "  border-radius: 0.25em;\n",
              "  box-sizing: border-box;\n",
              "  margin-bottom: 0.5em;\n",
              "  /* unfitted */\n",
              "  background-color: var(--sklearn-color-unfitted-level-0);\n",
              "}\n",
              "\n",
              "#sk-container-id-1 div.sk-estimator.fitted {\n",
              "  /* fitted */\n",
              "  background-color: var(--sklearn-color-fitted-level-0);\n",
              "}\n",
              "\n",
              "/* on hover */\n",
              "#sk-container-id-1 div.sk-estimator:hover {\n",
              "  /* unfitted */\n",
              "  background-color: var(--sklearn-color-unfitted-level-2);\n",
              "}\n",
              "\n",
              "#sk-container-id-1 div.sk-estimator.fitted:hover {\n",
              "  /* fitted */\n",
              "  background-color: var(--sklearn-color-fitted-level-2);\n",
              "}\n",
              "\n",
              "/* Specification for estimator info (e.g. \"i\" and \"?\") */\n",
              "\n",
              "/* Common style for \"i\" and \"?\" */\n",
              "\n",
              ".sk-estimator-doc-link,\n",
              "a:link.sk-estimator-doc-link,\n",
              "a:visited.sk-estimator-doc-link {\n",
              "  float: right;\n",
              "  font-size: smaller;\n",
              "  line-height: 1em;\n",
              "  font-family: monospace;\n",
              "  background-color: var(--sklearn-color-background);\n",
              "  border-radius: 1em;\n",
              "  height: 1em;\n",
              "  width: 1em;\n",
              "  text-decoration: none !important;\n",
              "  margin-left: 1ex;\n",
              "  /* unfitted */\n",
              "  border: var(--sklearn-color-unfitted-level-1) 1pt solid;\n",
              "  color: var(--sklearn-color-unfitted-level-1);\n",
              "}\n",
              "\n",
              ".sk-estimator-doc-link.fitted,\n",
              "a:link.sk-estimator-doc-link.fitted,\n",
              "a:visited.sk-estimator-doc-link.fitted {\n",
              "  /* fitted */\n",
              "  border: var(--sklearn-color-fitted-level-1) 1pt solid;\n",
              "  color: var(--sklearn-color-fitted-level-1);\n",
              "}\n",
              "\n",
              "/* On hover */\n",
              "div.sk-estimator:hover .sk-estimator-doc-link:hover,\n",
              ".sk-estimator-doc-link:hover,\n",
              "div.sk-label-container:hover .sk-estimator-doc-link:hover,\n",
              ".sk-estimator-doc-link:hover {\n",
              "  /* unfitted */\n",
              "  background-color: var(--sklearn-color-unfitted-level-3);\n",
              "  color: var(--sklearn-color-background);\n",
              "  text-decoration: none;\n",
              "}\n",
              "\n",
              "div.sk-estimator.fitted:hover .sk-estimator-doc-link.fitted:hover,\n",
              ".sk-estimator-doc-link.fitted:hover,\n",
              "div.sk-label-container:hover .sk-estimator-doc-link.fitted:hover,\n",
              ".sk-estimator-doc-link.fitted:hover {\n",
              "  /* fitted */\n",
              "  background-color: var(--sklearn-color-fitted-level-3);\n",
              "  color: var(--sklearn-color-background);\n",
              "  text-decoration: none;\n",
              "}\n",
              "\n",
              "/* Span, style for the box shown on hovering the info icon */\n",
              ".sk-estimator-doc-link span {\n",
              "  display: none;\n",
              "  z-index: 9999;\n",
              "  position: relative;\n",
              "  font-weight: normal;\n",
              "  right: .2ex;\n",
              "  padding: .5ex;\n",
              "  margin: .5ex;\n",
              "  width: min-content;\n",
              "  min-width: 20ex;\n",
              "  max-width: 50ex;\n",
              "  color: var(--sklearn-color-text);\n",
              "  box-shadow: 2pt 2pt 4pt #999;\n",
              "  /* unfitted */\n",
              "  background: var(--sklearn-color-unfitted-level-0);\n",
              "  border: .5pt solid var(--sklearn-color-unfitted-level-3);\n",
              "}\n",
              "\n",
              ".sk-estimator-doc-link.fitted span {\n",
              "  /* fitted */\n",
              "  background: var(--sklearn-color-fitted-level-0);\n",
              "  border: var(--sklearn-color-fitted-level-3);\n",
              "}\n",
              "\n",
              ".sk-estimator-doc-link:hover span {\n",
              "  display: block;\n",
              "}\n",
              "\n",
              "/* \"?\"-specific style due to the `<a>` HTML tag */\n",
              "\n",
              "#sk-container-id-1 a.estimator_doc_link {\n",
              "  float: right;\n",
              "  font-size: 1rem;\n",
              "  line-height: 1em;\n",
              "  font-family: monospace;\n",
              "  background-color: var(--sklearn-color-background);\n",
              "  border-radius: 1rem;\n",
              "  height: 1rem;\n",
              "  width: 1rem;\n",
              "  text-decoration: none;\n",
              "  /* unfitted */\n",
              "  color: var(--sklearn-color-unfitted-level-1);\n",
              "  border: var(--sklearn-color-unfitted-level-1) 1pt solid;\n",
              "}\n",
              "\n",
              "#sk-container-id-1 a.estimator_doc_link.fitted {\n",
              "  /* fitted */\n",
              "  border: var(--sklearn-color-fitted-level-1) 1pt solid;\n",
              "  color: var(--sklearn-color-fitted-level-1);\n",
              "}\n",
              "\n",
              "/* On hover */\n",
              "#sk-container-id-1 a.estimator_doc_link:hover {\n",
              "  /* unfitted */\n",
              "  background-color: var(--sklearn-color-unfitted-level-3);\n",
              "  color: var(--sklearn-color-background);\n",
              "  text-decoration: none;\n",
              "}\n",
              "\n",
              "#sk-container-id-1 a.estimator_doc_link.fitted:hover {\n",
              "  /* fitted */\n",
              "  background-color: var(--sklearn-color-fitted-level-3);\n",
              "}\n",
              "</style><div id=\"sk-container-id-1\" class=\"sk-top-container\"><div class=\"sk-text-repr-fallback\"><pre>LinearRegression()</pre><b>In a Jupyter environment, please rerun this cell to show the HTML representation or trust the notebook. <br />On GitHub, the HTML representation is unable to render, please try loading this page with nbviewer.org.</b></div><div class=\"sk-container\" hidden><div class=\"sk-item\"><div class=\"sk-estimator fitted sk-toggleable\"><input class=\"sk-toggleable__control sk-hidden--visually\" id=\"sk-estimator-id-1\" type=\"checkbox\" checked><label for=\"sk-estimator-id-1\" class=\"sk-toggleable__label fitted sk-toggleable__label-arrow fitted\">&nbsp;&nbsp;LinearRegression<a class=\"sk-estimator-doc-link fitted\" rel=\"noreferrer\" target=\"_blank\" href=\"https://scikit-learn.org/1.4/modules/generated/sklearn.linear_model.LinearRegression.html\">?<span>Documentation for LinearRegression</span></a><span class=\"sk-estimator-doc-link fitted\">i<span>Fitted</span></span></label><div class=\"sk-toggleable__content fitted\"><pre>LinearRegression()</pre></div> </div></div></div></div>"
            ],
            "text/plain": [
              "LinearRegression()"
            ]
          },
          "execution_count": 50,
          "metadata": {},
          "output_type": "execute_result"
        }
      ],
      "source": [
        "#Fitting the linear regression model on the training dataset\n",
        "model = LinearRegression()\n",
        "model.fit(X_train, y_train)"
      ]
    },
    {
      "cell_type": "code",
      "execution_count": null,
      "id": "74889004-7ec8-43ac-a0a2-783007c306ff",
      "metadata": {
        "id": "74889004-7ec8-43ac-a0a2-783007c306ff",
        "outputId": "b45b5da0-bc88-4177-a239-4eb1a93c00b9"
      },
      "outputs": [
        {
          "data": {
            "text/plain": [
              "array([0.14663037, 0.13676748, 0.04965566, 0.02109985, 0.09459574,\n",
              "       0.50009953, 0.07002187])"
            ]
          },
          "execution_count": 51,
          "metadata": {},
          "output_type": "execute_result"
        }
      ],
      "source": [
        "#Displaying the coefficients of linear regression model\n",
        "model.coef_"
      ]
    },
    {
      "cell_type": "markdown",
      "id": "b0e9cdc6-0f3d-4280-abcf-daa041db4957",
      "metadata": {
        "id": "b0e9cdc6-0f3d-4280-abcf-daa041db4957"
      },
      "source": [
        "Given that there are seven variables, the model produces seven corresponding coefficients."
      ]
    },
    {
      "cell_type": "code",
      "execution_count": null,
      "id": "baa18544-8088-43a1-bd4a-5da31aa7cc45",
      "metadata": {
        "id": "baa18544-8088-43a1-bd4a-5da31aa7cc45",
        "outputId": "c8ef0583-53d8-4033-961b-8d0b87b0c3f3"
      },
      "outputs": [
        {
          "data": {
            "text/plain": [
              "0.008094500786335133"
            ]
          },
          "execution_count": 53,
          "metadata": {},
          "output_type": "execute_result"
        }
      ],
      "source": [
        "#Displaying the slope\n",
        "model.intercept_"
      ]
    },
    {
      "cell_type": "markdown",
      "id": "513e7772-cc84-4c22-a366-664f6d8ada56",
      "metadata": {
        "id": "513e7772-cc84-4c22-a366-664f6d8ada56"
      },
      "source": [
        "The above value represents the slope of the given model."
      ]
    },
    {
      "cell_type": "code",
      "execution_count": null,
      "id": "aa9132ac-4777-4a3b-a816-e535bad739d9",
      "metadata": {
        "id": "aa9132ac-4777-4a3b-a816-e535bad739d9"
      },
      "outputs": [],
      "source": [
        "#Once we fit our model, we use predict function to understand if our model has learned properly from the training data\n",
        "y_train_pred = model.predict(X_train)\n",
        "y_test_pred = model.predict(X_test)"
      ]
    },
    {
      "cell_type": "code",
      "execution_count": null,
      "id": "ebd73ae1-6efd-411e-a28f-174b9176d8b3",
      "metadata": {
        "id": "ebd73ae1-6efd-411e-a28f-174b9176d8b3"
      },
      "outputs": [],
      "source": [
        "#Importing MSE and R2 score functions from sklearn.metrics library\n",
        "from sklearn.metrics import mean_squared_error, r2_score"
      ]
    },
    {
      "cell_type": "code",
      "execution_count": null,
      "id": "753ccf04-ed2a-4e0d-8bb2-75382a1b4219",
      "metadata": {
        "id": "753ccf04-ed2a-4e0d-8bb2-75382a1b4219",
        "outputId": "ee43c059-17e0-4120-fead-7acf2931d80a"
      },
      "outputs": [
        {
          "name": "stdout",
          "output_type": "stream",
          "text": [
            "training MSE :  0.17973912139741452\n",
            "testing MSE  :  0.17399217834898528\n"
          ]
        }
      ],
      "source": [
        "#Calculation of MSE for training and testing\n",
        "mse_lr_train = mean_squared_error(y_train, y_train_pred)\n",
        "mse_lr_test = mean_squared_error(y_test, y_test_pred)\n",
        "print(\"training MSE : \",mse_lr_train)\n",
        "print(\"testing MSE  : \",mse_lr_test)"
      ]
    },
    {
      "cell_type": "markdown",
      "id": "0be570fd-bd18-49a5-9616-7bf4cb149abf",
      "metadata": {
        "id": "0be570fd-bd18-49a5-9616-7bf4cb149abf"
      },
      "source": [
        "MSE (Mean Squared Error) measures the average squared difference between the actual and predicted values in linear regression. It represents how well the model fits the data, with smaller values indicating better performance.\n",
        "\n",
        "Interpreting the MSE Values: Training MSE: 0.1797 & Testing MSE: 0.1739\n",
        "\n",
        "Inference:\n",
        "\n",
        "> The similar values for training and testing MSE indicate that the model generalizes well and is not overfitting or underfitting.\n",
        "\n",
        "> Both values being relatively low suggests the model is making accurate predictions on both datasets."
      ]
    },
    {
      "cell_type": "code",
      "execution_count": null,
      "id": "14137e87-335d-4eec-9d28-7b1b2829ee46",
      "metadata": {
        "id": "14137e87-335d-4eec-9d28-7b1b2829ee46",
        "outputId": "32236d57-8878-43cf-8c8f-b67437fff670"
      },
      "outputs": [
        {
          "name": "stdout",
          "output_type": "stream",
          "text": [
            "training RMSE :  0.42395650885133784\n",
            "testing RMSE  :  0.41712369670037364\n"
          ]
        }
      ],
      "source": [
        "#Calculation of RMSE for training and testing\n",
        "rmse_lr_train = np.sqrt(mse_lr_train)\n",
        "rmse_lr_test = np.sqrt(mse_lr_test)\n",
        "print(\"training RMSE : \",rmse_lr_train)\n",
        "print(\"testing RMSE  : \",rmse_lr_test)"
      ]
    },
    {
      "cell_type": "markdown",
      "id": "90578454-1cd2-4679-b8df-4e890889bfad",
      "metadata": {
        "id": "90578454-1cd2-4679-b8df-4e890889bfad"
      },
      "source": [
        "RMSE (Root Mean Squared Error) is the square root of MSE and measures the average magnitude of prediction errors. It reflects the model's ability to predict values close to actual ones in the same units as the target variable. Lower RMSE indicates better model performance.\n",
        "\n",
        "Interpreting the RMSE Values : Training RMSE: 0.424 & Testing RMSE: 0.417\n",
        "\n",
        "Inference:\n",
        "> The similar values for training and testing RMSE indicate the model generalizes well, showing no significant overfitting or underfitting.\n",
        "\n",
        "> The small difference suggests the model performs consistently on unseen data, indicating reliability."
      ]
    },
    {
      "cell_type": "code",
      "execution_count": null,
      "id": "55149c63-455f-4cec-a8f1-672d7e92ac84",
      "metadata": {
        "id": "55149c63-455f-4cec-a8f1-672d7e92ac84",
        "outputId": "e6679100-a7d3-467d-bff8-90174d36b6bb"
      },
      "outputs": [
        {
          "name": "stdout",
          "output_type": "stream",
          "text": [
            "training R2 Score :  0.8215099192361264\n",
            "testing R2 Score  :  0.8208741703103731\n"
          ]
        }
      ],
      "source": [
        "#Calculation of R2 score for training and testing\n",
        "r2_lr_train = r2_score(y_train, y_train_pred)\n",
        "r2_lr_test = r2_score(y_test, y_test_pred)\n",
        "print(\"training R2 Score : \",r2_lr_train)\n",
        "print(\"testing R2 Score  : \",r2_lr_test)"
      ]
    },
    {
      "cell_type": "markdown",
      "id": "c07fad52-ae82-49f7-b618-0cb356ef07b2",
      "metadata": {
        "id": "c07fad52-ae82-49f7-b618-0cb356ef07b2"
      },
      "source": [
        "The R2 Score (coefficient of determination) score measures how well the independent variables explain the variance of the dependent variable. It ranges from 0 to 1, where a value closer to 1 indicates a better fit.\n",
        "\n",
        "Interpreting the R2 Scores : Training R2: 0.821 & Testing R2: 0.820\n",
        "\n",
        "Inference:\n",
        "> Both training and testing R2 score are high and very close, suggesting the model fits the data well and generalizes effectively to unseen data.\n",
        "\n",
        "> The slight difference indicates minimal overfitting, which is desirable in predictive modeling."
      ]
    },
    {
      "cell_type": "code",
      "execution_count": null,
      "id": "2ec047b8-2619-4566-9272-931615a43dbb",
      "metadata": {
        "id": "2ec047b8-2619-4566-9272-931615a43dbb",
        "outputId": "700241b5-7b58-424a-add9-c3a0550f6944"
      },
      "outputs": [
        {
          "name": "stdout",
          "output_type": "stream",
          "text": [
            "training Adj. R2 Score :  0.8183225963653429\n",
            "testing Adj. R2 Score  :  0.807245031094858\n"
          ]
        }
      ],
      "source": [
        "#Calculation of Adj. R2 score for training and testing\n",
        "n_train, p = X_train.shape\n",
        "n_test = X_test.shape[0]\n",
        "\n",
        "adj_lr_r2_train = 1 - ((1 - r2_lr_train) * (n_train - 1) / (n_train - p - 1))\n",
        "adj_lr_r2_test = 1 - ((1 - r2_lr_test) * (n_test - 1) / (n_test - p - 1))\n",
        "print(\"training Adj. R2 Score : \",adj_lr_r2_train)\n",
        "print(\"testing Adj. R2 Score  : \",adj_lr_r2_test)"
      ]
    },
    {
      "cell_type": "markdown",
      "id": "c7e94342-e65f-41bd-87c6-612a62caa89c",
      "metadata": {
        "id": "c7e94342-e65f-41bd-87c6-612a62caa89c"
      },
      "source": [
        "Adjusted R2 accounts for the number of predictors in the model, providing a more accurate evaluation of model performance by penalizing the inclusion of irrelevant features. It adjusts the R2 value based on the number of independent variables, ensuring that adding more variables does not artificially inflate the score.\n",
        "\n",
        "Interpreting the Adj. R2 Scores : Training Adj. R2: 0.8183 & Testing Adj. R2: 0.8072\n",
        "\n",
        "Inference:\n",
        "> Both values are high, suggesting a good model fit and the small gap indicates the model generalizes well to test data.\n",
        "\n",
        "> Adjusted R2 is slightly lower than 𝑅2 , reflecting appropriate penalization for model complexity."
      ]
    },
    {
      "cell_type": "markdown",
      "id": "a7aad8e7-146f-4a13-ba2b-3bc940d3afe5",
      "metadata": {
        "id": "a7aad8e7-146f-4a13-ba2b-3bc940d3afe5"
      },
      "source": [
        "### Testing the assumptions of the linear regression model"
      ]
    },
    {
      "cell_type": "markdown",
      "id": "1e13eb8c-32ac-42b0-84d3-0b433cfa1060",
      "metadata": {
        "id": "1e13eb8c-32ac-42b0-84d3-0b433cfa1060"
      },
      "source": [
        "#### A. Multicolinearity check by VIF score"
      ]
    },
    {
      "cell_type": "code",
      "execution_count": null,
      "id": "af132e7b-70ea-4f41-9c0c-02e8b1808b13",
      "metadata": {
        "id": "af132e7b-70ea-4f41-9c0c-02e8b1808b13",
        "outputId": "3dbfa221-6304-4704-c6af-8361218e5264"
      },
      "outputs": [
        {
          "data": {
            "image/png": "[encoded data removed]",
            "text/plain": [
              "<Figure size 640x480 with 1 Axes>"
            ]
          },
          "metadata": {},
          "output_type": "display_data"
        }
      ],
      "source": [
        "#To check the importance of each feature\n",
        "imp = pd.DataFrame(list(zip(X_test.columns,np.abs(model.coef_))),\n",
        "                   columns=['feature', 'coeff'])\n",
        "sns.barplot(x='feature', y='coeff', data=imp)\n",
        "plt.xticks(rotation=90)\n",
        "plt.show()"
      ]
    },
    {
      "cell_type": "markdown",
      "id": "ee228e55-ff55-42fe-abd0-2e258328b5cb",
      "metadata": {
        "id": "ee228e55-ff55-42fe-abd0-2e258328b5cb"
      },
      "source": [
        "Features with small coefficients like SOP might indicate excessive correlation with others, suggesting redundancy that should be further investigated using VIF. On the other hand, features like CGPA, GRE, TOEFL has higher coefficients that indicates less correlation."
      ]
    },
    {
      "cell_type": "code",
      "execution_count": null,
      "id": "126527cb-a774-41f2-b7c4-aa7f38288d2f",
      "metadata": {
        "id": "126527cb-a774-41f2-b7c4-aa7f38288d2f",
        "outputId": "a01e45b7-9222-4d3d-b17a-d47dde72a177"
      },
      "outputs": [
        {
          "name": "stdout",
          "output_type": "stream",
          "text": [
            "                            OLS Regression Results                            \n",
            "==============================================================================\n",
            "Dep. Variable:              GRE Score   R-squared:                       0.795\n",
            "Model:                            OLS   Adj. R-squared:                  0.792\n",
            "Method:                 Least Squares   F-statistic:                     254.2\n",
            "Date:                Tue, 17 Dec 2024   Prob (F-statistic):          6.50e-132\n",
            "Time:                        17:42:06   Log-Likelihood:                -255.06\n",
            "No. Observations:                 400   AIC:                             524.1\n",
            "Df Residuals:                     393   BIC:                             552.1\n",
            "Df Model:                           6                                         \n",
            "Covariance Type:            nonrobust                                         \n",
            "=====================================================================================\n",
            "                        coef    std err          t      P>|t|      [0.025      0.975]\n",
            "-------------------------------------------------------------------------------------\n",
            "const                -0.0223      0.023     -0.961      0.337      -0.068       0.023\n",
            "TOEFL Score           0.4669      0.040     11.565      0.000       0.388       0.546\n",
            "University Rating     0.0625      0.038      1.625      0.105      -0.013       0.138\n",
            "SOP                  -0.0648      0.038     -1.689      0.092      -0.140       0.011\n",
            "LOR                  -0.0190      0.033     -0.579      0.563      -0.084       0.046\n",
            "CGPA                  0.3829      0.046      8.261      0.000       0.292       0.474\n",
            "Research              0.1619      0.027      5.974      0.000       0.109       0.215\n",
            "==============================================================================\n",
            "Omnibus:                        0.877   Durbin-Watson:                   2.161\n",
            "Prob(Omnibus):                  0.645   Jarque-Bera (JB):                0.658\n",
            "Skew:                          -0.000   Prob(JB):                        0.720\n",
            "Kurtosis:                       3.199   Cond. No.                         4.83\n",
            "==============================================================================\n",
            "\n",
            "Notes:\n",
            "[1] Standard Errors assume that the covariance matrix of the errors is correctly specified.\n"
          ]
        }
      ],
      "source": [
        "#Predicting GRE with other feature values\n",
        "import statsmodels.api as sm\n",
        "vif = pd.DataFrame()\n",
        "vif[\"Features\"] = X_train.columns\n",
        "cols2 = vif[\"Features\"][1:].values\n",
        "target = vif[\"Features\"][0] #GRE score\n",
        "X2 = pd.DataFrame(X_train, columns=X_train.columns)[cols2]\n",
        "X2_sm = sm.add_constant(X2)  #Statmodels default is without intercept, to add intercept we need to add constant\n",
        "y2 = pd.DataFrame(X_train)[target]\n",
        "\n",
        "sm_model = sm.OLS(y2, X2_sm).fit()\n",
        "print(sm_model.summary())"
      ]
    },
    {
      "cell_type": "markdown",
      "id": "bfa904df-4e7f-4da0-b4cb-292a5cd9e338",
      "metadata": {
        "id": "bfa904df-4e7f-4da0-b4cb-292a5cd9e338"
      },
      "source": [
        "\n",
        "Predicting GRE scores involves features such as TOEFL, CGPA, SOP, University Rating, LOR, and Research, yielding a ( R \\) value of 0.79. While t  ( R \\) score indicates moderate predictive accuracy, it also suggests relatively low multicollinearity among the features. This is supported by the expectation of low VIF values, reducing concerns about redundancy or strong interdependence between the GRE score and other variables."
      ]
    },
    {
      "cell_type": "code",
      "execution_count": null,
      "id": "fafa8f10-8cba-4710-ab3d-29a4ebb70086",
      "metadata": {
        "id": "fafa8f10-8cba-4710-ab3d-29a4ebb70086",
        "outputId": "d383bb05-8deb-4dcd-fa31-42944dec43a4"
      },
      "outputs": [
        {
          "data": {
            "text/html": [
              "<div>\n",
              "<style scoped>\n",
              "    .dataframe tbody tr th:only-of-type {\n",
              "        vertical-align: middle;\n",
              "    }\n",
              "\n",
              "    .dataframe tbody tr th {\n",
              "        vertical-align: top;\n",
              "    }\n",
              "\n",
              "    .dataframe thead th {\n",
              "        text-align: right;\n",
              "    }\n",
              "</style>\n",
              "<table border=\"1\" class=\"dataframe\">\n",
              "  <thead>\n",
              "    <tr style=\"text-align: right;\">\n",
              "      <th></th>\n",
              "      <th>Features</th>\n",
              "      <th>VIF</th>\n",
              "    </tr>\n",
              "  </thead>\n",
              "  <tbody>\n",
              "    <tr>\n",
              "      <th>5</th>\n",
              "      <td>CGPA</td>\n",
              "      <td>4.05</td>\n",
              "    </tr>\n",
              "    <tr>\n",
              "      <th>1</th>\n",
              "      <td>TOEFL Score</td>\n",
              "      <td>3.18</td>\n",
              "    </tr>\n",
              "    <tr>\n",
              "      <th>3</th>\n",
              "      <td>SOP</td>\n",
              "      <td>2.90</td>\n",
              "    </tr>\n",
              "    <tr>\n",
              "      <th>2</th>\n",
              "      <td>University Rating</td>\n",
              "      <td>2.78</td>\n",
              "    </tr>\n",
              "    <tr>\n",
              "      <th>4</th>\n",
              "      <td>LOR</td>\n",
              "      <td>2.08</td>\n",
              "    </tr>\n",
              "    <tr>\n",
              "      <th>6</th>\n",
              "      <td>Research</td>\n",
              "      <td>1.38</td>\n",
              "    </tr>\n",
              "    <tr>\n",
              "      <th>0</th>\n",
              "      <td>const</td>\n",
              "      <td>1.01</td>\n",
              "    </tr>\n",
              "  </tbody>\n",
              "</table>\n",
              "</div>"
            ],
            "text/plain": [
              "            Features   VIF\n",
              "5               CGPA  4.05\n",
              "1        TOEFL Score  3.18\n",
              "3                SOP  2.90\n",
              "2  University Rating  2.78\n",
              "4               LOR   2.08\n",
              "6           Research  1.38\n",
              "0              const  1.01"
            ]
          },
          "execution_count": 71,
          "metadata": {},
          "output_type": "execute_result"
        }
      ],
      "source": [
        "#Calculating the VIF score\n",
        "from statsmodels.stats.outliers_influence import variance_inflation_factor\n",
        "vif = pd.DataFrame()\n",
        "X_t = pd.DataFrame(X2_sm, columns=X2_sm.columns)\n",
        "vif['Features'] = X_t.columns\n",
        "vif['VIF'] = [variance_inflation_factor(X_t.values, i) for i in range(X_t.shape[1])]\n",
        "vif['VIF'] = round(vif['VIF'], 2)\n",
        "vif = vif.sort_values(by = \"VIF\", ascending = False)\n",
        "vif"
      ]
    },
    {
      "cell_type": "markdown",
      "id": "84e89861-1f05-4862-8742-384a7a8cb0bc",
      "metadata": {
        "id": "84e89861-1f05-4862-8742-384a7a8cb0bc"
      },
      "source": [
        "All the VIF scores are less than 5 which suggests that there's no need to drop any variables in the gives data set."
      ]
    },
    {
      "cell_type": "code",
      "execution_count": null,
      "id": "b2b04696-68c5-4596-ad8b-3a218237cb03",
      "metadata": {
        "id": "b2b04696-68c5-4596-ad8b-3a218237cb03",
        "outputId": "45c3862d-f1ae-4e85-e1af-4dce999ff9d9"
      },
      "outputs": [
        {
          "name": "stdout",
          "output_type": "stream",
          "text": [
            "                            OLS Regression Results                            \n",
            "==============================================================================\n",
            "Dep. Variable:            TOEFL Score   R-squared:                       0.765\n",
            "Model:                            OLS   Adj. R-squared:                  0.762\n",
            "Method:                 Least Squares   F-statistic:                     213.4\n",
            "Date:                Tue, 17 Dec 2024   Prob (F-statistic):          2.73e-120\n",
            "Time:                        17:42:06   Log-Likelihood:                -285.53\n",
            "No. Observations:                 400   AIC:                             585.1\n",
            "Df Residuals:                     393   BIC:                             613.0\n",
            "Df Model:                           6                                         \n",
            "Covariance Type:            nonrobust                                         \n",
            "=====================================================================================\n",
            "                        coef    std err          t      P>|t|      [0.025      0.975]\n",
            "-------------------------------------------------------------------------------------\n",
            "const                 0.0279      0.025      1.118      0.264      -0.021       0.077\n",
            "GRE Score             0.5438      0.047     11.565      0.000       0.451       0.636\n",
            "University Rating     0.0515      0.042      1.238      0.216      -0.030       0.133\n",
            "SOP                   0.0947      0.041      2.295      0.022       0.014       0.176\n",
            "LOR                   0.0081      0.035      0.229      0.819      -0.062       0.078\n",
            "CGPA                  0.2773      0.052      5.298      0.000       0.174       0.380\n",
            "Research             -0.0271      0.031     -0.889      0.374      -0.087       0.033\n",
            "==============================================================================\n",
            "Omnibus:                        5.866   Durbin-Watson:                   2.007\n",
            "Prob(Omnibus):                  0.053   Jarque-Bera (JB):                7.437\n",
            "Skew:                          -0.120   Prob(JB):                       0.0243\n",
            "Kurtosis:                       3.623   Cond. No.                         5.23\n",
            "==============================================================================\n",
            "\n",
            "Notes:\n",
            "[1] Standard Errors assume that the covariance matrix of the errors is correctly specified.\n"
          ]
        }
      ],
      "source": [
        "#Predicting TOEFL score with other feature values\n",
        "vif = pd.DataFrame()\n",
        "vif[\"Features\"] = X_train.columns\n",
        "cols1 = np.asarray(vif[\"Features\"][0]).reshape(1)\n",
        "cols2 = vif[\"Features\"][2:].values\n",
        "target = vif[\"Features\"][1] #TOEFL Score\n",
        "cols2 = np.concatenate((cols1,cols2))\n",
        "X2 = pd.DataFrame(X_train, columns=X_train.columns)[cols2]\n",
        "X2_sm = sm.add_constant(X2)  #Statmodels default is without intercept, to add intercept we need to add constant\n",
        "y2 = pd.DataFrame(X_train)[target]\n",
        "\n",
        "sm_model = sm.OLS(y2, X2_sm).fit()\n",
        "print(sm_model.summary())"
      ]
    },
    {
      "cell_type": "markdown",
      "id": "21c6a7dc-1938-4eb3-8477-86715e353cca",
      "metadata": {
        "id": "21c6a7dc-1938-4eb3-8477-86715e353cca"
      },
      "source": [
        "Predicting TOEFL scores involves features such as GRE, CGPA, SOP, University Rating, LOR, and Research, yielding a (R^2) value of 0.76. While the (R^2) score indicates moderate predictive accuracy, it also suggests relatively low multicollinearity among the features. This is supported by the expectation of low VIF values, reducing concerns about redundancy or strong interdependence between the TOEFL score and other variables."
      ]
    },
    {
      "cell_type": "code",
      "execution_count": null,
      "id": "e107b92f-1696-4fdf-bfe9-38e531b150fd",
      "metadata": {
        "id": "e107b92f-1696-4fdf-bfe9-38e531b150fd",
        "outputId": "2b5d7836-b9ec-419b-8400-edfbc3840a3e"
      },
      "outputs": [
        {
          "data": {
            "text/html": [
              "<div>\n",
              "<style scoped>\n",
              "    .dataframe tbody tr th:only-of-type {\n",
              "        vertical-align: middle;\n",
              "    }\n",
              "\n",
              "    .dataframe tbody tr th {\n",
              "        vertical-align: top;\n",
              "    }\n",
              "\n",
              "    .dataframe thead th {\n",
              "        text-align: right;\n",
              "    }\n",
              "</style>\n",
              "<table border=\"1\" class=\"dataframe\">\n",
              "  <thead>\n",
              "    <tr style=\"text-align: right;\">\n",
              "      <th></th>\n",
              "      <th>Features</th>\n",
              "      <th>VIF</th>\n",
              "    </tr>\n",
              "  </thead>\n",
              "  <tbody>\n",
              "    <tr>\n",
              "      <th>5</th>\n",
              "      <td>CGPA</td>\n",
              "      <td>4.43</td>\n",
              "    </tr>\n",
              "    <tr>\n",
              "      <th>1</th>\n",
              "      <td>GRE Score</td>\n",
              "      <td>3.64</td>\n",
              "    </tr>\n",
              "    <tr>\n",
              "      <th>3</th>\n",
              "      <td>SOP</td>\n",
              "      <td>2.88</td>\n",
              "    </tr>\n",
              "    <tr>\n",
              "      <th>2</th>\n",
              "      <td>University Rating</td>\n",
              "      <td>2.79</td>\n",
              "    </tr>\n",
              "    <tr>\n",
              "      <th>4</th>\n",
              "      <td>LOR</td>\n",
              "      <td>2.08</td>\n",
              "    </tr>\n",
              "    <tr>\n",
              "      <th>6</th>\n",
              "      <td>Research</td>\n",
              "      <td>1.50</td>\n",
              "    </tr>\n",
              "    <tr>\n",
              "      <th>0</th>\n",
              "      <td>const</td>\n",
              "      <td>1.00</td>\n",
              "    </tr>\n",
              "  </tbody>\n",
              "</table>\n",
              "</div>"
            ],
            "text/plain": [
              "            Features   VIF\n",
              "5               CGPA  4.43\n",
              "1          GRE Score  3.64\n",
              "3                SOP  2.88\n",
              "2  University Rating  2.79\n",
              "4               LOR   2.08\n",
              "6           Research  1.50\n",
              "0              const  1.00"
            ]
          },
          "execution_count": 75,
          "metadata": {},
          "output_type": "execute_result"
        }
      ],
      "source": [
        "#Calculating the VIF scores\n",
        "vif = pd.DataFrame()\n",
        "X_t = pd.DataFrame(X2_sm, columns=X2_sm.columns)\n",
        "vif['Features'] = X_t.columns\n",
        "vif['VIF'] = [variance_inflation_factor(X_t.values, i) for i in range(X_t.shape[1])]\n",
        "vif['VIF'] = round(vif['VIF'], 2)\n",
        "vif = vif.sort_values(by = \"VIF\", ascending = False)\n",
        "vif"
      ]
    },
    {
      "cell_type": "markdown",
      "id": "bebc97d1-d60b-47a1-ae03-cfcdb8d4bd92",
      "metadata": {
        "id": "bebc97d1-d60b-47a1-ae03-cfcdb8d4bd92"
      },
      "source": [
        "All the VIF scores are less than 5 which suggests that there's no need to drop any variables in the gives data set."
      ]
    },
    {
      "cell_type": "code",
      "execution_count": null,
      "id": "c77fa307-e26f-4f48-b354-2959bb9be9c7",
      "metadata": {
        "id": "c77fa307-e26f-4f48-b354-2959bb9be9c7",
        "outputId": "d1ddb4c2-7eb4-4f3a-f45a-55d9a9820092"
      },
      "outputs": [
        {
          "name": "stdout",
          "output_type": "stream",
          "text": [
            "                            OLS Regression Results                            \n",
            "==============================================================================\n",
            "Dep. Variable:      University Rating   R-squared:                       0.642\n",
            "Model:                            OLS   Adj. R-squared:                  0.637\n",
            "Method:                 Least Squares   F-statistic:                     141.1\n",
            "Date:                Tue, 17 Dec 2024   Prob (F-statistic):           1.72e-85\n",
            "Time:                        17:42:06   Log-Likelihood:                -362.88\n",
            "No. Observations:                 400   AIC:                             737.8\n",
            "Df Residuals:                     394   BIC:                             761.7\n",
            "Df Model:                           5                                         \n",
            "Covariance Type:            nonrobust                                         \n",
            "==============================================================================\n",
            "                 coef    std err          t      P>|t|      [0.025      0.975]\n",
            "------------------------------------------------------------------------------\n",
            "const         -0.0317      0.030     -1.050      0.295      -0.091       0.028\n",
            "GRE Score      0.1484      0.056      2.627      0.009       0.037       0.259\n",
            "SOP            0.3993      0.046      8.722      0.000       0.309       0.489\n",
            "LOR            0.1392      0.042      3.285      0.001       0.056       0.223\n",
            "CGPA           0.1848      0.063      2.946      0.003       0.061       0.308\n",
            "Research       0.0454      0.037      1.229      0.220      -0.027       0.118\n",
            "==============================================================================\n",
            "Omnibus:                        7.597   Durbin-Watson:                   1.893\n",
            "Prob(Omnibus):                  0.022   Jarque-Bera (JB):               10.571\n",
            "Skew:                           0.135   Prob(JB):                      0.00507\n",
            "Kurtosis:                       3.749   Cond. No.                         4.77\n",
            "==============================================================================\n",
            "\n",
            "Notes:\n",
            "[1] Standard Errors assume that the covariance matrix of the errors is correctly specified.\n"
          ]
        }
      ],
      "source": [
        "#Predicting University rating with other feature values\n",
        "vif = pd.DataFrame()\n",
        "vif[\"Features\"] = X_train.columns\n",
        "cols1 = np.asarray(vif[\"Features\"][0:1])\n",
        "cols2 = vif[\"Features\"][3:].values\n",
        "target = vif[\"Features\"][2] #University Rating\n",
        "cols2 = np.concatenate((cols1,cols2))\n",
        "X2 = pd.DataFrame(X_train, columns=X_train.columns)[cols2]\n",
        "X2_sm = sm.add_constant(X2)  #Statmodels default is without intercept, to add intercept we need to add constant\n",
        "y2 = pd.DataFrame(X_train)[target]\n",
        "\n",
        "sm_model = sm.OLS(y2, X2_sm).fit()\n",
        "print(sm_model.summary())"
      ]
    },
    {
      "cell_type": "markdown",
      "id": "3398a3bd-471c-4bef-992e-22d0bb762274",
      "metadata": {
        "id": "3398a3bd-471c-4bef-992e-22d0bb762274"
      },
      "source": [
        "Predicting University rating involves features such as GRE, CGPA, SOP, TOEFL, LOR, and Research, yielding a (R^2) value of 0.64. While the (R^2) score indicates moderate predictive accuracy, it also suggests relatively low multicollinearity among the features. This is supported by the expectation of low VIF values, reducing concerns about redundancy or strong interdependence between the University rating and other variables."
      ]
    },
    {
      "cell_type": "code",
      "execution_count": null,
      "id": "ddf2fd20-3b1f-4f43-8352-4bd701f0a05c",
      "metadata": {
        "id": "ddf2fd20-3b1f-4f43-8352-4bd701f0a05c",
        "outputId": "d007db07-8d46-4d4f-de61-4819efaadb9a"
      },
      "outputs": [
        {
          "data": {
            "text/html": [
              "<div>\n",
              "<style scoped>\n",
              "    .dataframe tbody tr th:only-of-type {\n",
              "        vertical-align: middle;\n",
              "    }\n",
              "\n",
              "    .dataframe tbody tr th {\n",
              "        vertical-align: top;\n",
              "    }\n",
              "\n",
              "    .dataframe thead th {\n",
              "        text-align: right;\n",
              "    }\n",
              "</style>\n",
              "<table border=\"1\" class=\"dataframe\">\n",
              "  <thead>\n",
              "    <tr style=\"text-align: right;\">\n",
              "      <th></th>\n",
              "      <th>Features</th>\n",
              "      <th>VIF</th>\n",
              "    </tr>\n",
              "  </thead>\n",
              "  <tbody>\n",
              "    <tr>\n",
              "      <th>4</th>\n",
              "      <td>CGPA</td>\n",
              "      <td>4.34</td>\n",
              "    </tr>\n",
              "    <tr>\n",
              "      <th>1</th>\n",
              "      <td>GRE Score</td>\n",
              "      <td>3.58</td>\n",
              "    </tr>\n",
              "    <tr>\n",
              "      <th>2</th>\n",
              "      <td>SOP</td>\n",
              "      <td>2.41</td>\n",
              "    </tr>\n",
              "    <tr>\n",
              "      <th>3</th>\n",
              "      <td>LOR</td>\n",
              "      <td>2.03</td>\n",
              "    </tr>\n",
              "    <tr>\n",
              "      <th>5</th>\n",
              "      <td>Research</td>\n",
              "      <td>1.50</td>\n",
              "    </tr>\n",
              "    <tr>\n",
              "      <th>0</th>\n",
              "      <td>const</td>\n",
              "      <td>1.00</td>\n",
              "    </tr>\n",
              "  </tbody>\n",
              "</table>\n",
              "</div>"
            ],
            "text/plain": [
              "    Features   VIF\n",
              "4       CGPA  4.34\n",
              "1  GRE Score  3.58\n",
              "2        SOP  2.41\n",
              "3       LOR   2.03\n",
              "5   Research  1.50\n",
              "0      const  1.00"
            ]
          },
          "execution_count": 79,
          "metadata": {},
          "output_type": "execute_result"
        }
      ],
      "source": [
        "#Calculating the VIF score\n",
        "vif = pd.DataFrame()\n",
        "X_t = pd.DataFrame(X2_sm, columns=X2_sm.columns)\n",
        "vif['Features'] = X_t.columns\n",
        "vif['VIF'] = [variance_inflation_factor(X_t.values, i) for i in range(X_t.shape[1])]\n",
        "vif['VIF'] = round(vif['VIF'], 2)\n",
        "vif = vif.sort_values(by = \"VIF\", ascending = False)\n",
        "vif"
      ]
    },
    {
      "cell_type": "markdown",
      "id": "9ec7cba8-03ee-49fd-924a-49b06102492d",
      "metadata": {
        "id": "9ec7cba8-03ee-49fd-924a-49b06102492d"
      },
      "source": [
        "All the VIF scores are less than 5 which suggests that there's no need to drop any variables in the gives data set."
      ]
    },
    {
      "cell_type": "code",
      "execution_count": null,
      "id": "d09db51c-3e25-478b-8ba7-3e0b9a0799c6",
      "metadata": {
        "id": "d09db51c-3e25-478b-8ba7-3e0b9a0799c6",
        "outputId": "1b1fad30-e5d9-42a5-be62-439d189e51e2"
      },
      "outputs": [
        {
          "name": "stdout",
          "output_type": "stream",
          "text": [
            "                            OLS Regression Results                            \n",
            "==============================================================================\n",
            "Dep. Variable:                    SOP   R-squared:                       0.595\n",
            "Model:                            OLS   Adj. R-squared:                  0.590\n",
            "Method:                 Least Squares   F-statistic:                     116.0\n",
            "Date:                Tue, 17 Dec 2024   Prob (F-statistic):           3.76e-75\n",
            "Time:                        17:42:07   Log-Likelihood:                -396.48\n",
            "No. Observations:                 400   AIC:                             805.0\n",
            "Df Residuals:                     394   BIC:                             828.9\n",
            "Df Model:                           5                                         \n",
            "Covariance Type:            nonrobust                                         \n",
            "===============================================================================\n",
            "                  coef    std err          t      P>|t|      [0.025      0.975]\n",
            "-------------------------------------------------------------------------------\n",
            "const          -0.0169      0.033     -0.514      0.608      -0.082       0.048\n",
            "GRE Score      -0.0819      0.071     -1.147      0.252      -0.222       0.058\n",
            "TOEFL Score     0.1999      0.066      3.049      0.002       0.071       0.329\n",
            "LOR             0.3633      0.042      8.585      0.000       0.280       0.447\n",
            "CGPA            0.3725      0.068      5.453      0.000       0.238       0.507\n",
            "Research        0.0395      0.040      0.983      0.326      -0.039       0.118\n",
            "==============================================================================\n",
            "Omnibus:                        5.199   Durbin-Watson:                   2.032\n",
            "Prob(Omnibus):                  0.074   Jarque-Bera (JB):                6.439\n",
            "Skew:                           0.104   Prob(JB):                       0.0400\n",
            "Kurtosis:                       3.586   Cond. No.                         4.97\n",
            "==============================================================================\n",
            "\n",
            "Notes:\n",
            "[1] Standard Errors assume that the covariance matrix of the errors is correctly specified.\n"
          ]
        }
      ],
      "source": [
        "#Predicting SOP with other feature values\n",
        "vif = pd.DataFrame()\n",
        "vif[\"Features\"] = X_train.columns\n",
        "cols1 = np.asarray(vif[\"Features\"][0:2])\n",
        "cols2 = vif[\"Features\"][4:].values\n",
        "target = vif[\"Features\"][3] #SOP\n",
        "cols2 = np.concatenate((cols1,cols2))\n",
        "X2 = pd.DataFrame(X_train, columns=X_train.columns)[cols2]\n",
        "X2_sm = sm.add_constant(X2)  #Statmodels default is without intercept, to add intercept we need to add constant\n",
        "y2 = pd.DataFrame(X_train)[target]\n",
        "\n",
        "sm_model = sm.OLS(y2, X2_sm).fit()\n",
        "print(sm_model.summary())"
      ]
    },
    {
      "cell_type": "markdown",
      "id": "9a806843-fa20-47e7-ba41-17120c67381d",
      "metadata": {
        "id": "9a806843-fa20-47e7-ba41-17120c67381d"
      },
      "source": [
        "Predicting SOP involves features such as GRE, CGPA, University rating, TOEFL, LOR, and Research, yielding a (R^2) value of 0.59. While the (R^2) score indicates moderate predictive accuracy, it also suggests relatively low multicollinearity among the features. This is supported by the expectation of low VIF values, reducing concerns about redundancy or strong interdependence between the SOP and other variables."
      ]
    },
    {
      "cell_type": "code",
      "execution_count": null,
      "id": "2936df2e-5778-4c74-9fde-06e206ad8f7b",
      "metadata": {
        "id": "2936df2e-5778-4c74-9fde-06e206ad8f7b",
        "outputId": "94c4cbb6-3648-47b9-addb-ebe4771475e1"
      },
      "outputs": [
        {
          "data": {
            "text/html": [
              "<div>\n",
              "<style scoped>\n",
              "    .dataframe tbody tr th:only-of-type {\n",
              "        vertical-align: middle;\n",
              "    }\n",
              "\n",
              "    .dataframe tbody tr th {\n",
              "        vertical-align: top;\n",
              "    }\n",
              "\n",
              "    .dataframe thead th {\n",
              "        text-align: right;\n",
              "    }\n",
              "</style>\n",
              "<table border=\"1\" class=\"dataframe\">\n",
              "  <thead>\n",
              "    <tr style=\"text-align: right;\">\n",
              "      <th></th>\n",
              "      <th>Features</th>\n",
              "      <th>VIF</th>\n",
              "    </tr>\n",
              "  </thead>\n",
              "  <tbody>\n",
              "    <tr>\n",
              "      <th>1</th>\n",
              "      <td>GRE Score</td>\n",
              "      <td>4.83</td>\n",
              "    </tr>\n",
              "    <tr>\n",
              "      <th>4</th>\n",
              "      <td>CGPA</td>\n",
              "      <td>4.35</td>\n",
              "    </tr>\n",
              "    <tr>\n",
              "      <th>2</th>\n",
              "      <td>TOEFL Score</td>\n",
              "      <td>4.14</td>\n",
              "    </tr>\n",
              "    <tr>\n",
              "      <th>3</th>\n",
              "      <td>LOR</td>\n",
              "      <td>1.71</td>\n",
              "    </tr>\n",
              "    <tr>\n",
              "      <th>5</th>\n",
              "      <td>Research</td>\n",
              "      <td>1.50</td>\n",
              "    </tr>\n",
              "    <tr>\n",
              "      <th>0</th>\n",
              "      <td>const</td>\n",
              "      <td>1.00</td>\n",
              "    </tr>\n",
              "  </tbody>\n",
              "</table>\n",
              "</div>"
            ],
            "text/plain": [
              "      Features   VIF\n",
              "1    GRE Score  4.83\n",
              "4         CGPA  4.35\n",
              "2  TOEFL Score  4.14\n",
              "3         LOR   1.71\n",
              "5     Research  1.50\n",
              "0        const  1.00"
            ]
          },
          "execution_count": 83,
          "metadata": {},
          "output_type": "execute_result"
        }
      ],
      "source": [
        "#Calculating the VIF score\n",
        "vif = pd.DataFrame()\n",
        "X_t = pd.DataFrame(X2_sm, columns=X2_sm.columns)\n",
        "vif['Features'] = X_t.columns\n",
        "vif['VIF'] = [variance_inflation_factor(X_t.values, i) for i in range(X_t.shape[1])]\n",
        "vif['VIF'] = round(vif['VIF'], 2)\n",
        "vif = vif.sort_values(by = \"VIF\", ascending = False)\n",
        "vif"
      ]
    },
    {
      "cell_type": "markdown",
      "id": "4c121ca5-6ae0-41a3-a543-682b650edf78",
      "metadata": {
        "id": "4c121ca5-6ae0-41a3-a543-682b650edf78"
      },
      "source": [
        "All the VIF scores are less than 5 which suggests that there's no need to drop any variables in the gives data set."
      ]
    },
    {
      "cell_type": "code",
      "execution_count": null,
      "id": "e763848c-d4a2-46fd-b505-852a8b67e2f5",
      "metadata": {
        "id": "e763848c-d4a2-46fd-b505-852a8b67e2f5",
        "outputId": "e94ddede-cc5b-45d5-ee71-44c172a7f807"
      },
      "outputs": [
        {
          "name": "stdout",
          "output_type": "stream",
          "text": [
            "                            OLS Regression Results                            \n",
            "==============================================================================\n",
            "Dep. Variable:                   LOR    R-squared:                       0.473\n",
            "Model:                            OLS   Adj. R-squared:                  0.467\n",
            "Method:                 Least Squares   F-statistic:                     70.78\n",
            "Date:                Tue, 17 Dec 2024   Prob (F-statistic):           1.00e-52\n",
            "Time:                        17:42:07   Log-Likelihood:                -445.05\n",
            "No. Observations:                 400   AIC:                             902.1\n",
            "Df Residuals:                     394   BIC:                             926.1\n",
            "Df Model:                           5                                         \n",
            "Covariance Type:            nonrobust                                         \n",
            "=====================================================================================\n",
            "                        coef    std err          t      P>|t|      [0.025      0.975]\n",
            "-------------------------------------------------------------------------------------\n",
            "const                 0.0267      0.037      0.718      0.473      -0.046       0.100\n",
            "GRE Score            -0.0916      0.081     -1.137      0.256      -0.250       0.067\n",
            "TOEFL Score           0.0713      0.074      0.957      0.339      -0.075       0.218\n",
            "University Rating     0.3589      0.054      6.634      0.000       0.253       0.465\n",
            "CGPA                  0.4145      0.076      5.432      0.000       0.264       0.565\n",
            "Research             -0.0099      0.045     -0.217      0.828      -0.099       0.079\n",
            "==============================================================================\n",
            "Omnibus:                        1.024   Durbin-Watson:                   2.084\n",
            "Prob(Omnibus):                  0.599   Jarque-Bera (JB):                1.045\n",
            "Skew:                          -0.018   Prob(JB):                        0.593\n",
            "Kurtosis:                       2.752   Cond. No.                         5.03\n",
            "==============================================================================\n",
            "\n",
            "Notes:\n",
            "[1] Standard Errors assume that the covariance matrix of the errors is correctly specified.\n"
          ]
        }
      ],
      "source": [
        "#Predicting LOR with other feature values\n",
        "vif = pd.DataFrame()\n",
        "vif[\"Features\"] = X_train.columns\n",
        "cols1 = np.asarray(vif[\"Features\"][0:3])\n",
        "cols2 = vif[\"Features\"][5:].values\n",
        "target = vif[\"Features\"][4] #LOR\n",
        "cols2 = np.concatenate((cols1,cols2))\n",
        "X2 = pd.DataFrame(X_train, columns=X_train.columns)[cols2]\n",
        "X2_sm = sm.add_constant(X2)  #Statmodels default is without intercept, to add intercept we need to add constant\n",
        "y2 = pd.DataFrame(X_train)[target]\n",
        "\n",
        "sm_model = sm.OLS(y2, X2_sm).fit()\n",
        "print(sm_model.summary())"
      ]
    },
    {
      "cell_type": "markdown",
      "id": "6c956cb8-0953-498b-9887-9ec085dcf137",
      "metadata": {
        "id": "6c956cb8-0953-498b-9887-9ec085dcf137"
      },
      "source": [
        "Predicting LOR involves features such as GRE, CGPA, University rating, TOEFL, SOP, and Research, yielding a (R^2) value of 0.47. While the (R^2) score indicates moderate predictive accuracy, it also suggests relatively low multicollinearity among the features. This is supported by the expectation of low VIF values, reducing concerns about redundancy or strong interdependence between the LOR and other variables."
      ]
    },
    {
      "cell_type": "code",
      "execution_count": null,
      "id": "ebf8d8db-ea5c-4fb6-b7b9-b91051287436",
      "metadata": {
        "id": "ebf8d8db-ea5c-4fb6-b7b9-b91051287436",
        "outputId": "bf1e1d49-955a-4f93-f8e8-1040ab8b0b6c"
      },
      "outputs": [
        {
          "data": {
            "text/html": [
              "<div>\n",
              "<style scoped>\n",
              "    .dataframe tbody tr th:only-of-type {\n",
              "        vertical-align: middle;\n",
              "    }\n",
              "\n",
              "    .dataframe tbody tr th {\n",
              "        vertical-align: top;\n",
              "    }\n",
              "\n",
              "    .dataframe thead th {\n",
              "        text-align: right;\n",
              "    }\n",
              "</style>\n",
              "<table border=\"1\" class=\"dataframe\">\n",
              "  <thead>\n",
              "    <tr style=\"text-align: right;\">\n",
              "      <th></th>\n",
              "      <th>Features</th>\n",
              "      <th>VIF</th>\n",
              "    </tr>\n",
              "  </thead>\n",
              "  <tbody>\n",
              "    <tr>\n",
              "      <th>1</th>\n",
              "      <td>GRE Score</td>\n",
              "      <td>4.83</td>\n",
              "    </tr>\n",
              "    <tr>\n",
              "      <th>4</th>\n",
              "      <td>CGPA</td>\n",
              "      <td>4.26</td>\n",
              "    </tr>\n",
              "    <tr>\n",
              "      <th>2</th>\n",
              "      <td>TOEFL Score</td>\n",
              "      <td>4.19</td>\n",
              "    </tr>\n",
              "    <tr>\n",
              "      <th>3</th>\n",
              "      <td>University Rating</td>\n",
              "      <td>2.13</td>\n",
              "    </tr>\n",
              "    <tr>\n",
              "      <th>5</th>\n",
              "      <td>Research</td>\n",
              "      <td>1.51</td>\n",
              "    </tr>\n",
              "    <tr>\n",
              "      <th>0</th>\n",
              "      <td>const</td>\n",
              "      <td>1.01</td>\n",
              "    </tr>\n",
              "  </tbody>\n",
              "</table>\n",
              "</div>"
            ],
            "text/plain": [
              "            Features   VIF\n",
              "1          GRE Score  4.83\n",
              "4               CGPA  4.26\n",
              "2        TOEFL Score  4.19\n",
              "3  University Rating  2.13\n",
              "5           Research  1.51\n",
              "0              const  1.01"
            ]
          },
          "execution_count": 87,
          "metadata": {},
          "output_type": "execute_result"
        }
      ],
      "source": [
        "#Calculating the VIF score\n",
        "vif = pd.DataFrame()\n",
        "X_t = pd.DataFrame(X2_sm, columns=X2_sm.columns)\n",
        "vif['Features'] = X_t.columns\n",
        "vif['VIF'] = [variance_inflation_factor(X_t.values, i) for i in range(X_t.shape[1])]\n",
        "vif['VIF'] = round(vif['VIF'], 2)\n",
        "vif = vif.sort_values(by = \"VIF\", ascending = False)\n",
        "vif"
      ]
    },
    {
      "cell_type": "markdown",
      "id": "972526fa-4564-4c29-a417-950590f40d90",
      "metadata": {
        "id": "972526fa-4564-4c29-a417-950590f40d90"
      },
      "source": [
        "All the VIF scores are less than 5 which suggests that there's no need to drop any variables in the gives data set."
      ]
    },
    {
      "cell_type": "code",
      "execution_count": null,
      "id": "e34df945-493c-408e-8a91-9ac321b62027",
      "metadata": {
        "id": "e34df945-493c-408e-8a91-9ac321b62027",
        "outputId": "a35d47ad-d176-48b9-bbb2-652244da9404"
      },
      "outputs": [
        {
          "name": "stdout",
          "output_type": "stream",
          "text": [
            "                            OLS Regression Results                            \n",
            "==============================================================================\n",
            "Dep. Variable:                   CGPA   R-squared:                       0.782\n",
            "Model:                            OLS   Adj. R-squared:                  0.779\n",
            "Method:                 Least Squares   F-statistic:                     282.0\n",
            "Date:                Tue, 17 Dec 2024   Prob (F-statistic):          9.84e-128\n",
            "Time:                        17:42:07   Log-Likelihood:                -264.30\n",
            "No. Observations:                 400   AIC:                             540.6\n",
            "Df Residuals:                     394   BIC:                             564.5\n",
            "Df Model:                           5                                         \n",
            "Covariance Type:            nonrobust                                         \n",
            "=====================================================================================\n",
            "                        coef    std err          t      P>|t|      [0.025      0.975]\n",
            "-------------------------------------------------------------------------------------\n",
            "const                 0.0058      0.024      0.245      0.807      -0.041       0.052\n",
            "GRE Score             0.3952      0.048      8.313      0.000       0.302       0.489\n",
            "TOEFL Score           0.2515      0.046      5.461      0.000       0.161       0.342\n",
            "University Rating     0.1247      0.038      3.245      0.001       0.049       0.200\n",
            "SOP                   0.1982      0.036      5.472      0.000       0.127       0.269\n",
            "Research              0.0197      0.029      0.681      0.496      -0.037       0.077\n",
            "==============================================================================\n",
            "Omnibus:                       45.606   Durbin-Watson:                   1.874\n",
            "Prob(Omnibus):                  0.000   Jarque-Bera (JB):               78.506\n",
            "Skew:                          -0.695   Prob(JB):                     8.97e-18\n",
            "Kurtosis:                       4.666   Cond. No.                         4.88\n",
            "==============================================================================\n",
            "\n",
            "Notes:\n",
            "[1] Standard Errors assume that the covariance matrix of the errors is correctly specified.\n"
          ]
        }
      ],
      "source": [
        "#Predicting CGPA with other feature values\n",
        "vif = pd.DataFrame()\n",
        "vif[\"Features\"] = X_train.columns\n",
        "cols1 = np.asarray(vif[\"Features\"][0:4])\n",
        "cols2 = vif[\"Features\"][6:].values\n",
        "target = vif[\"Features\"][5] #CGPA\n",
        "cols2 = np.concatenate((cols1,cols2))\n",
        "X2 = pd.DataFrame(X_train, columns=X_train.columns)[cols2]\n",
        "X2_sm = sm.add_constant(X2)  #Statmodels default is without intercept, to add intercept we need to add constant\n",
        "y2 = pd.DataFrame(X_train)[target]\n",
        "\n",
        "sm_model = sm.OLS(y2, X2_sm).fit()\n",
        "print(sm_model.summary())"
      ]
    },
    {
      "cell_type": "markdown",
      "id": "01f26215-7186-481b-a480-0776bc2147fe",
      "metadata": {
        "id": "01f26215-7186-481b-a480-0776bc2147fe"
      },
      "source": [
        "Predicting CGPA involves features such as GRE, LOR, University rating, TOEFL, SOP, and Research, yielding a (R^2) value of 0.78. While the (R^2) score indicates moderate predictive accuracy, it also suggests relatively low multicollinearity among the features. This is supported by the expectation of low VIF values, reducing concerns about redundancy or strong interdependence between the CGPA and other variables."
      ]
    },
    {
      "cell_type": "code",
      "execution_count": null,
      "id": "b5ef1ecd-3292-4f01-80cc-57b4d06ee6ce",
      "metadata": {
        "id": "b5ef1ecd-3292-4f01-80cc-57b4d06ee6ce",
        "outputId": "d0031d27-aa4c-4360-b374-41bacc16acd7"
      },
      "outputs": [
        {
          "data": {
            "text/html": [
              "<div>\n",
              "<style scoped>\n",
              "    .dataframe tbody tr th:only-of-type {\n",
              "        vertical-align: middle;\n",
              "    }\n",
              "\n",
              "    .dataframe tbody tr th {\n",
              "        vertical-align: top;\n",
              "    }\n",
              "\n",
              "    .dataframe thead th {\n",
              "        text-align: right;\n",
              "    }\n",
              "</style>\n",
              "<table border=\"1\" class=\"dataframe\">\n",
              "  <thead>\n",
              "    <tr style=\"text-align: right;\">\n",
              "      <th></th>\n",
              "      <th>Features</th>\n",
              "      <th>VIF</th>\n",
              "    </tr>\n",
              "  </thead>\n",
              "  <tbody>\n",
              "    <tr>\n",
              "      <th>1</th>\n",
              "      <td>GRE Score</td>\n",
              "      <td>4.15</td>\n",
              "    </tr>\n",
              "    <tr>\n",
              "      <th>2</th>\n",
              "      <td>TOEFL Score</td>\n",
              "      <td>3.96</td>\n",
              "    </tr>\n",
              "    <tr>\n",
              "      <th>3</th>\n",
              "      <td>University Rating</td>\n",
              "      <td>2.66</td>\n",
              "    </tr>\n",
              "    <tr>\n",
              "      <th>4</th>\n",
              "      <td>SOP</td>\n",
              "      <td>2.47</td>\n",
              "    </tr>\n",
              "    <tr>\n",
              "      <th>5</th>\n",
              "      <td>Research</td>\n",
              "      <td>1.51</td>\n",
              "    </tr>\n",
              "    <tr>\n",
              "      <th>0</th>\n",
              "      <td>const</td>\n",
              "      <td>1.01</td>\n",
              "    </tr>\n",
              "  </tbody>\n",
              "</table>\n",
              "</div>"
            ],
            "text/plain": [
              "            Features   VIF\n",
              "1          GRE Score  4.15\n",
              "2        TOEFL Score  3.96\n",
              "3  University Rating  2.66\n",
              "4                SOP  2.47\n",
              "5           Research  1.51\n",
              "0              const  1.01"
            ]
          },
          "execution_count": 91,
          "metadata": {},
          "output_type": "execute_result"
        }
      ],
      "source": [
        "#Calculating the VIF score\n",
        "vif = pd.DataFrame()\n",
        "X_t = pd.DataFrame(X2_sm, columns=X2_sm.columns)\n",
        "vif['Features'] = X_t.columns\n",
        "vif['VIF'] = [variance_inflation_factor(X_t.values, i) for i in range(X_t.shape[1])]\n",
        "vif['VIF'] = round(vif['VIF'], 2)\n",
        "vif = vif.sort_values(by = \"VIF\", ascending = False)\n",
        "vif"
      ]
    },
    {
      "cell_type": "markdown",
      "id": "69306c64-77b7-44e0-b1c2-64e5834bbfd1",
      "metadata": {
        "id": "69306c64-77b7-44e0-b1c2-64e5834bbfd1"
      },
      "source": [
        "All the VIF scores are less than 5 which suggests that there's no need to drop any variables in the gives data set."
      ]
    },
    {
      "cell_type": "code",
      "execution_count": null,
      "id": "904e919c-ba26-4bce-be15-96e308fdf20c",
      "metadata": {
        "id": "904e919c-ba26-4bce-be15-96e308fdf20c",
        "outputId": "a1a5fc61-edef-4053-efc4-3ddebf00b10e"
      },
      "outputs": [
        {
          "name": "stdout",
          "output_type": "stream",
          "text": [
            "                            OLS Regression Results                            \n",
            "==============================================================================\n",
            "Dep. Variable:               Research   R-squared:                       0.336\n",
            "Model:                            OLS   Adj. R-squared:                  0.327\n",
            "Method:                 Least Squares   F-statistic:                     39.86\n",
            "Date:                Tue, 17 Dec 2024   Prob (F-statistic):           3.94e-33\n",
            "Time:                        17:42:07   Log-Likelihood:                -486.39\n",
            "No. Observations:                 400   AIC:                             984.8\n",
            "Df Residuals:                     394   BIC:                             1009.\n",
            "Df Model:                           5                                         \n",
            "Covariance Type:            nonrobust                                         \n",
            "=====================================================================================\n",
            "                        coef    std err          t      P>|t|      [0.025      0.975]\n",
            "-------------------------------------------------------------------------------------\n",
            "const                 0.0063      0.041      0.154      0.878      -0.075       0.088\n",
            "GRE Score             0.5401      0.078      6.895      0.000       0.386       0.694\n",
            "TOEFL Score          -0.0584      0.080     -0.726      0.468      -0.216       0.100\n",
            "University Rating     0.0943      0.068      1.386      0.167      -0.039       0.228\n",
            "SOP                   0.0371      0.067      0.552      0.581      -0.095       0.169\n",
            "LOR                  -0.0110      0.057     -0.191      0.849      -0.124       0.102\n",
            "==============================================================================\n",
            "Omnibus:                       24.140   Durbin-Watson:                   1.948\n",
            "Prob(Omnibus):                  0.000   Jarque-Bera (JB):                9.812\n",
            "Skew:                           0.091   Prob(JB):                      0.00740\n",
            "Kurtosis:                       2.255   Cond. No.                         4.89\n",
            "==============================================================================\n",
            "\n",
            "Notes:\n",
            "[1] Standard Errors assume that the covariance matrix of the errors is correctly specified.\n"
          ]
        }
      ],
      "source": [
        "#Predicting Research with other feature values\n",
        "vif = pd.DataFrame()\n",
        "vif[\"Features\"] = X_train.columns\n",
        "cols1 = np.asarray(vif[\"Features\"][0:5])\n",
        "cols2 = vif[\"Features\"][7:].values\n",
        "target = vif[\"Features\"][6] #Research\n",
        "cols2 = np.concatenate((cols1,cols2))\n",
        "X2 = pd.DataFrame(X_train, columns=X_train.columns)[cols2]\n",
        "X2_sm = sm.add_constant(X2)  #Statmodels default is without intercept, to add intercept we need to add constant\n",
        "y2 = pd.DataFrame(X_train)[target]\n",
        "\n",
        "sm_model = sm.OLS(y2, X2_sm).fit()\n",
        "print(sm_model.summary())"
      ]
    },
    {
      "cell_type": "markdown",
      "id": "e48a7b4e-3c7b-4f47-9d5f-88de58c21962",
      "metadata": {
        "id": "e48a7b4e-3c7b-4f47-9d5f-88de58c21962"
      },
      "source": [
        "Predicting Research involves features such as GRE, LOR, University rating, TOEFL, SOP, and CGPA, yielding a (R^2) value of 0.33. While the (R^2) score indicates moderate predictive accuracy, it also suggests relatively low multicollinearity among the features. This is supported by the expectation of low VIF values, reducing concerns about redundancy or strong interdependence between the Research and other variables."
      ]
    },
    {
      "cell_type": "code",
      "execution_count": null,
      "id": "e69d179f-e102-4c00-97c4-dcf543965d41",
      "metadata": {
        "id": "e69d179f-e102-4c00-97c4-dcf543965d41",
        "outputId": "73ba225e-09e3-4f67-b165-cf468871a3cf"
      },
      "outputs": [
        {
          "data": {
            "text/html": [
              "<div>\n",
              "<style scoped>\n",
              "    .dataframe tbody tr th:only-of-type {\n",
              "        vertical-align: middle;\n",
              "    }\n",
              "\n",
              "    .dataframe tbody tr th {\n",
              "        vertical-align: top;\n",
              "    }\n",
              "\n",
              "    .dataframe thead th {\n",
              "        text-align: right;\n",
              "    }\n",
              "</style>\n",
              "<table border=\"1\" class=\"dataframe\">\n",
              "  <thead>\n",
              "    <tr style=\"text-align: right;\">\n",
              "      <th></th>\n",
              "      <th>Features</th>\n",
              "      <th>VIF</th>\n",
              "    </tr>\n",
              "  </thead>\n",
              "  <tbody>\n",
              "    <tr>\n",
              "      <th>2</th>\n",
              "      <td>TOEFL Score</td>\n",
              "      <td>3.97</td>\n",
              "    </tr>\n",
              "    <tr>\n",
              "      <th>1</th>\n",
              "      <td>GRE Score</td>\n",
              "      <td>3.71</td>\n",
              "    </tr>\n",
              "    <tr>\n",
              "      <th>4</th>\n",
              "      <td>SOP</td>\n",
              "      <td>2.81</td>\n",
              "    </tr>\n",
              "    <tr>\n",
              "      <th>3</th>\n",
              "      <td>University Rating</td>\n",
              "      <td>2.74</td>\n",
              "    </tr>\n",
              "    <tr>\n",
              "      <th>5</th>\n",
              "      <td>LOR</td>\n",
              "      <td>2.01</td>\n",
              "    </tr>\n",
              "    <tr>\n",
              "      <th>0</th>\n",
              "      <td>const</td>\n",
              "      <td>1.01</td>\n",
              "    </tr>\n",
              "  </tbody>\n",
              "</table>\n",
              "</div>"
            ],
            "text/plain": [
              "            Features   VIF\n",
              "2        TOEFL Score  3.97\n",
              "1          GRE Score  3.71\n",
              "4                SOP  2.81\n",
              "3  University Rating  2.74\n",
              "5               LOR   2.01\n",
              "0              const  1.01"
            ]
          },
          "execution_count": 95,
          "metadata": {},
          "output_type": "execute_result"
        }
      ],
      "source": [
        "#Calculating the VIF score\n",
        "vif = pd.DataFrame()\n",
        "X_t = pd.DataFrame(X2_sm, columns=X2_sm.columns)\n",
        "vif['Features'] = X_t.columns\n",
        "vif['VIF'] = [variance_inflation_factor(X_t.values, i) for i in range(X_t.shape[1])]\n",
        "vif['VIF'] = round(vif['VIF'], 2)\n",
        "vif = vif.sort_values(by = \"VIF\", ascending = False)\n",
        "vif"
      ]
    },
    {
      "cell_type": "markdown",
      "id": "678d9665-1656-4d64-8c41-c6d57fa4f145",
      "metadata": {
        "id": "678d9665-1656-4d64-8c41-c6d57fa4f145"
      },
      "source": [
        "All the VIF scores are less than 5 which suggests that there's no need to drop any variables in the gives data set."
      ]
    },
    {
      "cell_type": "markdown",
      "id": "e281c095-c965-48b4-aabd-cc3a1daf928b",
      "metadata": {
        "id": "e281c095-c965-48b4-aabd-cc3a1daf928b"
      },
      "source": [
        "#### B. Normality of Residuals & Mean of Residuals"
      ]
    },
    {
      "cell_type": "code",
      "execution_count": null,
      "id": "ecf31218-e666-44e1-a5b0-09490b8d79ac",
      "metadata": {
        "id": "ecf31218-e666-44e1-a5b0-09490b8d79ac",
        "outputId": "b0522f6d-d05c-47d2-e528-a9a0bab70d3d"
      },
      "outputs": [
        {
          "name": "stdout",
          "output_type": "stream",
          "text": [
            "mean of the error           : -3.9968028886505634e-17\n",
            "Std. Deviation of the error : 0.4244874502101084\n"
          ]
        }
      ],
      "source": [
        "#Calculating the error, mean and standard deviation\n",
        "error = y_train_pred - y_train\n",
        "mu = error.mean()\n",
        "sigma = error.std()\n",
        "print(\"mean of the error           :\",mu)\n",
        "print(\"Std. Deviation of the error :\",sigma)"
      ]
    },
    {
      "cell_type": "markdown",
      "id": "97b43681-b00b-4034-8e58-4f5a897498e1",
      "metadata": {
        "id": "97b43681-b00b-4034-8e58-4f5a897498e1"
      },
      "source": [
        "The error is calculated in such a way that predicted y_train values are subtaracted from original y_train values. The **mean of the residuals/error** is **-3.9968028886505634e-17** which is extremely close to 0 which suggests that we have a well-fitted linear regression model."
      ]
    },
    {
      "cell_type": "code",
      "execution_count": null,
      "id": "e7dfa7ac-3fbe-4546-ae8c-5be9a11cde55",
      "metadata": {
        "id": "e7dfa7ac-3fbe-4546-ae8c-5be9a11cde55",
        "outputId": "80d76abf-51f6-44f4-b454-1a26d9f56d0e"
      },
      "outputs": [
        {
          "data": {
            "image/png": "[encoded data removed]",
            "text/plain": [
              "<Figure size 640x480 with 1 Axes>"
            ]
          },
          "metadata": {},
          "output_type": "display_data"
        }
      ],
      "source": [
        "#Plotting the residuals in order to check the normality\n",
        "s = np.random.normal(mu, sigma, 1000)\n",
        "sns.histplot(s)\n",
        "plt.show()"
      ]
    },
    {
      "cell_type": "markdown",
      "id": "3fd1fe96-42de-4c7c-b762-ded1c62f30cc",
      "metadata": {
        "id": "3fd1fe96-42de-4c7c-b762-ded1c62f30cc"
      },
      "source": [
        "The variable **s** represents a NumPy array of 1000 random samples drawn from a normal (Gaussian) distribution where **mu** specifies the center of the distribution and **sigma** specifies measures the spread or dispersion of the distribution."
      ]
    },
    {
      "cell_type": "code",
      "execution_count": null,
      "id": "a13cfb4d-7448-4b3d-bb4f-420c94959484",
      "metadata": {
        "id": "a13cfb4d-7448-4b3d-bb4f-420c94959484",
        "outputId": "884b12b2-1201-42ba-cc0e-65b3e8fab5c6"
      },
      "outputs": [
        {
          "data": {
            "image/png": "[encoded data removed]",
            "text/plain": [
              "<Figure size 640x480 with 1 Axes>"
            ]
          },
          "metadata": {},
          "output_type": "display_data"
        }
      ],
      "source": [
        "#plotting residual plot with respect to the theoretical plot to check the normality\n",
        "sns.histplot(error)\n",
        "sns.histplot(s)\n",
        "plt.show()"
      ]
    },
    {
      "cell_type": "markdown",
      "id": "12f65491-f955-4f20-b4b3-794f80b8c2fc",
      "metadata": {
        "id": "12f65491-f955-4f20-b4b3-794f80b8c2fc"
      },
      "source": [
        "The residual plot is superimposed with the theoretical plot which suggests that the residual data is following almost a normal curve. In conclusion, the residual curve is following a normal distribution."
      ]
    },
    {
      "cell_type": "markdown",
      "id": "7a02f555-0228-4880-b441-827859058a8f",
      "metadata": {
        "id": "7a02f555-0228-4880-b441-827859058a8f"
      },
      "source": [
        "#### C. Hetroskedasticity"
      ]
    },
    {
      "cell_type": "code",
      "execution_count": null,
      "id": "170cfb78-940d-4b45-90eb-36e6517186d7",
      "metadata": {
        "id": "170cfb78-940d-4b45-90eb-36e6517186d7",
        "outputId": "8fa9afb5-fcca-49a9-f1c3-e86ce38c97c6"
      },
      "outputs": [
        {
          "data": {
            "text/plain": [
              "Text(0.5, 1.0, 'Predicted values vs Residuals')"
            ]
          },
          "execution_count": 105,
          "metadata": {},
          "output_type": "execute_result"
        },
        {
          "data": {
            "image/png": "[encoded data removed]",
            "text/plain": [
              "<Figure size 640x480 with 1 Axes>"
            ]
          },
          "metadata": {},
          "output_type": "display_data"
        }
      ],
      "source": [
        "#to check whether the data is heteroskedastic in nature or not\n",
        "sns.scatterplot(x=y_train_pred,y=error)\n",
        "plt.xlabel(\"predicted Chance of Admit\")\n",
        "plt.ylabel(\"Residuals\")\n",
        "plt.title(\"Predicted values vs Residuals\")"
      ]
    },
    {
      "cell_type": "markdown",
      "id": "48e17003-69f8-40f6-8787-3914ff897ebc",
      "metadata": {
        "id": "48e17003-69f8-40f6-8787-3914ff897ebc"
      },
      "source": [
        "The predicted chance of admit (target variable) with respect to residuals does not show a funnel shape which suggests that the data is not heteroskedastic in nature. However, we need further tests in order to crossverify the same."
      ]
    },
    {
      "cell_type": "code",
      "execution_count": null,
      "id": "e8184742-69d7-42aa-a9f6-9d9d9da54aef",
      "metadata": {
        "id": "e8184742-69d7-42aa-a9f6-9d9d9da54aef",
        "outputId": "62110a28-020e-470d-cc64-f2f1146c478a"
      },
      "outputs": [
        {
          "data": {
            "text/plain": [
              "[('F statistic', 0.9518177826782612), ('p-value', 0.634033224056697)]"
            ]
          },
          "execution_count": 107,
          "metadata": {},
          "output_type": "execute_result"
        }
      ],
      "source": [
        "# Performing the Goldfeld-Quandt test to check for Homoscedasticity -\n",
        "H0 = \"The is not heteroskedistic\"\n",
        "Ha = \"The is heteroskedistic\"\n",
        "from statsmodels.compat import lzip\n",
        "import statsmodels.stats.api as sms\n",
        "\n",
        "name = ['F statistic', 'p-value']\n",
        "test = sms.het_goldfeldquandt(y_train, X_train)\n",
        "lzip(name, test)"
      ]
    },
    {
      "cell_type": "code",
      "execution_count": null,
      "id": "f4546764-7663-4944-8cab-5ccc99193472",
      "metadata": {
        "id": "f4546764-7663-4944-8cab-5ccc99193472",
        "outputId": "2aa15283-05b1-4932-a2fd-f530be9954db"
      },
      "outputs": [
        {
          "name": "stdout",
          "output_type": "stream",
          "text": [
            "Failed to reject null hypothesis (Accept H0) : The is not heteroskedistic\n"
          ]
        }
      ],
      "source": [
        "p_value = 0.634033224056697\n",
        "if p_value < 0.05:\n",
        "  print(\"Reject null hypothesis (Accept Ha) :\",Ha)\n",
        "else:\n",
        "  print(\"Failed to reject null hypothesis (Accept H0) :\",H0)"
      ]
    },
    {
      "cell_type": "markdown",
      "id": "6242daca-778b-4811-b8d9-b2cae40e1785",
      "metadata": {
        "id": "6242daca-778b-4811-b8d9-b2cae40e1785"
      },
      "source": [
        "It is concluded by applying the Goldfeld-Quandt test that the given residual plot against predicted target variable is free from heteroskedastic nature"
      ]
    },
    {
      "cell_type": "markdown",
      "id": "9b52f8d7-426b-4bbd-8e9b-5c83032acae5",
      "metadata": {
        "id": "9b52f8d7-426b-4bbd-8e9b-5c83032acae5"
      },
      "source": [
        "#### D. Assumption of Linearity"
      ]
    },
    {
      "cell_type": "code",
      "execution_count": null,
      "id": "7a32e360-f29c-48b5-a957-14a459ec5eb8",
      "metadata": {
        "id": "7a32e360-f29c-48b5-a957-14a459ec5eb8",
        "outputId": "e092ea9e-007d-4a9a-8610-8dd1251675de"
      },
      "outputs": [
        {
          "data": {
            "image/png": "[encoded data removed]",
            "text/plain": [
              "<Figure size 640x480 with 1 Axes>"
            ]
          },
          "metadata": {},
          "output_type": "display_data"
        }
      ],
      "source": [
        "#Checking whether the GRE score and Chance of Admit follows a linear relationship using single variable linear regression.\n",
        "plt.scatter(X_train['GRE Score'], y_train, color='blue', label='Actual Data')\n",
        "XYE = LinearRegression()\n",
        "axe = X_train[['GRE Score']]\n",
        "XYE.fit(axe, y_train)\n",
        "y_GRE_pred = XYE.predict(axe)\n",
        "plt.plot(axe, y_GRE_pred, color='red', label='Prediction Line')\n",
        "plt.xlabel(\"GRE Score\")\n",
        "plt.ylabel(\"Chance of Admit\")\n",
        "plt.title(\"GRE Score vs Chance of Admit\")\n",
        "plt.show()"
      ]
    },
    {
      "cell_type": "markdown",
      "id": "1e3b1e83-d9ee-4f5c-827a-1314d792e5d1",
      "metadata": {
        "id": "1e3b1e83-d9ee-4f5c-827a-1314d792e5d1"
      },
      "source": [
        "The GRE score and Chance of Admit follows a linear relationship."
      ]
    },
    {
      "cell_type": "code",
      "execution_count": null,
      "id": "099365a7-3790-4c13-9bce-679d15cff7d1",
      "metadata": {
        "id": "099365a7-3790-4c13-9bce-679d15cff7d1",
        "outputId": "021af09d-6276-4d72-9b09-e6a805a7c010"
      },
      "outputs": [
        {
          "data": {
            "image/png": "[encoded data removed]",
            "text/plain": [
              "<Figure size 640x480 with 1 Axes>"
            ]
          },
          "metadata": {},
          "output_type": "display_data"
        }
      ],
      "source": [
        "#Checking whether the TOEFL score and Chance of Admit follows a linear relationship using single variable linear regression.\n",
        "plt.scatter(X_train['TOEFL Score'], y_train, color='blue', label='Actual Data')\n",
        "XYE = LinearRegression()\n",
        "axe = X_train[['TOEFL Score']]\n",
        "XYE.fit(axe, y_train)\n",
        "y_GRE_pred = XYE.predict(axe)\n",
        "plt.plot(axe, y_GRE_pred, color='red', label='Prediction Line')\n",
        "plt.xlabel(\"TOEFL Score\")\n",
        "plt.ylabel(\"Chance of Admit\")\n",
        "plt.title(\"TOEFL Score vs Chance of Admit\")\n",
        "plt.show()"
      ]
    },
    {
      "cell_type": "markdown",
      "id": "5f2834d2-c652-4375-bc97-9676f6ee1d91",
      "metadata": {
        "id": "5f2834d2-c652-4375-bc97-9676f6ee1d91"
      },
      "source": [
        "The TOEFL score and Chance of Admit follows a linear relationship."
      ]
    },
    {
      "cell_type": "code",
      "execution_count": null,
      "id": "1ab0c0dc-b91f-49d4-bbcf-cf30dc93cd47",
      "metadata": {
        "id": "1ab0c0dc-b91f-49d4-bbcf-cf30dc93cd47",
        "outputId": "bc10649b-08be-4dc8-da38-ad6e048480b1"
      },
      "outputs": [
        {
          "data": {
            "image/png": "[encoded data removed]",
            "text/plain": [
              "<Figure size 640x480 with 1 Axes>"
            ]
          },
          "metadata": {},
          "output_type": "display_data"
        }
      ],
      "source": [
        "#Checking whether the University Rating and Chance of Admit follows a linear relationship using single variable linear regression.\n",
        "plt.scatter(X_train['University Rating'], y_train, color='blue', label='Actual Data')\n",
        "XYE = LinearRegression()\n",
        "axe = X_train[['University Rating']]\n",
        "XYE.fit(axe, y_train)\n",
        "y_GRE_pred = XYE.predict(axe)\n",
        "plt.plot(axe, y_GRE_pred, color='red', label='Prediction Line')\n",
        "plt.xlabel(\"University Rating\")\n",
        "plt.ylabel(\"Chance of Admit\")\n",
        "plt.title(\"University Rating vs Chance of Admit\")\n",
        "plt.show()"
      ]
    },
    {
      "cell_type": "markdown",
      "id": "2e32c6f4-614d-4b82-a55d-f1716c1a39a4",
      "metadata": {
        "id": "2e32c6f4-614d-4b82-a55d-f1716c1a39a4"
      },
      "source": [
        "The University Rating and Chance of Admit follows almost a linear relationship, however the university rating is a categorical variable with 5 values in it."
      ]
    },
    {
      "cell_type": "code",
      "execution_count": null,
      "id": "16525900-1f6f-4e8a-82e9-7712eaac6b5d",
      "metadata": {
        "id": "16525900-1f6f-4e8a-82e9-7712eaac6b5d",
        "outputId": "7cff3183-a5e3-4700-bebc-f7fd1d8f5deb"
      },
      "outputs": [
        {
          "data": {
            "image/png": "[encoded data removed]",
            "text/plain": [
              "<Figure size 640x480 with 1 Axes>"
            ]
          },
          "metadata": {},
          "output_type": "display_data"
        }
      ],
      "source": [
        "#Checking whether the SOP and Chance of Admit follows a linear relationship using single variable linear regression.\n",
        "plt.scatter(X_train['SOP'], y_train, color='blue', label='Actual Data')\n",
        "XYE = LinearRegression()\n",
        "axe = X_train[['SOP']]\n",
        "XYE.fit(axe, y_train)\n",
        "y_GRE_pred = XYE.predict(axe)\n",
        "plt.plot(axe, y_GRE_pred, color='red', label='Prediction Line')\n",
        "plt.xlabel(\"SOP\")\n",
        "plt.ylabel(\"Chance of Admit\")\n",
        "plt.title(\"SOP vs Chance of Admit\")\n",
        "plt.show()"
      ]
    },
    {
      "cell_type": "markdown",
      "id": "9257dd5b-aafa-467a-a26e-1f467c3cf900",
      "metadata": {
        "id": "9257dd5b-aafa-467a-a26e-1f467c3cf900"
      },
      "source": [
        "The SOP and Chance of Admit follows almost a linear relationship, however the SOP is a categorical variable with 9 values in it."
      ]
    },
    {
      "cell_type": "code",
      "execution_count": null,
      "id": "66b10458-c6a8-4dc2-b279-d7dd72065535",
      "metadata": {
        "id": "66b10458-c6a8-4dc2-b279-d7dd72065535",
        "outputId": "9626bf4d-12d7-4281-c5c2-3ba7836007d8"
      },
      "outputs": [
        {
          "data": {
            "image/png": "[encoded data removed]",
            "text/plain": [
              "<Figure size 640x480 with 1 Axes>"
            ]
          },
          "metadata": {},
          "output_type": "display_data"
        }
      ],
      "source": [
        "#Checking whether the LOR and Chance of Admit follows a linear relationship using single variable linear regression.\n",
        "plt.scatter(X_train['LOR '], y_train, color='blue', label='Actual Data')\n",
        "XYE = LinearRegression()\n",
        "axe = X_train[['LOR ']]\n",
        "XYE.fit(axe, y_train)\n",
        "y_GRE_pred = XYE.predict(axe)\n",
        "plt.plot(axe, y_GRE_pred, color='red', label='Prediction Line')\n",
        "plt.xlabel(\"LOR\")\n",
        "plt.ylabel(\"Chance of Admit\")\n",
        "plt.title(\"LOR vs Chance of Admit\")\n",
        "plt.show()"
      ]
    },
    {
      "cell_type": "markdown",
      "id": "d305a679-1c0c-4f8e-885f-7ce6fba21710",
      "metadata": {
        "id": "d305a679-1c0c-4f8e-885f-7ce6fba21710"
      },
      "source": [
        "The LOR and Chance of Admit follows almost a linear relationship, however the LOR is a categorical variable with 9 values in it."
      ]
    },
    {
      "cell_type": "code",
      "execution_count": null,
      "id": "3cf3b3c0-f0ab-42a0-b1e6-bba18cac6d20",
      "metadata": {
        "id": "3cf3b3c0-f0ab-42a0-b1e6-bba18cac6d20",
        "outputId": "ae4c7b5a-2893-4f86-b965-d57e15ac778e"
      },
      "outputs": [
        {
          "data": {
            "image/png": "[encoded data removed]",
            "text/plain": [
              "<Figure size 640x480 with 1 Axes>"
            ]
          },
          "metadata": {},
          "output_type": "display_data"
        }
      ],
      "source": [
        "#Checking whether the CGPA and Chance of Admit follows a linear relationship using single variable linear regression.\n",
        "plt.scatter(X_train['CGPA'], y_train, color='blue', label='Actual Data')\n",
        "XYE = LinearRegression()\n",
        "axe = X_train[['CGPA']]\n",
        "XYE.fit(axe, y_train)\n",
        "y_GRE_pred = XYE.predict(axe)\n",
        "plt.plot(axe, y_GRE_pred, color='red', label='Prediction Line')\n",
        "plt.xlabel(\"CGPA\")\n",
        "plt.ylabel(\"Chance of Admit\")\n",
        "plt.title(\"CGPA vs Chance of Admit\")\n",
        "plt.show()"
      ]
    },
    {
      "cell_type": "markdown",
      "id": "2089f955-bb58-4841-8d3e-c5831ef9a948",
      "metadata": {
        "id": "2089f955-bb58-4841-8d3e-c5831ef9a948"
      },
      "source": [
        "The CGPA and Chance of Admit follows a linear relationship."
      ]
    },
    {
      "cell_type": "code",
      "execution_count": null,
      "id": "7f95311c-bbe4-4b65-9349-ca1811e97421",
      "metadata": {
        "id": "7f95311c-bbe4-4b65-9349-ca1811e97421",
        "outputId": "01927b5f-a5a0-40f9-82a0-5871a02a693d"
      },
      "outputs": [
        {
          "data": {
            "image/png": "[encoded data removed]",
            "text/plain": [
              "<Figure size 640x480 with 1 Axes>"
            ]
          },
          "metadata": {},
          "output_type": "display_data"
        }
      ],
      "source": [
        "#Checking whether the Research and Chance of Admit follows a linear relationship using single variable linear regression.\n",
        "plt.scatter(X_train['Research'], y_train, color='blue', label='Actual Data')\n",
        "XYE = LinearRegression()\n",
        "axe = X_train[['Research']]\n",
        "XYE.fit(axe, y_train)\n",
        "y_GRE_pred = XYE.predict(axe)\n",
        "plt.plot(axe, y_GRE_pred, color='red', label='Prediction Line')\n",
        "plt.xlabel(\"Research\")\n",
        "plt.ylabel(\"Chance of Admit\")\n",
        "plt.title(\"Research vs Chance of Admit\")\n",
        "plt.show()"
      ]
    },
    {
      "cell_type": "markdown",
      "id": "2f8430a5-c1d5-4197-99e0-4dbc3f3e84ad",
      "metadata": {
        "id": "2f8430a5-c1d5-4197-99e0-4dbc3f3e84ad"
      },
      "source": [
        "The Research and Chance of Admit follows almost a linear relationship, however the Research is a categorical variable with 2 values in it.\n",
        "\n",
        "> To conclude, Assumption of linearity is satisfied by all the features with respect to target variable."
      ]
    },
    {
      "cell_type": "markdown",
      "id": "56cf7a1d-1c24-4a3b-a32a-7c44a23a4428",
      "metadata": {
        "id": "56cf7a1d-1c24-4a3b-a32a-7c44a23a4428"
      },
      "source": [
        "### Lasso Regression : L1 Regularisation"
      ]
    },
    {
      "cell_type": "code",
      "execution_count": null,
      "id": "fa78c212-3095-4a7d-a917-d2253fa585b2",
      "metadata": {
        "id": "fa78c212-3095-4a7d-a917-d2253fa585b2"
      },
      "outputs": [],
      "source": [
        "#importing lasso linear regression model from linear_model\n",
        "from sklearn.linear_model import Lasso"
      ]
    },
    {
      "cell_type": "code",
      "execution_count": null,
      "id": "1fb9a082-b02c-468b-921f-ff8c3781f4bd",
      "metadata": {
        "id": "1fb9a082-b02c-468b-921f-ff8c3781f4bd"
      },
      "outputs": [],
      "source": [
        "#building the lasso model with alpha = 0.001 the regularisation strength\n",
        "lasso_model = Lasso(alpha=0.001)"
      ]
    },
    {
      "cell_type": "code",
      "execution_count": null,
      "id": "70e2c910-4a82-4375-a65b-9b6e4f066cfe",
      "metadata": {
        "id": "70e2c910-4a82-4375-a65b-9b6e4f066cfe",
        "outputId": "646f0445-c4c3-4322-f182-002344bfb002"
      },
      "outputs": [
        {
          "data": {
            "text/html": [
              "<style>#sk-container-id-2 {\n",
              "  /* Definition of color scheme common for light and dark mode */\n",
              "  --sklearn-color-text: black;\n",
              "  --sklearn-color-line: gray;\n",
              "  /* Definition of color scheme for unfitted estimators */\n",
              "  --sklearn-color-unfitted-level-0: #fff5e6;\n",
              "  --sklearn-color-unfitted-level-1: #f6e4d2;\n",
              "  --sklearn-color-unfitted-level-2: #ffe0b3;\n",
              "  --sklearn-color-unfitted-level-3: chocolate;\n",
              "  /* Definition of color scheme for fitted estimators */\n",
              "  --sklearn-color-fitted-level-0: #f0f8ff;\n",
              "  --sklearn-color-fitted-level-1: #d4ebff;\n",
              "  --sklearn-color-fitted-level-2: #b3dbfd;\n",
              "  --sklearn-color-fitted-level-3: cornflowerblue;\n",
              "\n",
              "  /* Specific color for light theme */\n",
              "  --sklearn-color-text-on-default-background: var(--sg-text-color, var(--theme-code-foreground, var(--jp-content-font-color1, black)));\n",
              "  --sklearn-color-background: var(--sg-background-color, var(--theme-background, var(--jp-layout-color0, white)));\n",
              "  --sklearn-color-border-box: var(--sg-text-color, var(--theme-code-foreground, var(--jp-content-font-color1, black)));\n",
              "  --sklearn-color-icon: #696969;\n",
              "\n",
              "  @media (prefers-color-scheme: dark) {\n",
              "    /* Redefinition of color scheme for dark theme */\n",
              "    --sklearn-color-text-on-default-background: var(--sg-text-color, var(--theme-code-foreground, var(--jp-content-font-color1, white)));\n",
              "    --sklearn-color-background: var(--sg-background-color, var(--theme-background, var(--jp-layout-color0, #111)));\n",
              "    --sklearn-color-border-box: var(--sg-text-color, var(--theme-code-foreground, var(--jp-content-font-color1, white)));\n",
              "    --sklearn-color-icon: #878787;\n",
              "  }\n",
              "}\n",
              "\n",
              "#sk-container-id-2 {\n",
              "  color: var(--sklearn-color-text);\n",
              "}\n",
              "\n",
              "#sk-container-id-2 pre {\n",
              "  padding: 0;\n",
              "}\n",
              "\n",
              "#sk-container-id-2 input.sk-hidden--visually {\n",
              "  border: 0;\n",
              "  clip: rect(1px 1px 1px 1px);\n",
              "  clip: rect(1px, 1px, 1px, 1px);\n",
              "  height: 1px;\n",
              "  margin: -1px;\n",
              "  overflow: hidden;\n",
              "  padding: 0;\n",
              "  position: absolute;\n",
              "  width: 1px;\n",
              "}\n",
              "\n",
              "#sk-container-id-2 div.sk-dashed-wrapped {\n",
              "  border: 1px dashed var(--sklearn-color-line);\n",
              "  margin: 0 0.4em 0.5em 0.4em;\n",
              "  box-sizing: border-box;\n",
              "  padding-bottom: 0.4em;\n",
              "  background-color: var(--sklearn-color-background);\n",
              "}\n",
              "\n",
              "#sk-container-id-2 div.sk-container {\n",
              "  /* jupyter's `normalize.less` sets `[hidden] { display: none; }`\n",
              "     but bootstrap.min.css set `[hidden] { display: none !important; }`\n",
              "     so we also need the `!important` here to be able to override the\n",
              "     default hidden behavior on the sphinx rendered scikit-learn.org.\n",
              "     See: https://github.com/scikit-learn/scikit-learn/issues/21755 */\n",
              "  display: inline-block !important;\n",
              "  position: relative;\n",
              "}\n",
              "\n",
              "#sk-container-id-2 div.sk-text-repr-fallback {\n",
              "  display: none;\n",
              "}\n",
              "\n",
              "div.sk-parallel-item,\n",
              "div.sk-serial,\n",
              "div.sk-item {\n",
              "  /* draw centered vertical line to link estimators */\n",
              "  background-image: linear-gradient(var(--sklearn-color-text-on-default-background), var(--sklearn-color-text-on-default-background));\n",
              "  background-size: 2px 100%;\n",
              "  background-repeat: no-repeat;\n",
              "  background-position: center center;\n",
              "}\n",
              "\n",
              "/* Parallel-specific style estimator block */\n",
              "\n",
              "#sk-container-id-2 div.sk-parallel-item::after {\n",
              "  content: \"\";\n",
              "  width: 100%;\n",
              "  border-bottom: 2px solid var(--sklearn-color-text-on-default-background);\n",
              "  flex-grow: 1;\n",
              "}\n",
              "\n",
              "#sk-container-id-2 div.sk-parallel {\n",
              "  display: flex;\n",
              "  align-items: stretch;\n",
              "  justify-content: center;\n",
              "  background-color: var(--sklearn-color-background);\n",
              "  position: relative;\n",
              "}\n",
              "\n",
              "#sk-container-id-2 div.sk-parallel-item {\n",
              "  display: flex;\n",
              "  flex-direction: column;\n",
              "}\n",
              "\n",
              "#sk-container-id-2 div.sk-parallel-item:first-child::after {\n",
              "  align-self: flex-end;\n",
              "  width: 50%;\n",
              "}\n",
              "\n",
              "#sk-container-id-2 div.sk-parallel-item:last-child::after {\n",
              "  align-self: flex-start;\n",
              "  width: 50%;\n",
              "}\n",
              "\n",
              "#sk-container-id-2 div.sk-parallel-item:only-child::after {\n",
              "  width: 0;\n",
              "}\n",
              "\n",
              "/* Serial-specific style estimator block */\n",
              "\n",
              "#sk-container-id-2 div.sk-serial {\n",
              "  display: flex;\n",
              "  flex-direction: column;\n",
              "  align-items: center;\n",
              "  background-color: var(--sklearn-color-background);\n",
              "  padding-right: 1em;\n",
              "  padding-left: 1em;\n",
              "}\n",
              "\n",
              "\n",
              "/* Toggleable style: style used for estimator/Pipeline/ColumnTransformer box that is\n",
              "clickable and can be expanded/collapsed.\n",
              "- Pipeline and ColumnTransformer use this feature and define the default style\n",
              "- Estimators will overwrite some part of the style using the `sk-estimator` class\n",
              "*/\n",
              "\n",
              "/* Pipeline and ColumnTransformer style (default) */\n",
              "\n",
              "#sk-container-id-2 div.sk-toggleable {\n",
              "  /* Default theme specific background. It is overwritten whether we have a\n",
              "  specific estimator or a Pipeline/ColumnTransformer */\n",
              "  background-color: var(--sklearn-color-background);\n",
              "}\n",
              "\n",
              "/* Toggleable label */\n",
              "#sk-container-id-2 label.sk-toggleable__label {\n",
              "  cursor: pointer;\n",
              "  display: block;\n",
              "  width: 100%;\n",
              "  margin-bottom: 0;\n",
              "  padding: 0.5em;\n",
              "  box-sizing: border-box;\n",
              "  text-align: center;\n",
              "}\n",
              "\n",
              "#sk-container-id-2 label.sk-toggleable__label-arrow:before {\n",
              "  /* Arrow on the left of the label */\n",
              "  content: \"▸\";\n",
              "  float: left;\n",
              "  margin-right: 0.25em;\n",
              "  color: var(--sklearn-color-icon);\n",
              "}\n",
              "\n",
              "#sk-container-id-2 label.sk-toggleable__label-arrow:hover:before {\n",
              "  color: var(--sklearn-color-text);\n",
              "}\n",
              "\n",
              "/* Toggleable content - dropdown */\n",
              "\n",
              "#sk-container-id-2 div.sk-toggleable__content {\n",
              "  max-height: 0;\n",
              "  max-width: 0;\n",
              "  overflow: hidden;\n",
              "  text-align: left;\n",
              "  /* unfitted */\n",
              "  background-color: var(--sklearn-color-unfitted-level-0);\n",
              "}\n",
              "\n",
              "#sk-container-id-2 div.sk-toggleable__content.fitted {\n",
              "  /* fitted */\n",
              "  background-color: var(--sklearn-color-fitted-level-0);\n",
              "}\n",
              "\n",
              "#sk-container-id-2 div.sk-toggleable__content pre {\n",
              "  margin: 0.2em;\n",
              "  border-radius: 0.25em;\n",
              "  color: var(--sklearn-color-text);\n",
              "  /* unfitted */\n",
              "  background-color: var(--sklearn-color-unfitted-level-0);\n",
              "}\n",
              "\n",
              "#sk-container-id-2 div.sk-toggleable__content.fitted pre {\n",
              "  /* unfitted */\n",
              "  background-color: var(--sklearn-color-fitted-level-0);\n",
              "}\n",
              "\n",
              "#sk-container-id-2 input.sk-toggleable__control:checked~div.sk-toggleable__content {\n",
              "  /* Expand drop-down */\n",
              "  max-height: 200px;\n",
              "  max-width: 100%;\n",
              "  overflow: auto;\n",
              "}\n",
              "\n",
              "#sk-container-id-2 input.sk-toggleable__control:checked~label.sk-toggleable__label-arrow:before {\n",
              "  content: \"▾\";\n",
              "}\n",
              "\n",
              "/* Pipeline/ColumnTransformer-specific style */\n",
              "\n",
              "#sk-container-id-2 div.sk-label input.sk-toggleable__control:checked~label.sk-toggleable__label {\n",
              "  color: var(--sklearn-color-text);\n",
              "  background-color: var(--sklearn-color-unfitted-level-2);\n",
              "}\n",
              "\n",
              "#sk-container-id-2 div.sk-label.fitted input.sk-toggleable__control:checked~label.sk-toggleable__label {\n",
              "  background-color: var(--sklearn-color-fitted-level-2);\n",
              "}\n",
              "\n",
              "/* Estimator-specific style */\n",
              "\n",
              "/* Colorize estimator box */\n",
              "#sk-container-id-2 div.sk-estimator input.sk-toggleable__control:checked~label.sk-toggleable__label {\n",
              "  /* unfitted */\n",
              "  background-color: var(--sklearn-color-unfitted-level-2);\n",
              "}\n",
              "\n",
              "#sk-container-id-2 div.sk-estimator.fitted input.sk-toggleable__control:checked~label.sk-toggleable__label {\n",
              "  /* fitted */\n",
              "  background-color: var(--sklearn-color-fitted-level-2);\n",
              "}\n",
              "\n",
              "#sk-container-id-2 div.sk-label label.sk-toggleable__label,\n",
              "#sk-container-id-2 div.sk-label label {\n",
              "  /* The background is the default theme color */\n",
              "  color: var(--sklearn-color-text-on-default-background);\n",
              "}\n",
              "\n",
              "/* On hover, darken the color of the background */\n",
              "#sk-container-id-2 div.sk-label:hover label.sk-toggleable__label {\n",
              "  color: var(--sklearn-color-text);\n",
              "  background-color: var(--sklearn-color-unfitted-level-2);\n",
              "}\n",
              "\n",
              "/* Label box, darken color on hover, fitted */\n",
              "#sk-container-id-2 div.sk-label.fitted:hover label.sk-toggleable__label.fitted {\n",
              "  color: var(--sklearn-color-text);\n",
              "  background-color: var(--sklearn-color-fitted-level-2);\n",
              "}\n",
              "\n",
              "/* Estimator label */\n",
              "\n",
              "#sk-container-id-2 div.sk-label label {\n",
              "  font-family: monospace;\n",
              "  font-weight: bold;\n",
              "  display: inline-block;\n",
              "  line-height: 1.2em;\n",
              "}\n",
              "\n",
              "#sk-container-id-2 div.sk-label-container {\n",
              "  text-align: center;\n",
              "}\n",
              "\n",
              "/* Estimator-specific */\n",
              "#sk-container-id-2 div.sk-estimator {\n",
              "  font-family: monospace;\n",
              "  border: 1px dotted var(--sklearn-color-border-box);\n",
              "  border-radius: 0.25em;\n",
              "  box-sizing: border-box;\n",
              "  margin-bottom: 0.5em;\n",
              "  /* unfitted */\n",
              "  background-color: var(--sklearn-color-unfitted-level-0);\n",
              "}\n",
              "\n",
              "#sk-container-id-2 div.sk-estimator.fitted {\n",
              "  /* fitted */\n",
              "  background-color: var(--sklearn-color-fitted-level-0);\n",
              "}\n",
              "\n",
              "/* on hover */\n",
              "#sk-container-id-2 div.sk-estimator:hover {\n",
              "  /* unfitted */\n",
              "  background-color: var(--sklearn-color-unfitted-level-2);\n",
              "}\n",
              "\n",
              "#sk-container-id-2 div.sk-estimator.fitted:hover {\n",
              "  /* fitted */\n",
              "  background-color: var(--sklearn-color-fitted-level-2);\n",
              "}\n",
              "\n",
              "/* Specification for estimator info (e.g. \"i\" and \"?\") */\n",
              "\n",
              "/* Common style for \"i\" and \"?\" */\n",
              "\n",
              ".sk-estimator-doc-link,\n",
              "a:link.sk-estimator-doc-link,\n",
              "a:visited.sk-estimator-doc-link {\n",
              "  float: right;\n",
              "  font-size: smaller;\n",
              "  line-height: 1em;\n",
              "  font-family: monospace;\n",
              "  background-color: var(--sklearn-color-background);\n",
              "  border-radius: 1em;\n",
              "  height: 1em;\n",
              "  width: 1em;\n",
              "  text-decoration: none !important;\n",
              "  margin-left: 1ex;\n",
              "  /* unfitted */\n",
              "  border: var(--sklearn-color-unfitted-level-1) 1pt solid;\n",
              "  color: var(--sklearn-color-unfitted-level-1);\n",
              "}\n",
              "\n",
              ".sk-estimator-doc-link.fitted,\n",
              "a:link.sk-estimator-doc-link.fitted,\n",
              "a:visited.sk-estimator-doc-link.fitted {\n",
              "  /* fitted */\n",
              "  border: var(--sklearn-color-fitted-level-1) 1pt solid;\n",
              "  color: var(--sklearn-color-fitted-level-1);\n",
              "}\n",
              "\n",
              "/* On hover */\n",
              "div.sk-estimator:hover .sk-estimator-doc-link:hover,\n",
              ".sk-estimator-doc-link:hover,\n",
              "div.sk-label-container:hover .sk-estimator-doc-link:hover,\n",
              ".sk-estimator-doc-link:hover {\n",
              "  /* unfitted */\n",
              "  background-color: var(--sklearn-color-unfitted-level-3);\n",
              "  color: var(--sklearn-color-background);\n",
              "  text-decoration: none;\n",
              "}\n",
              "\n",
              "div.sk-estimator.fitted:hover .sk-estimator-doc-link.fitted:hover,\n",
              ".sk-estimator-doc-link.fitted:hover,\n",
              "div.sk-label-container:hover .sk-estimator-doc-link.fitted:hover,\n",
              ".sk-estimator-doc-link.fitted:hover {\n",
              "  /* fitted */\n",
              "  background-color: var(--sklearn-color-fitted-level-3);\n",
              "  color: var(--sklearn-color-background);\n",
              "  text-decoration: none;\n",
              "}\n",
              "\n",
              "/* Span, style for the box shown on hovering the info icon */\n",
              ".sk-estimator-doc-link span {\n",
              "  display: none;\n",
              "  z-index: 9999;\n",
              "  position: relative;\n",
              "  font-weight: normal;\n",
              "  right: .2ex;\n",
              "  padding: .5ex;\n",
              "  margin: .5ex;\n",
              "  width: min-content;\n",
              "  min-width: 20ex;\n",
              "  max-width: 50ex;\n",
              "  color: var(--sklearn-color-text);\n",
              "  box-shadow: 2pt 2pt 4pt #999;\n",
              "  /* unfitted */\n",
              "  background: var(--sklearn-color-unfitted-level-0);\n",
              "  border: .5pt solid var(--sklearn-color-unfitted-level-3);\n",
              "}\n",
              "\n",
              ".sk-estimator-doc-link.fitted span {\n",
              "  /* fitted */\n",
              "  background: var(--sklearn-color-fitted-level-0);\n",
              "  border: var(--sklearn-color-fitted-level-3);\n",
              "}\n",
              "\n",
              ".sk-estimator-doc-link:hover span {\n",
              "  display: block;\n",
              "}\n",
              "\n",
              "/* \"?\"-specific style due to the `<a>` HTML tag */\n",
              "\n",
              "#sk-container-id-2 a.estimator_doc_link {\n",
              "  float: right;\n",
              "  font-size: 1rem;\n",
              "  line-height: 1em;\n",
              "  font-family: monospace;\n",
              "  background-color: var(--sklearn-color-background);\n",
              "  border-radius: 1rem;\n",
              "  height: 1rem;\n",
              "  width: 1rem;\n",
              "  text-decoration: none;\n",
              "  /* unfitted */\n",
              "  color: var(--sklearn-color-unfitted-level-1);\n",
              "  border: var(--sklearn-color-unfitted-level-1) 1pt solid;\n",
              "}\n",
              "\n",
              "#sk-container-id-2 a.estimator_doc_link.fitted {\n",
              "  /* fitted */\n",
              "  border: var(--sklearn-color-fitted-level-1) 1pt solid;\n",
              "  color: var(--sklearn-color-fitted-level-1);\n",
              "}\n",
              "\n",
              "/* On hover */\n",
              "#sk-container-id-2 a.estimator_doc_link:hover {\n",
              "  /* unfitted */\n",
              "  background-color: var(--sklearn-color-unfitted-level-3);\n",
              "  color: var(--sklearn-color-background);\n",
              "  text-decoration: none;\n",
              "}\n",
              "\n",
              "#sk-container-id-2 a.estimator_doc_link.fitted:hover {\n",
              "  /* fitted */\n",
              "  background-color: var(--sklearn-color-fitted-level-3);\n",
              "}\n",
              "</style><div id=\"sk-container-id-2\" class=\"sk-top-container\"><div class=\"sk-text-repr-fallback\"><pre>Lasso(alpha=0.001)</pre><b>In a Jupyter environment, please rerun this cell to show the HTML representation or trust the notebook. <br />On GitHub, the HTML representation is unable to render, please try loading this page with nbviewer.org.</b></div><div class=\"sk-container\" hidden><div class=\"sk-item\"><div class=\"sk-estimator fitted sk-toggleable\"><input class=\"sk-toggleable__control sk-hidden--visually\" id=\"sk-estimator-id-2\" type=\"checkbox\" checked><label for=\"sk-estimator-id-2\" class=\"sk-toggleable__label fitted sk-toggleable__label-arrow fitted\">&nbsp;&nbsp;Lasso<a class=\"sk-estimator-doc-link fitted\" rel=\"noreferrer\" target=\"_blank\" href=\"https://scikit-learn.org/1.4/modules/generated/sklearn.linear_model.Lasso.html\">?<span>Documentation for Lasso</span></a><span class=\"sk-estimator-doc-link fitted\">i<span>Fitted</span></span></label><div class=\"sk-toggleable__content fitted\"><pre>Lasso(alpha=0.001)</pre></div> </div></div></div></div>"
            ],
            "text/plain": [
              "Lasso(alpha=0.001)"
            ]
          },
          "execution_count": 128,
          "metadata": {},
          "output_type": "execute_result"
        }
      ],
      "source": [
        "#fitting the model on the training dataset\n",
        "lasso_model.fit(X_train, y_train)"
      ]
    },
    {
      "cell_type": "code",
      "execution_count": null,
      "id": "810078be-2286-4d71-a0c4-35db21c98904",
      "metadata": {
        "id": "810078be-2286-4d71-a0c4-35db21c98904"
      },
      "outputs": [],
      "source": [
        "#Predicting the target variable.\n",
        "lasso_001_train_predictions = lasso_model.predict(X_train)\n",
        "lasso_001_test_predictions = lasso_model.predict(X_test)"
      ]
    },
    {
      "cell_type": "code",
      "execution_count": null,
      "id": "a25290d1-8025-4503-8201-c228cb4755ba",
      "metadata": {
        "id": "a25290d1-8025-4503-8201-c228cb4755ba",
        "outputId": "83c5a5f2-3620-433a-c50c-2db0d9cbeebb"
      },
      "outputs": [
        {
          "name": "stdout",
          "output_type": "stream",
          "text": [
            "training mse : 0.1797407610338033\n",
            "testing mse  : 0.17412187875254023\n"
          ]
        }
      ],
      "source": [
        "#Calculation of mse\n",
        "lasso_001_mse_train = mean_squared_error(y_train, lasso_001_train_predictions)\n",
        "lasso_001_mse_test = mean_squared_error(y_test, lasso_001_test_predictions)\n",
        "print(\"training mse :\",lasso_001_mse_train)\n",
        "print(\"testing mse  :\",lasso_001_mse_test)"
      ]
    },
    {
      "cell_type": "markdown",
      "id": "a557d81a-1e62-4ea9-a2c9-e9a1c3e131cb",
      "metadata": {
        "id": "a557d81a-1e62-4ea9-a2c9-e9a1c3e131cb"
      },
      "source": [
        "Interpreting the MSE Values: Training MSE: 0.1797 & Testing MSE: 0.1739\n",
        "\n",
        "Inference:\n",
        "\n",
        "> The similar values for training and testing MSE indicate that the model generalizes well and is not overfitting or underfitting.\n",
        "\n",
        "> Both values being relatively low suggests the model is making accurate predictions on both datsets.\n"
      ]
    },
    {
      "cell_type": "code",
      "execution_count": null,
      "id": "cb1c78ea-b367-46e3-8d15-b3f2da7627fd",
      "metadata": {
        "id": "cb1c78ea-b367-46e3-8d15-b3f2da7627fd",
        "outputId": "5872c7be-e9c6-4f1b-c7fc-fc7d87507548"
      },
      "outputs": [
        {
          "name": "stdout",
          "output_type": "stream",
          "text": [
            "training rmse : 0.42395844257875476\n",
            "testing rmse  : 0.4172791376914741\n"
          ]
        }
      ],
      "source": [
        "#Calculation of rmse\n",
        "lasso_001_rmse_train = np.sqrt(lasso_001_mse_train)\n",
        "lasso_001_rmse_test = np.sqrt(lasso_001_mse_test)\n",
        "print(\"training rmse :\",lasso_001_rmse_train)\n",
        "print(\"testing rmse  :\",lasso_001_rmse_test)"
      ]
    },
    {
      "cell_type": "markdown",
      "id": "8fefe8bc-c5d0-4815-9206-90d0d56112db",
      "metadata": {
        "id": "8fefe8bc-c5d0-4815-9206-90d0d56112db"
      },
      "source": [
        "Interpreting the RMSE Values : Training RMSE: 0.424 & Testing RMSE: 0.417\n",
        "\n",
        "Inference:\n",
        "> The similar values for training and testing RMSE indicate the model generalizes well, showing no significant overfitting or underfitting.\n",
        "\n",
        "> The small difference suggests the model performs consistently on unseen data, indicating reliability."
      ]
    },
    {
      "cell_type": "code",
      "execution_count": null,
      "id": "78d5775e-5535-4779-9ddb-c6001216526c",
      "metadata": {
        "id": "78d5775e-5535-4779-9ddb-c6001216526c",
        "outputId": "07554064-62a0-4f6d-a511-299818744c86"
      },
      "outputs": [
        {
          "name": "stdout",
          "output_type": "stream",
          "text": [
            "training r2_score : 0.8215082909938762\n",
            "testing r2_score  : 0.8207406430873778\n"
          ]
        }
      ],
      "source": [
        "#Calculation of r2_score\n",
        "lasso_001_r2_train = lasso_model.score(X_train,y_train)\n",
        "lasso_001_r2_test = lasso_model.score(X_test,y_test)\n",
        "print(\"training r2_score :\",lasso_001_r2_train)\n",
        "print(\"testing r2_score  :\",lasso_001_r2_test)"
      ]
    },
    {
      "cell_type": "markdown",
      "id": "e92cca4c-274e-4464-9dc7-721000be154e",
      "metadata": {
        "id": "e92cca4c-274e-4464-9dc7-721000be154e"
      },
      "source": [
        "Interpreting the R2 Scores : Training R2: 0.821 & Testing R2: 0.820\n",
        "\n",
        "Inference:\n",
        "\n",
        "> Both training and testing R2 score are high and very close, suggesting the model fits the data well and generalizes effectively to unseen data.\n",
        "\n",
        "> The slight difference indicates minimal overfitting, which is desirable in predictive modeling."
      ]
    },
    {
      "cell_type": "code",
      "execution_count": null,
      "id": "036ec38b-0524-489c-ac45-9b7bedd1960f",
      "metadata": {
        "id": "036ec38b-0524-489c-ac45-9b7bedd1960f",
        "outputId": "f2e5a887-0441-4c81-f82a-73df870000c8"
      },
      "outputs": [
        {
          "name": "stdout",
          "output_type": "stream",
          "text": [
            "training adj. r2_score : 0.8183209390473383\n",
            "testing adj. r2_score  : 0.8071013441918522\n"
          ]
        }
      ],
      "source": [
        "#Calculation of adj. r2_score\n",
        "n_train, p = X_train.shape\n",
        "n_test = X_test.shape[0]\n",
        "\n",
        "lasso_001_adj_r2_train = 1 - ((1 - lasso_001_r2_train) * (n_train - 1) / (n_train - p - 1))\n",
        "lasso_001_adj_r2_test = 1 - ((1 - lasso_001_r2_test) * (n_test - 1) / (n_test - p - 1))\n",
        "print(\"training adj. r2_score :\",lasso_001_adj_r2_train)\n",
        "print(\"testing adj. r2_score  :\",lasso_001_adj_r2_test)"
      ]
    },
    {
      "cell_type": "markdown",
      "id": "9fbc1948-4608-4327-962d-049d5ab2d179",
      "metadata": {
        "id": "9fbc1948-4608-4327-962d-049d5ab2d179"
      },
      "source": [
        "Interpreting the Adj. R2 Scores : Training Adj. R2: 0.8183 & Testing Adj. R2: 0.8072\n",
        "\n",
        "Inference:\n",
        "\n",
        "> Both values are high, suggesting a good model fit and the small gap indicates the model generalizes well to test data.\n",
        "\n",
        "> Adjusted R2 is slightly lower than 𝑅2 , reflecting appropriate penalization for model complexity."
      ]
    },
    {
      "cell_type": "markdown",
      "id": "2e389dd2-1462-4564-8b37-75652871f2b0",
      "metadata": {
        "id": "2e389dd2-1462-4564-8b37-75652871f2b0"
      },
      "source": [
        "### Ridge Regression : L2 regularisation"
      ]
    },
    {
      "cell_type": "code",
      "execution_count": null,
      "id": "7bd112ef-ef87-440e-9165-0282ad9e41f1",
      "metadata": {
        "id": "7bd112ef-ef87-440e-9165-0282ad9e41f1"
      },
      "outputs": [],
      "source": [
        "#Importing ridge regression from linear model\n",
        "from sklearn.linear_model import Ridge"
      ]
    },
    {
      "cell_type": "code",
      "execution_count": null,
      "id": "b6c41fe6-86ab-47c2-a441-4d8267ae4d68",
      "metadata": {
        "id": "b6c41fe6-86ab-47c2-a441-4d8267ae4d68"
      },
      "outputs": [],
      "source": [
        "#building the rdge regression model with alpha = 0.001 the regularization strength\n",
        "ridge_model = Ridge(alpha=0.001)"
      ]
    },
    {
      "cell_type": "code",
      "execution_count": null,
      "id": "bef3736f-d9db-4847-bc57-35c5e32efe6d",
      "metadata": {
        "id": "bef3736f-d9db-4847-bc57-35c5e32efe6d",
        "outputId": "77392a70-43f0-4f32-f366-671ca8c9b8ce"
      },
      "outputs": [
        {
          "data": {
            "text/html": [
              "<style>#sk-container-id-3 {\n",
              "  /* Definition of color scheme common for light and dark mode */\n",
              "  --sklearn-color-text: black;\n",
              "  --sklearn-color-line: gray;\n",
              "  /* Definition of color scheme for unfitted estimators */\n",
              "  --sklearn-color-unfitted-level-0: #fff5e6;\n",
              "  --sklearn-color-unfitted-level-1: #f6e4d2;\n",
              "  --sklearn-color-unfitted-level-2: #ffe0b3;\n",
              "  --sklearn-color-unfitted-level-3: chocolate;\n",
              "  /* Definition of color scheme for fitted estimators */\n",
              "  --sklearn-color-fitted-level-0: #f0f8ff;\n",
              "  --sklearn-color-fitted-level-1: #d4ebff;\n",
              "  --sklearn-color-fitted-level-2: #b3dbfd;\n",
              "  --sklearn-color-fitted-level-3: cornflowerblue;\n",
              "\n",
              "  /* Specific color for light theme */\n",
              "  --sklearn-color-text-on-default-background: var(--sg-text-color, var(--theme-code-foreground, var(--jp-content-font-color1, black)));\n",
              "  --sklearn-color-background: var(--sg-background-color, var(--theme-background, var(--jp-layout-color0, white)));\n",
              "  --sklearn-color-border-box: var(--sg-text-color, var(--theme-code-foreground, var(--jp-content-font-color1, black)));\n",
              "  --sklearn-color-icon: #696969;\n",
              "\n",
              "  @media (prefers-color-scheme: dark) {\n",
              "    /* Redefinition of color scheme for dark theme */\n",
              "    --sklearn-color-text-on-default-background: var(--sg-text-color, var(--theme-code-foreground, var(--jp-content-font-color1, white)));\n",
              "    --sklearn-color-background: var(--sg-background-color, var(--theme-background, var(--jp-layout-color0, #111)));\n",
              "    --sklearn-color-border-box: var(--sg-text-color, var(--theme-code-foreground, var(--jp-content-font-color1, white)));\n",
              "    --sklearn-color-icon: #878787;\n",
              "  }\n",
              "}\n",
              "\n",
              "#sk-container-id-3 {\n",
              "  color: var(--sklearn-color-text);\n",
              "}\n",
              "\n",
              "#sk-container-id-3 pre {\n",
              "  padding: 0;\n",
              "}\n",
              "\n",
              "#sk-container-id-3 input.sk-hidden--visually {\n",
              "  border: 0;\n",
              "  clip: rect(1px 1px 1px 1px);\n",
              "  clip: rect(1px, 1px, 1px, 1px);\n",
              "  height: 1px;\n",
              "  margin: -1px;\n",
              "  overflow: hidden;\n",
              "  padding: 0;\n",
              "  position: absolute;\n",
              "  width: 1px;\n",
              "}\n",
              "\n",
              "#sk-container-id-3 div.sk-dashed-wrapped {\n",
              "  border: 1px dashed var(--sklearn-color-line);\n",
              "  margin: 0 0.4em 0.5em 0.4em;\n",
              "  box-sizing: border-box;\n",
              "  padding-bottom: 0.4em;\n",
              "  background-color: var(--sklearn-color-background);\n",
              "}\n",
              "\n",
              "#sk-container-id-3 div.sk-container {\n",
              "  /* jupyter's `normalize.less` sets `[hidden] { display: none; }`\n",
              "     but bootstrap.min.css set `[hidden] { display: none !important; }`\n",
              "     so we also need the `!important` here to be able to override the\n",
              "     default hidden behavior on the sphinx rendered scikit-learn.org.\n",
              "     See: https://github.com/scikit-learn/scikit-learn/issues/21755 */\n",
              "  display: inline-block !important;\n",
              "  position: relative;\n",
              "}\n",
              "\n",
              "#sk-container-id-3 div.sk-text-repr-fallback {\n",
              "  display: none;\n",
              "}\n",
              "\n",
              "div.sk-parallel-item,\n",
              "div.sk-serial,\n",
              "div.sk-item {\n",
              "  /* draw centered vertical line to link estimators */\n",
              "  background-image: linear-gradient(var(--sklearn-color-text-on-default-background), var(--sklearn-color-text-on-default-background));\n",
              "  background-size: 2px 100%;\n",
              "  background-repeat: no-repeat;\n",
              "  background-position: center center;\n",
              "}\n",
              "\n",
              "/* Parallel-specific style estimator block */\n",
              "\n",
              "#sk-container-id-3 div.sk-parallel-item::after {\n",
              "  content: \"\";\n",
              "  width: 100%;\n",
              "  border-bottom: 2px solid var(--sklearn-color-text-on-default-background);\n",
              "  flex-grow: 1;\n",
              "}\n",
              "\n",
              "#sk-container-id-3 div.sk-parallel {\n",
              "  display: flex;\n",
              "  align-items: stretch;\n",
              "  justify-content: center;\n",
              "  background-color: var(--sklearn-color-background);\n",
              "  position: relative;\n",
              "}\n",
              "\n",
              "#sk-container-id-3 div.sk-parallel-item {\n",
              "  display: flex;\n",
              "  flex-direction: column;\n",
              "}\n",
              "\n",
              "#sk-container-id-3 div.sk-parallel-item:first-child::after {\n",
              "  align-self: flex-end;\n",
              "  width: 50%;\n",
              "}\n",
              "\n",
              "#sk-container-id-3 div.sk-parallel-item:last-child::after {\n",
              "  align-self: flex-start;\n",
              "  width: 50%;\n",
              "}\n",
              "\n",
              "#sk-container-id-3 div.sk-parallel-item:only-child::after {\n",
              "  width: 0;\n",
              "}\n",
              "\n",
              "/* Serial-specific style estimator block */\n",
              "\n",
              "#sk-container-id-3 div.sk-serial {\n",
              "  display: flex;\n",
              "  flex-direction: column;\n",
              "  align-items: center;\n",
              "  background-color: var(--sklearn-color-background);\n",
              "  padding-right: 1em;\n",
              "  padding-left: 1em;\n",
              "}\n",
              "\n",
              "\n",
              "/* Toggleable style: style used for estimator/Pipeline/ColumnTransformer box that is\n",
              "clickable and can be expanded/collapsed.\n",
              "- Pipeline and ColumnTransformer use this feature and define the default style\n",
              "- Estimators will overwrite some part of the style using the `sk-estimator` class\n",
              "*/\n",
              "\n",
              "/* Pipeline and ColumnTransformer style (default) */\n",
              "\n",
              "#sk-container-id-3 div.sk-toggleable {\n",
              "  /* Default theme specific background. It is overwritten whether we have a\n",
              "  specific estimator or a Pipeline/ColumnTransformer */\n",
              "  background-color: var(--sklearn-color-background);\n",
              "}\n",
              "\n",
              "/* Toggleable label */\n",
              "#sk-container-id-3 label.sk-toggleable__label {\n",
              "  cursor: pointer;\n",
              "  display: block;\n",
              "  width: 100%;\n",
              "  margin-bottom: 0;\n",
              "  padding: 0.5em;\n",
              "  box-sizing: border-box;\n",
              "  text-align: center;\n",
              "}\n",
              "\n",
              "#sk-container-id-3 label.sk-toggleable__label-arrow:before {\n",
              "  /* Arrow on the left of the label */\n",
              "  content: \"▸\";\n",
              "  float: left;\n",
              "  margin-right: 0.25em;\n",
              "  color: var(--sklearn-color-icon);\n",
              "}\n",
              "\n",
              "#sk-container-id-3 label.sk-toggleable__label-arrow:hover:before {\n",
              "  color: var(--sklearn-color-text);\n",
              "}\n",
              "\n",
              "/* Toggleable content - dropdown */\n",
              "\n",
              "#sk-container-id-3 div.sk-toggleable__content {\n",
              "  max-height: 0;\n",
              "  max-width: 0;\n",
              "  overflow: hidden;\n",
              "  text-align: left;\n",
              "  /* unfitted */\n",
              "  background-color: var(--sklearn-color-unfitted-level-0);\n",
              "}\n",
              "\n",
              "#sk-container-id-3 div.sk-toggleable__content.fitted {\n",
              "  /* fitted */\n",
              "  background-color: var(--sklearn-color-fitted-level-0);\n",
              "}\n",
              "\n",
              "#sk-container-id-3 div.sk-toggleable__content pre {\n",
              "  margin: 0.2em;\n",
              "  border-radius: 0.25em;\n",
              "  color: var(--sklearn-color-text);\n",
              "  /* unfitted */\n",
              "  background-color: var(--sklearn-color-unfitted-level-0);\n",
              "}\n",
              "\n",
              "#sk-container-id-3 div.sk-toggleable__content.fitted pre {\n",
              "  /* unfitted */\n",
              "  background-color: var(--sklearn-color-fitted-level-0);\n",
              "}\n",
              "\n",
              "#sk-container-id-3 input.sk-toggleable__control:checked~div.sk-toggleable__content {\n",
              "  /* Expand drop-down */\n",
              "  max-height: 200px;\n",
              "  max-width: 100%;\n",
              "  overflow: auto;\n",
              "}\n",
              "\n",
              "#sk-container-id-3 input.sk-toggleable__control:checked~label.sk-toggleable__label-arrow:before {\n",
              "  content: \"▾\";\n",
              "}\n",
              "\n",
              "/* Pipeline/ColumnTransformer-specific style */\n",
              "\n",
              "#sk-container-id-3 div.sk-label input.sk-toggleable__control:checked~label.sk-toggleable__label {\n",
              "  color: var(--sklearn-color-text);\n",
              "  background-color: var(--sklearn-color-unfitted-level-2);\n",
              "}\n",
              "\n",
              "#sk-container-id-3 div.sk-label.fitted input.sk-toggleable__control:checked~label.sk-toggleable__label {\n",
              "  background-color: var(--sklearn-color-fitted-level-2);\n",
              "}\n",
              "\n",
              "/* Estimator-specific style */\n",
              "\n",
              "/* Colorize estimator box */\n",
              "#sk-container-id-3 div.sk-estimator input.sk-toggleable__control:checked~label.sk-toggleable__label {\n",
              "  /* unfitted */\n",
              "  background-color: var(--sklearn-color-unfitted-level-2);\n",
              "}\n",
              "\n",
              "#sk-container-id-3 div.sk-estimator.fitted input.sk-toggleable__control:checked~label.sk-toggleable__label {\n",
              "  /* fitted */\n",
              "  background-color: var(--sklearn-color-fitted-level-2);\n",
              "}\n",
              "\n",
              "#sk-container-id-3 div.sk-label label.sk-toggleable__label,\n",
              "#sk-container-id-3 div.sk-label label {\n",
              "  /* The background is the default theme color */\n",
              "  color: var(--sklearn-color-text-on-default-background);\n",
              "}\n",
              "\n",
              "/* On hover, darken the color of the background */\n",
              "#sk-container-id-3 div.sk-label:hover label.sk-toggleable__label {\n",
              "  color: var(--sklearn-color-text);\n",
              "  background-color: var(--sklearn-color-unfitted-level-2);\n",
              "}\n",
              "\n",
              "/* Label box, darken color on hover, fitted */\n",
              "#sk-container-id-3 div.sk-label.fitted:hover label.sk-toggleable__label.fitted {\n",
              "  color: var(--sklearn-color-text);\n",
              "  background-color: var(--sklearn-color-fitted-level-2);\n",
              "}\n",
              "\n",
              "/* Estimator label */\n",
              "\n",
              "#sk-container-id-3 div.sk-label label {\n",
              "  font-family: monospace;\n",
              "  font-weight: bold;\n",
              "  display: inline-block;\n",
              "  line-height: 1.2em;\n",
              "}\n",
              "\n",
              "#sk-container-id-3 div.sk-label-container {\n",
              "  text-align: center;\n",
              "}\n",
              "\n",
              "/* Estimator-specific */\n",
              "#sk-container-id-3 div.sk-estimator {\n",
              "  font-family: monospace;\n",
              "  border: 1px dotted var(--sklearn-color-border-box);\n",
              "  border-radius: 0.25em;\n",
              "  box-sizing: border-box;\n",
              "  margin-bottom: 0.5em;\n",
              "  /* unfitted */\n",
              "  background-color: var(--sklearn-color-unfitted-level-0);\n",
              "}\n",
              "\n",
              "#sk-container-id-3 div.sk-estimator.fitted {\n",
              "  /* fitted */\n",
              "  background-color: var(--sklearn-color-fitted-level-0);\n",
              "}\n",
              "\n",
              "/* on hover */\n",
              "#sk-container-id-3 div.sk-estimator:hover {\n",
              "  /* unfitted */\n",
              "  background-color: var(--sklearn-color-unfitted-level-2);\n",
              "}\n",
              "\n",
              "#sk-container-id-3 div.sk-estimator.fitted:hover {\n",
              "  /* fitted */\n",
              "  background-color: var(--sklearn-color-fitted-level-2);\n",
              "}\n",
              "\n",
              "/* Specification for estimator info (e.g. \"i\" and \"?\") */\n",
              "\n",
              "/* Common style for \"i\" and \"?\" */\n",
              "\n",
              ".sk-estimator-doc-link,\n",
              "a:link.sk-estimator-doc-link,\n",
              "a:visited.sk-estimator-doc-link {\n",
              "  float: right;\n",
              "  font-size: smaller;\n",
              "  line-height: 1em;\n",
              "  font-family: monospace;\n",
              "  background-color: var(--sklearn-color-background);\n",
              "  border-radius: 1em;\n",
              "  height: 1em;\n",
              "  width: 1em;\n",
              "  text-decoration: none !important;\n",
              "  margin-left: 1ex;\n",
              "  /* unfitted */\n",
              "  border: var(--sklearn-color-unfitted-level-1) 1pt solid;\n",
              "  color: var(--sklearn-color-unfitted-level-1);\n",
              "}\n",
              "\n",
              ".sk-estimator-doc-link.fitted,\n",
              "a:link.sk-estimator-doc-link.fitted,\n",
              "a:visited.sk-estimator-doc-link.fitted {\n",
              "  /* fitted */\n",
              "  border: var(--sklearn-color-fitted-level-1) 1pt solid;\n",
              "  color: var(--sklearn-color-fitted-level-1);\n",
              "}\n",
              "\n",
              "/* On hover */\n",
              "div.sk-estimator:hover .sk-estimator-doc-link:hover,\n",
              ".sk-estimator-doc-link:hover,\n",
              "div.sk-label-container:hover .sk-estimator-doc-link:hover,\n",
              ".sk-estimator-doc-link:hover {\n",
              "  /* unfitted */\n",
              "  background-color: var(--sklearn-color-unfitted-level-3);\n",
              "  color: var(--sklearn-color-background);\n",
              "  text-decoration: none;\n",
              "}\n",
              "\n",
              "div.sk-estimator.fitted:hover .sk-estimator-doc-link.fitted:hover,\n",
              ".sk-estimator-doc-link.fitted:hover,\n",
              "div.sk-label-container:hover .sk-estimator-doc-link.fitted:hover,\n",
              ".sk-estimator-doc-link.fitted:hover {\n",
              "  /* fitted */\n",
              "  background-color: var(--sklearn-color-fitted-level-3);\n",
              "  color: var(--sklearn-color-background);\n",
              "  text-decoration: none;\n",
              "}\n",
              "\n",
              "/* Span, style for the box shown on hovering the info icon */\n",
              ".sk-estimator-doc-link span {\n",
              "  display: none;\n",
              "  z-index: 9999;\n",
              "  position: relative;\n",
              "  font-weight: normal;\n",
              "  right: .2ex;\n",
              "  padding: .5ex;\n",
              "  margin: .5ex;\n",
              "  width: min-content;\n",
              "  min-width: 20ex;\n",
              "  max-width: 50ex;\n",
              "  color: var(--sklearn-color-text);\n",
              "  box-shadow: 2pt 2pt 4pt #999;\n",
              "  /* unfitted */\n",
              "  background: var(--sklearn-color-unfitted-level-0);\n",
              "  border: .5pt solid var(--sklearn-color-unfitted-level-3);\n",
              "}\n",
              "\n",
              ".sk-estimator-doc-link.fitted span {\n",
              "  /* fitted */\n",
              "  background: var(--sklearn-color-fitted-level-0);\n",
              "  border: var(--sklearn-color-fitted-level-3);\n",
              "}\n",
              "\n",
              ".sk-estimator-doc-link:hover span {\n",
              "  display: block;\n",
              "}\n",
              "\n",
              "/* \"?\"-specific style due to the `<a>` HTML tag */\n",
              "\n",
              "#sk-container-id-3 a.estimator_doc_link {\n",
              "  float: right;\n",
              "  font-size: 1rem;\n",
              "  line-height: 1em;\n",
              "  font-family: monospace;\n",
              "  background-color: var(--sklearn-color-background);\n",
              "  border-radius: 1rem;\n",
              "  height: 1rem;\n",
              "  width: 1rem;\n",
              "  text-decoration: none;\n",
              "  /* unfitted */\n",
              "  color: var(--sklearn-color-unfitted-level-1);\n",
              "  border: var(--sklearn-color-unfitted-level-1) 1pt solid;\n",
              "}\n",
              "\n",
              "#sk-container-id-3 a.estimator_doc_link.fitted {\n",
              "  /* fitted */\n",
              "  border: var(--sklearn-color-fitted-level-1) 1pt solid;\n",
              "  color: var(--sklearn-color-fitted-level-1);\n",
              "}\n",
              "\n",
              "/* On hover */\n",
              "#sk-container-id-3 a.estimator_doc_link:hover {\n",
              "  /* unfitted */\n",
              "  background-color: var(--sklearn-color-unfitted-level-3);\n",
              "  color: var(--sklearn-color-background);\n",
              "  text-decoration: none;\n",
              "}\n",
              "\n",
              "#sk-container-id-3 a.estimator_doc_link.fitted:hover {\n",
              "  /* fitted */\n",
              "  background-color: var(--sklearn-color-fitted-level-3);\n",
              "}\n",
              "</style><div id=\"sk-container-id-3\" class=\"sk-top-container\"><div class=\"sk-text-repr-fallback\"><pre>Ridge(alpha=0.001)</pre><b>In a Jupyter environment, please rerun this cell to show the HTML representation or trust the notebook. <br />On GitHub, the HTML representation is unable to render, please try loading this page with nbviewer.org.</b></div><div class=\"sk-container\" hidden><div class=\"sk-item\"><div class=\"sk-estimator fitted sk-toggleable\"><input class=\"sk-toggleable__control sk-hidden--visually\" id=\"sk-estimator-id-3\" type=\"checkbox\" checked><label for=\"sk-estimator-id-3\" class=\"sk-toggleable__label fitted sk-toggleable__label-arrow fitted\">&nbsp;&nbsp;Ridge<a class=\"sk-estimator-doc-link fitted\" rel=\"noreferrer\" target=\"_blank\" href=\"https://scikit-learn.org/1.4/modules/generated/sklearn.linear_model.Ridge.html\">?<span>Documentation for Ridge</span></a><span class=\"sk-estimator-doc-link fitted\">i<span>Fitted</span></span></label><div class=\"sk-toggleable__content fitted\"><pre>Ridge(alpha=0.001)</pre></div> </div></div></div></div>"
            ],
            "text/plain": [
              "Ridge(alpha=0.001)"
            ]
          },
          "execution_count": 141,
          "metadata": {},
          "output_type": "execute_result"
        }
      ],
      "source": [
        "#fitting the ridge regression model on the training set\n",
        "ridge_model.fit(X_train, y_train)"
      ]
    },
    {
      "cell_type": "code",
      "execution_count": null,
      "id": "ba893be3-784d-4f91-94a7-579e06952e82",
      "metadata": {
        "id": "ba893be3-784d-4f91-94a7-579e06952e82"
      },
      "outputs": [],
      "source": [
        "#predicting the ridge regression model\n",
        "ridge_001_train_pred = model.predict(X_train)\n",
        "ridge_001_test_pred = model.predict(X_test)"
      ]
    },
    {
      "cell_type": "code",
      "execution_count": null,
      "id": "79e15877-b6c6-49fc-a999-50725e78f5c5",
      "metadata": {
        "id": "79e15877-b6c6-49fc-a999-50725e78f5c5",
        "outputId": "a8778793-7aa6-4f55-ca7e-41c749ef22a3"
      },
      "outputs": [
        {
          "name": "stdout",
          "output_type": "stream",
          "text": [
            "training mse : 0.17973912139741452\n",
            "testing mse  : 0.17399217834898528\n"
          ]
        }
      ],
      "source": [
        "#Calculation of mse\n",
        "ridge_001_mse_train = mean_squared_error(y_train, ridge_001_train_pred)\n",
        "ridge_001_mse_test = mean_squared_error(y_test, ridge_001_test_pred)\n",
        "print(\"training mse :\",ridge_001_mse_train)\n",
        "print(\"testing mse  :\",ridge_001_mse_test)"
      ]
    },
    {
      "cell_type": "markdown",
      "id": "a38dc97e-58e0-4810-a434-6a3795ede0a6",
      "metadata": {
        "id": "a38dc97e-58e0-4810-a434-6a3795ede0a6"
      },
      "source": [
        "Interpreting the MSE Values: Training MSE: 0.1797 & Testing MSE: 0.1739\n",
        "\n",
        "Inference:\n",
        "\n",
        "> The similar values for training and testing MSE indicate that the model generalizes well and is not overfitting or underfitting.\n",
        "\n",
        "> Both values being relatively low suggests the model is making accurate predictions on both datasets."
      ]
    },
    {
      "cell_type": "code",
      "execution_count": null,
      "id": "c787c033-9cd4-4b52-92c4-6d32dd464ac8",
      "metadata": {
        "id": "c787c033-9cd4-4b52-92c4-6d32dd464ac8",
        "outputId": "b444c3a1-a549-468b-fe8f-fdee225d7213"
      },
      "outputs": [
        {
          "name": "stdout",
          "output_type": "stream",
          "text": [
            "training rmse : 0.42395650885133784\n",
            "testing rmse  : 0.41712369670037364\n"
          ]
        }
      ],
      "source": [
        "#Calculation of rmse\n",
        "ridge_001_rmse_train = np.sqrt(ridge_001_mse_train)\n",
        "ridge_001_rmse_test = np.sqrt(ridge_001_mse_test)\n",
        "print(\"training rmse :\",ridge_001_rmse_train)\n",
        "print(\"testing rmse  :\",ridge_001_rmse_test)"
      ]
    },
    {
      "cell_type": "markdown",
      "id": "788dd844-cce5-468c-a7a9-40198036ffe7",
      "metadata": {
        "id": "788dd844-cce5-468c-a7a9-40198036ffe7"
      },
      "source": [
        "Interpreting the RMSE Values: Training RMSE: 0.424 & Testing RMSE: 0.417\n",
        "\n",
        "Inference:\n",
        "\n",
        "> The similar values for training and testing RMSE indicate the model generalizes well, showing no significant overfitting or underfitting.\n",
        "\n",
        "> The small difference suggests the model performs consistently on unseen data, indicating reliability.\n"
      ]
    },
    {
      "cell_type": "code",
      "execution_count": null,
      "id": "6d3357f6-46da-4bbc-a11e-78489ae96d5f",
      "metadata": {
        "id": "6d3357f6-46da-4bbc-a11e-78489ae96d5f",
        "outputId": "77388fd7-4714-476f-adfd-c74786ad05ed"
      },
      "outputs": [
        {
          "name": "stdout",
          "output_type": "stream",
          "text": [
            "training r2_score : 0.8215099192314507\n",
            "testing r2_score  : 0.8208740684919458\n"
          ]
        }
      ],
      "source": [
        "#Calculation of r2_score\n",
        "ridge_001_r2_train = ridge_model.score(X_train,y_train)\n",
        "ridge_001_r2_test = ridge_model.score(X_test,y_test)\n",
        "print(\"training r2_score :\",ridge_001_r2_train)\n",
        "print(\"testing r2_score  :\",ridge_001_r2_test)"
      ]
    },
    {
      "cell_type": "markdown",
      "id": "867a7202-eab1-4e8a-b4ef-d426ebf9febe",
      "metadata": {
        "id": "867a7202-eab1-4e8a-b4ef-d426ebf9febe"
      },
      "source": [
        "Interpreting the R2 Scores : Training R2: 0.82 & Testing R2: 0.82\n",
        "\n",
        "Inference:\n",
        "> Both training and testing R2 score are high and very close, suggesting the model fits the data well and generalizes effectively to unseen data.\n",
        "\n",
        "> The slight difference indicates minimal overfitting, which is desirable in predictive modeling."
      ]
    },
    {
      "cell_type": "code",
      "execution_count": null,
      "id": "a0f373bf-2364-4a2f-bd04-d650f71664f9",
      "metadata": {
        "id": "a0f373bf-2364-4a2f-bd04-d650f71664f9",
        "outputId": "59a757cd-9da5-43cd-e4ca-d65412beed95"
      },
      "outputs": [
        {
          "name": "stdout",
          "output_type": "stream",
          "text": [
            "training adj. r2_score : 0.8183225963605838\n",
            "testing adj. r2_score  : 0.8072449215293764\n"
          ]
        }
      ],
      "source": [
        "#Calculation of adj. r2_score\n",
        "n_train, p = X_train.shape\n",
        "n_test = X_test.shape[0]\n",
        "\n",
        "ridge_001_adj_r2_train = 1 - ((1 - ridge_001_r2_train) * (n_train - 1) / (n_train - p - 1))\n",
        "ridge_001_adj_r2_test = 1 - ((1 - ridge_001_r2_test) * (n_test - 1) / (n_test - p - 1))\n",
        "print(\"training adj. r2_score :\",ridge_001_adj_r2_train)\n",
        "print(\"testing adj. r2_score  :\",ridge_001_adj_r2_test)"
      ]
    },
    {
      "cell_type": "markdown",
      "id": "c6f18516-2f64-4926-ab02-47597c3e64e9",
      "metadata": {
        "id": "c6f18516-2f64-4926-ab02-47597c3e64e9"
      },
      "source": [
        "Interpreting the Adj. R2 Scores : Training Adj. R2: 0.81 & Testing Adj. R2: 0.80.\n",
        "\n",
        "Inference:\n",
        "> Both values are high, suggesting a good model fit and the small gap indicates the model generalizes well to test data.\n",
        "\n",
        "> Adjusted R2 is slightly lower than 𝑅2 , reflecting appropriate penalization for model complexity.\n"
      ]
    },
    {
      "cell_type": "markdown",
      "id": "b2d3ef3e-a518-45cc-98b2-8b4ed2b0d3a2",
      "metadata": {
        "id": "b2d3ef3e-a518-45cc-98b2-8b4ed2b0d3a2"
      },
      "source": [
        "### Lasso Regression with alpha = 1e3"
      ]
    },
    {
      "cell_type": "code",
      "execution_count": null,
      "id": "12cdb033-2dba-4143-9bd2-f086a838d830",
      "metadata": {
        "id": "12cdb033-2dba-4143-9bd2-f086a838d830",
        "outputId": "982da764-e434-4a0a-d411-0d092598f898"
      },
      "outputs": [
        {
          "name": "stdout",
          "output_type": "stream",
          "text": [
            "testing r2_score  : -0.000859904976438175\n"
          ]
        }
      ],
      "source": [
        "#Building lasso regression model with alpha = 1e3\n",
        "lasso_model = Lasso(alpha=1e3)\n",
        "lasso_model.fit(X_train, y_train)\n",
        "lasso_1e3_test_predictions = lasso_model.predict(X_test)\n",
        "lasso_1e3_r2_test = lasso_model.score(X_test,y_test)\n",
        "print(\"testing r2_score  :\",lasso_1e3_r2_test)"
      ]
    },
    {
      "cell_type": "markdown",
      "id": "d82f7810-b71c-4a1a-886e-764b2b9df338",
      "metadata": {
        "id": "d82f7810-b71c-4a1a-886e-764b2b9df338"
      },
      "source": [
        "Increasing the alpha value has decreased the model score."
      ]
    },
    {
      "cell_type": "markdown",
      "id": "9151d734-8b62-46c4-bd72-5e5e9beb3995",
      "metadata": {
        "id": "9151d734-8b62-46c4-bd72-5e5e9beb3995"
      },
      "source": [
        "### Ridge Regression with alpha = 1e3"
      ]
    },
    {
      "cell_type": "code",
      "execution_count": null,
      "id": "e92d0fef-1b2d-4d38-ac7d-8b5ffa6dbeba",
      "metadata": {
        "id": "e92d0fef-1b2d-4d38-ac7d-8b5ffa6dbeba",
        "outputId": "d387aec3-bbf7-4df9-f54f-bf20f4b25e61"
      },
      "outputs": [
        {
          "name": "stdout",
          "output_type": "stream",
          "text": [
            "testing r2_score  : 0.6821101730301878\n"
          ]
        }
      ],
      "source": [
        "#Building ridge regression model with alpha = 1e3\n",
        "ridge_model = Ridge(alpha=1e3)\n",
        "ridge_model.fit(X_train, y_train)\n",
        "ridge_1e3_test_pred = model.predict(X_test)\n",
        "ridge_1e3_r2_test = ridge_model.score(X_test,y_test)\n",
        "print(\"testing r2_score  :\",ridge_1e3_r2_test)"
      ]
    },
    {
      "cell_type": "markdown",
      "id": "5e1d24b9-2643-4781-ae46-3c5266ad42c5",
      "metadata": {
        "id": "5e1d24b9-2643-4781-ae46-3c5266ad42c5"
      },
      "source": [
        "Increasing the alpha value has decreased the model score."
      ]
    },
    {
      "cell_type": "markdown",
      "id": "e8d5ed16-c431-475c-bac1-d86053c67cd2",
      "metadata": {
        "id": "e8d5ed16-c431-475c-bac1-d86053c67cd2"
      },
      "source": [
        "### Actionable Insights & Recommendations"
      ]
    },
    {
      "cell_type": "code",
      "execution_count": null,
      "id": "95d96a0d-1f03-4b28-bda0-65502c57849e",
      "metadata": {
        "id": "95d96a0d-1f03-4b28-bda0-65502c57849e",
        "outputId": "dd2c21ef-1980-4ae2-ee70-679aaad92d44"
      },
      "outputs": [
        {
          "data": {
            "text/html": [
              "<div>\n",
              "<style scoped>\n",
              "    .dataframe tbody tr th:only-of-type {\n",
              "        vertical-align: middle;\n",
              "    }\n",
              "\n",
              "    .dataframe tbody tr th {\n",
              "        vertical-align: top;\n",
              "    }\n",
              "\n",
              "    .dataframe thead th {\n",
              "        text-align: right;\n",
              "    }\n",
              "</style>\n",
              "<table border=\"1\" class=\"dataframe\">\n",
              "  <thead>\n",
              "    <tr style=\"text-align: right;\">\n",
              "      <th></th>\n",
              "      <th>metrics</th>\n",
              "      <th>Linear_regression_train</th>\n",
              "      <th>Linear_regression_test</th>\n",
              "      <th>Lasso_regression_train</th>\n",
              "      <th>Lasso_regression_test</th>\n",
              "      <th>Ridge_regression_train</th>\n",
              "      <th>Ridge_regression_test</th>\n",
              "    </tr>\n",
              "  </thead>\n",
              "  <tbody>\n",
              "    <tr>\n",
              "      <th>0</th>\n",
              "      <td>mse score</td>\n",
              "      <td>0.179739</td>\n",
              "      <td>0.173992</td>\n",
              "      <td>0.179741</td>\n",
              "      <td>0.174122</td>\n",
              "      <td>0.179739</td>\n",
              "      <td>0.173992</td>\n",
              "    </tr>\n",
              "    <tr>\n",
              "      <th>1</th>\n",
              "      <td>rmse score</td>\n",
              "      <td>0.423957</td>\n",
              "      <td>0.417124</td>\n",
              "      <td>0.423958</td>\n",
              "      <td>0.417279</td>\n",
              "      <td>0.423957</td>\n",
              "      <td>0.417124</td>\n",
              "    </tr>\n",
              "    <tr>\n",
              "      <th>2</th>\n",
              "      <td>r2_score</td>\n",
              "      <td>0.821510</td>\n",
              "      <td>0.820874</td>\n",
              "      <td>0.821508</td>\n",
              "      <td>0.820741</td>\n",
              "      <td>0.821510</td>\n",
              "      <td>0.820874</td>\n",
              "    </tr>\n",
              "    <tr>\n",
              "      <th>3</th>\n",
              "      <td>adj. r2_score</td>\n",
              "      <td>0.818323</td>\n",
              "      <td>0.807245</td>\n",
              "      <td>0.818321</td>\n",
              "      <td>0.807101</td>\n",
              "      <td>0.818323</td>\n",
              "      <td>0.807245</td>\n",
              "    </tr>\n",
              "  </tbody>\n",
              "</table>\n",
              "</div>"
            ],
            "text/plain": [
              "         metrics  Linear_regression_train  Linear_regression_test  \\\n",
              "0      mse score                 0.179739                0.173992   \n",
              "1     rmse score                 0.423957                0.417124   \n",
              "2       r2_score                 0.821510                0.820874   \n",
              "3  adj. r2_score                 0.818323                0.807245   \n",
              "\n",
              "   Lasso_regression_train  Lasso_regression_test  Ridge_regression_train  \\\n",
              "0                0.179741               0.174122                0.179739   \n",
              "1                0.423958               0.417279                0.423957   \n",
              "2                0.821508               0.820741                0.821510   \n",
              "3                0.818321               0.807101                0.818323   \n",
              "\n",
              "   Ridge_regression_test  \n",
              "0               0.173992  \n",
              "1               0.417124  \n",
              "2               0.820874  \n",
              "3               0.807245  "
            ]
          },
          "execution_count": 158,
          "metadata": {},
          "output_type": "execute_result"
        }
      ],
      "source": [
        "df = {\n",
        "    'metrics' : ['mse score','rmse score','r2_score','adj. r2_score'],\n",
        "    'Linear_regression_train' : [mse_lr_train,rmse_lr_train,r2_lr_train,adj_lr_r2_train],\n",
        "    'Linear_regression_test' : [mse_lr_test,rmse_lr_test,r2_lr_test,adj_lr_r2_test],\n",
        "    'Lasso_regression_train' : [lasso_001_mse_train,lasso_001_rmse_train,lasso_001_r2_train,lasso_001_adj_r2_train],\n",
        "    'Lasso_regression_test' : [lasso_001_mse_test,lasso_001_rmse_test,lasso_001_r2_test,lasso_001_adj_r2_test],\n",
        "    'Ridge_regression_train' : [ridge_001_mse_train,ridge_001_rmse_train,ridge_001_r2_train,ridge_001_adj_r2_train],\n",
        "    'Ridge_regression_test' : [ridge_001_mse_test,ridge_001_rmse_test,ridge_001_r2_test,ridge_001_adj_r2_test],\n",
        "}\n",
        "df = pd.DataFrame(df)\n",
        "df"
      ]
    },
    {
      "cell_type": "markdown",
      "id": "bccc0f39-343e-4f34-a485-aef1d30b6fda",
      "metadata": {
        "id": "bccc0f39-343e-4f34-a485-aef1d30b6fda"
      },
      "source": [
        "Based on the above metrics we can conclude the following :\n",
        "\n",
        "> Almost all 3 models linear regression, lasso regression with alpha = 0.001 and ridge regression with alpha = 0.001 has shown similar output.\n",
        ">\n",
        "> Increasing the alpha strength in lasso and ridge has shown a significant decrease in the r2_score and adj. r2_score.\n",
        ">\n",
        "> After comparing all three models, we conclude that **linear regression** is the most suitable machine learning model for the Jamboree dataset.\n",
        ">\n",
        "> **Model interpretability** is a critical factor in selecting an ML model, and linear regression provides this advantage.\n",
        ">\n",
        "> In contrast, lasso and ridge regression increase model complexity, making them less ideal for this dataset.\n",
        ">\n",
        "> Furthermore, our linear regression model does not exhibit signs of overfitting or underfitting, providing another reason to eliminate lasso and ridge regression as viable options.\n",
        ">\n",
        "> To enhance the accuracy of our linear regression model, we need a larger dataset for training, as the current one contains only 500 unique records.\n",
        ">\n",
        ">  Additionally, incorporating more relevant features could improve the model's performance, as the existing features include a significant number of categorical variables."
      ]
    }
  ],
  "metadata": {
    "kernelspec": {
      "display_name": "Python 3 (ipykernel)",
      "language": "python",
      "name": "python3"
    },
    "language_info": {
      "codemirror_mode": {
        "name": "ipython",
        "version": 3
      },
      "file_extension": ".py",
      "mimetype": "text/x-python",
      "name": "python",
      "nbconvert_exporter": "python",
      "pygments_lexer": "ipython3",
      "version": "3.12.3"
    },
    "colab": {
      "provenance": [],
      "include_colab_link": true
    }
  },
  "nbformat": 4,
  "nbformat_minor": 5
}